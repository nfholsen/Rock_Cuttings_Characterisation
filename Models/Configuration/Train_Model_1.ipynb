{
 "cells": [
  {
   "cell_type": "code",
   "execution_count": 1,
   "metadata": {},
   "outputs": [],
   "source": [
    "from train import *"
   ]
  },
  {
   "cell_type": "code",
   "execution_count": 2,
   "metadata": {},
   "outputs": [
    {
     "name": "stdout",
     "output_type": "stream",
     "text": [
      "Config file exists\n",
      "Checkpoint file exists\n",
      "Restart at epoch : 6\n",
      "False\n",
      "Dataloader ok !\n",
      "\n",
      "conv1 is frozen\n",
      "bn1 is frozen\n",
      "relu is frozen\n",
      "maxpool is frozen\n",
      "layer1 is frozen\n",
      "layer2 is frozen\n",
      "layer3 is frozen\n",
      "layer4 is frozen\n",
      "avgpool is frozen\n",
      "fc is unfrozen\n",
      "\n",
      "Layers to be trained :\n",
      "\t fc.weight\n",
      "\t fc.bias\n",
      "\n",
      "\n",
      "Device : cuda:0\n",
      "--------------\n",
      "Start training\n",
      "--------------\n",
      "\n",
      "Training complete in 0m 0s\n",
      "Best val Acc: 0.675000\n",
      "conv1 is frozen\n",
      "bn1 is frozen\n",
      "relu is frozen\n",
      "maxpool is frozen\n",
      "layer1 is frozen\n",
      "layer2 is frozen\n",
      "layer3 is frozen\n",
      "layer4 is frozen\n",
      "avgpool is frozen\n",
      "fc is unfrozen\n",
      "\n",
      "Layers to be trained :\n",
      "\t fc.weight\n",
      "\t fc.bias\n",
      "\n",
      "\n",
      "Device : cuda:0\n",
      "--------------\n",
      "Start training\n",
      "--------------\n",
      "\n",
      "Epoch 1/5\n",
      "----------\n",
      "LR: [0.001]\n",
      "Train Loss: 1.0785 Acc: 0.5665\n",
      "Val Loss: 0.9310 Acc: 0.6390\n",
      "\n",
      "Model Saved\n",
      "\n",
      "Epoch 2/5\n",
      "----------\n",
      "LR: [1e-05]\n",
      "Train Loss: 0.8421 Acc: 0.6835\n",
      "Val Loss: 0.8575 Acc: 0.6800\n",
      "\n",
      "Model Saved\n",
      "\n",
      "Epoch 3/5\n",
      "----------\n",
      "LR: [1.0000000000000002e-06]\n",
      "Train Loss: 0.8125 Acc: 0.6855\n",
      "Val Loss: 0.8453 Acc: 0.6820\n",
      "\n",
      "Model Saved\n",
      "\n",
      "Epoch 4/5\n",
      "----------\n",
      "LR: [1.0000000000000002e-07]\n",
      "Train Loss: 0.8327 Acc: 0.6813\n",
      "Val Loss: 0.8532 Acc: 0.6760\n",
      "\n",
      "Model Saved\n",
      "\n",
      "Epoch 5/5\n",
      "----------\n",
      "LR: [1.0000000000000004e-08]\n",
      "Train Loss: 0.8125 Acc: 0.6890\n",
      "Val Loss: 0.8594 Acc: 0.6730\n",
      "\n",
      "Model Saved\n",
      "\n",
      "Training complete in 1m 49s\n",
      "Best val Acc: 0.682000\n"
     ]
    }
   ],
   "source": [
    "main('model_1/inputs.ini')"
   ]
  },
  {
   "cell_type": "code",
   "execution_count": null,
   "metadata": {},
   "outputs": [],
   "source": []
  }
 ],
 "metadata": {
  "kernelspec": {
   "display_name": "Python 3",
   "language": "python",
   "name": "python3"
  },
  "language_info": {
   "codemirror_mode": {
    "name": "ipython",
    "version": 3
   },
   "file_extension": ".py",
   "mimetype": "text/x-python",
   "name": "python",
   "nbconvert_exporter": "python",
   "pygments_lexer": "ipython3",
   "version": "3.7.3"
  }
 },
 "nbformat": 4,
 "nbformat_minor": 4
}
