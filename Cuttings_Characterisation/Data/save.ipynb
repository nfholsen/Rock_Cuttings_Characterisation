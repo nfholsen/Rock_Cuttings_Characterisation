{
 "cells": [
  {
   "cell_type": "code",
   "execution_count": 135,
   "metadata": {},
   "outputs": [],
   "source": [
    "import glob\n",
    "import numpy as np\n",
    "\n",
    "import sys\n",
    "sys.path.append('C:/Users/nilso/Documents/EPFL/MA4/PDS Turberg/Rock_Cuttings_Characterisation/')\n",
    "\n",
    "from Lamp.AttrDict.AttrDict import *\n",
    "from Lamp.preprocessing.preprocessing import * "
   ]
  },
  {
   "cell_type": "code",
   "execution_count": 136,
   "metadata": {},
   "outputs": [
    {
     "name": "stdout",
     "output_type": "stream",
     "text": [
      "{'rootLoad': 'C:/Users/nilso/Documents/EPFL/MA4/PDS Turberg/', 'folderLoad': 'Cuttings_data/ML-V1/', 'rootSave': 'C:/Users/nilso/Documents/EPFL/MA4/PDS Turberg/Rock_Cuttings_Characterisation/Cuttings_Characterisation/', 'folderSave': 'Data/Test/ML-V1/', 'imgTypes': ['/*.tiff', '/*.tif', '/*.png', '/*.jpg', '/*.jpeg']}\n"
     ]
    }
   ],
   "source": [
    "inputs = AttrDict.from_yaml_path('config_files/test_1.yaml')\n",
    "\n",
    "print(inputs)\n",
    "\n",
    "# Load tiff --> Loop to iterate --> Transform (.py file with method to apply) --> Save (dict with folder and name from image.regions)\n",
    "\n",
    "# For dataset : link files with id "
   ]
  },
  {
   "cell_type": "code",
   "execution_count": 138,
   "metadata": {},
   "outputs": [],
   "source": [
    "root_load = inputs.rootLoad\n",
    "folder_to_load = inputs.folderLoad\n",
    "\n",
    "path_load = os.path.dirname(inputs.rootLoad + inputs.folderLoad)\n",
    "\n",
    "path_save = os.path.dirname(inputs.rootSave + inputs.folderSave)\n",
    "\n",
    "files_types = inputs.imgTypes\n",
    "\n",
    "lists_of_files = [glob.glob(path_load + type_) for type_ in files_types]\n",
    "list_of_files = [item for elem in lists_of_files for item in elem]"
   ]
  },
  {
   "cell_type": "code",
   "execution_count": 107,
   "metadata": {},
   "outputs": [],
   "source": [
    "#list_of_files[100:-100:5]"
   ]
  },
  {
   "cell_type": "code",
   "execution_count": 108,
   "metadata": {},
   "outputs": [],
   "source": [
    "image_raw = Image_Raw(list_of_files[439],'unchanged')"
   ]
  },
  {
   "cell_type": "code",
   "execution_count": 109,
   "metadata": {},
   "outputs": [],
   "source": [
    "# First\n",
    "Custom().apply(image = image_raw, thres = Otsu().return_threshold(image_raw))\n",
    "\n",
    "# Second\n",
    "selem = disk(1)\n",
    "Erosion(selem=selem).apply(image_raw)\n",
    "\n",
    "# Third\n",
    "Mask().apply(image_raw)\n",
    "\n",
    "Labelize().apply(image_raw,threshold=1000)\n",
    "\n",
    "# Fourth\n",
    "selem = disk(1)\n",
    "Dilation(selem=selem).apply(image_raw)\n",
    "\n",
    "# Fifth\n",
    "selem = disk(3)\n",
    "Closing(selem=selem).apply_regions(image_raw,2)\n",
    "\n",
    "# Sixth\n",
    "Rescale_Intenstiy().apply_regions(image_raw, in_range=(1,99), out_range = (0,1), background=False)"
   ]
  },
  {
   "cell_type": "code",
   "execution_count": 110,
   "metadata": {},
   "outputs": [
    {
     "name": "stderr",
     "output_type": "stream",
     "text": [
      "C:\\Users\\nilso\\Anaconda3\\lib\\site-packages\\skimage\\util\\dtype.py:525: UserWarning: Downcasting int32 to uint8 without scaling because max value 1 fits in uint8\n",
      "  return _convert(image, np.uint8, force_copy)\n"
     ]
    }
   ],
   "source": [
    "define_regions(image_raw)\n",
    "\n",
    "Resize(out_shape=256).apply_regions(image_raw,type='bbox',name='resized')\n",
    "\n",
    "Resize(out_shape=256).apply_regions(image_raw,type='mar',name='resized')\n",
    "\n",
    "Padding(out_shape=256).apply_regions(image_raw,type='bbox',name='padded')\n",
    "\n",
    "Padding(out_shape=256).apply_regions(image_raw,type='mar',name='padded')\n",
    "\n",
    "# Save \"Raw\" BBOX and MAR\n"
   ]
  },
  {
   "cell_type": "code",
   "execution_count": 113,
   "metadata": {},
   "outputs": [],
   "source": [
    "if os.path.isdir(path_save) is False:\n",
    "        os.mkdir(path_save)"
   ]
  },
  {
   "cell_type": "code",
   "execution_count": 132,
   "metadata": {},
   "outputs": [],
   "source": [
    "def save_to_png(image,path_save,**kwargs):\n",
    "\n",
    "    image_name = image_raw.load_path.split('\\\\')[1].split('.')[0]\n",
    "    \n",
    "    if kwargs:\n",
    "        if 'type' in kwargs:\n",
    "            if 'name' in kwargs:                \n",
    "                for i_, region in enumerate(image.regions):\n",
    "                    imToSave = region[kwargs['type']][kwargs['name']]\n",
    "\n",
    "                    print(path_save + \"/\" + image_name + \"_\" + kwargs['type'] + \"_\" + kwargs['name'] + \"_\" + str(i_+1) + \".png\")\n",
    "\n",
    "            else:\n",
    "                for i_, region in enumerate(image.regions):\n",
    "                    imToSave = region[kwargs['type']]\n",
    "\n",
    "                    print(path_save + \"/\" + image_name + \"_\" + kwargs['type'] + \"_\" + \"raw\" + \"_\" + str(i_+1) + \".png\")\n"
   ]
  },
  {
   "cell_type": "code",
   "execution_count": 133,
   "metadata": {},
   "outputs": [
    {
     "name": "stdout",
     "output_type": "stream",
     "text": [
      "C:/Users/nilso/Documents/EPFL/MA4/PDS Turberg/Rock_Cuttings_Characterisation/Cuttings_Characterisation/Data/Test/ML-V1/slice00439_bbox_raw_1.png\n",
      "C:/Users/nilso/Documents/EPFL/MA4/PDS Turberg/Rock_Cuttings_Characterisation/Cuttings_Characterisation/Data/Test/ML-V1/slice00439_bbox_raw_2.png\n",
      "C:/Users/nilso/Documents/EPFL/MA4/PDS Turberg/Rock_Cuttings_Characterisation/Cuttings_Characterisation/Data/Test/ML-V1/slice00439_bbox_raw_3.png\n",
      "C:/Users/nilso/Documents/EPFL/MA4/PDS Turberg/Rock_Cuttings_Characterisation/Cuttings_Characterisation/Data/Test/ML-V1/slice00439_bbox_raw_4.png\n",
      "C:/Users/nilso/Documents/EPFL/MA4/PDS Turberg/Rock_Cuttings_Characterisation/Cuttings_Characterisation/Data/Test/ML-V1/slice00439_bbox_raw_5.png\n",
      "C:/Users/nilso/Documents/EPFL/MA4/PDS Turberg/Rock_Cuttings_Characterisation/Cuttings_Characterisation/Data/Test/ML-V1/slice00439_bbox_raw_6.png\n",
      "C:/Users/nilso/Documents/EPFL/MA4/PDS Turberg/Rock_Cuttings_Characterisation/Cuttings_Characterisation/Data/Test/ML-V1/slice00439_bbox_raw_7.png\n",
      "C:/Users/nilso/Documents/EPFL/MA4/PDS Turberg/Rock_Cuttings_Characterisation/Cuttings_Characterisation/Data/Test/ML-V1/slice00439_bbox_raw_8.png\n",
      "C:/Users/nilso/Documents/EPFL/MA4/PDS Turberg/Rock_Cuttings_Characterisation/Cuttings_Characterisation/Data/Test/ML-V1/slice00439_bbox_raw_9.png\n"
     ]
    }
   ],
   "source": [
    "save_to_png(image_raw, path_save=path_save, type='bbox')"
   ]
  },
  {
   "cell_type": "code",
   "execution_count": 127,
   "metadata": {},
   "outputs": [
    {
     "name": "stdout",
     "output_type": "stream",
     "text": [
      "C:/Users/nilso/Documents/EPFL/MA4/PDS Turberg/Rock_Cuttings_Characterisation/Cuttings_Characterisation/Data/Test/ML-V1/slice00439_bbox_padded_1.png\n",
      "C:/Users/nilso/Documents/EPFL/MA4/PDS Turberg/Rock_Cuttings_Characterisation/Cuttings_Characterisation/Data/Test/ML-V1/slice00439_bbox_padded_2.png\n",
      "C:/Users/nilso/Documents/EPFL/MA4/PDS Turberg/Rock_Cuttings_Characterisation/Cuttings_Characterisation/Data/Test/ML-V1/slice00439_bbox_padded_3.png\n",
      "C:/Users/nilso/Documents/EPFL/MA4/PDS Turberg/Rock_Cuttings_Characterisation/Cuttings_Characterisation/Data/Test/ML-V1/slice00439_bbox_padded_4.png\n",
      "C:/Users/nilso/Documents/EPFL/MA4/PDS Turberg/Rock_Cuttings_Characterisation/Cuttings_Characterisation/Data/Test/ML-V1/slice00439_bbox_padded_5.png\n",
      "C:/Users/nilso/Documents/EPFL/MA4/PDS Turberg/Rock_Cuttings_Characterisation/Cuttings_Characterisation/Data/Test/ML-V1/slice00439_bbox_padded_6.png\n",
      "C:/Users/nilso/Documents/EPFL/MA4/PDS Turberg/Rock_Cuttings_Characterisation/Cuttings_Characterisation/Data/Test/ML-V1/slice00439_bbox_padded_7.png\n",
      "C:/Users/nilso/Documents/EPFL/MA4/PDS Turberg/Rock_Cuttings_Characterisation/Cuttings_Characterisation/Data/Test/ML-V1/slice00439_bbox_padded_8.png\n",
      "C:/Users/nilso/Documents/EPFL/MA4/PDS Turberg/Rock_Cuttings_Characterisation/Cuttings_Characterisation/Data/Test/ML-V1/slice00439_bbox_padded_9.png\n"
     ]
    }
   ],
   "source": [
    "save_to_png(image_raw, path_save=path_save, type='bbox',name='padded')"
   ]
  },
  {
   "cell_type": "code",
   "execution_count": 128,
   "metadata": {},
   "outputs": [
    {
     "name": "stdout",
     "output_type": "stream",
     "text": [
      "C:/Users/nilso/Documents/EPFL/MA4/PDS Turberg/Rock_Cuttings_Characterisation/Cuttings_Characterisation/Data/Test/ML-V1/slice00439_bbox_resized_1.png\n",
      "C:/Users/nilso/Documents/EPFL/MA4/PDS Turberg/Rock_Cuttings_Characterisation/Cuttings_Characterisation/Data/Test/ML-V1/slice00439_bbox_resized_2.png\n",
      "C:/Users/nilso/Documents/EPFL/MA4/PDS Turberg/Rock_Cuttings_Characterisation/Cuttings_Characterisation/Data/Test/ML-V1/slice00439_bbox_resized_3.png\n",
      "C:/Users/nilso/Documents/EPFL/MA4/PDS Turberg/Rock_Cuttings_Characterisation/Cuttings_Characterisation/Data/Test/ML-V1/slice00439_bbox_resized_4.png\n",
      "C:/Users/nilso/Documents/EPFL/MA4/PDS Turberg/Rock_Cuttings_Characterisation/Cuttings_Characterisation/Data/Test/ML-V1/slice00439_bbox_resized_5.png\n",
      "C:/Users/nilso/Documents/EPFL/MA4/PDS Turberg/Rock_Cuttings_Characterisation/Cuttings_Characterisation/Data/Test/ML-V1/slice00439_bbox_resized_6.png\n",
      "C:/Users/nilso/Documents/EPFL/MA4/PDS Turberg/Rock_Cuttings_Characterisation/Cuttings_Characterisation/Data/Test/ML-V1/slice00439_bbox_resized_7.png\n",
      "C:/Users/nilso/Documents/EPFL/MA4/PDS Turberg/Rock_Cuttings_Characterisation/Cuttings_Characterisation/Data/Test/ML-V1/slice00439_bbox_resized_8.png\n",
      "C:/Users/nilso/Documents/EPFL/MA4/PDS Turberg/Rock_Cuttings_Characterisation/Cuttings_Characterisation/Data/Test/ML-V1/slice00439_bbox_resized_9.png\n"
     ]
    }
   ],
   "source": [
    "save_to_png(image_raw, path_save=path_save, type='bbox',name='resized')"
   ]
  },
  {
   "cell_type": "code",
   "execution_count": 134,
   "metadata": {},
   "outputs": [
    {
     "name": "stdout",
     "output_type": "stream",
     "text": [
      "C:/Users/nilso/Documents/EPFL/MA4/PDS Turberg/Rock_Cuttings_Characterisation/Cuttings_Characterisation/Data/Test/ML-V1/slice00439_mar_raw_1.png\n",
      "C:/Users/nilso/Documents/EPFL/MA4/PDS Turberg/Rock_Cuttings_Characterisation/Cuttings_Characterisation/Data/Test/ML-V1/slice00439_mar_raw_2.png\n",
      "C:/Users/nilso/Documents/EPFL/MA4/PDS Turberg/Rock_Cuttings_Characterisation/Cuttings_Characterisation/Data/Test/ML-V1/slice00439_mar_raw_3.png\n",
      "C:/Users/nilso/Documents/EPFL/MA4/PDS Turberg/Rock_Cuttings_Characterisation/Cuttings_Characterisation/Data/Test/ML-V1/slice00439_mar_raw_4.png\n",
      "C:/Users/nilso/Documents/EPFL/MA4/PDS Turberg/Rock_Cuttings_Characterisation/Cuttings_Characterisation/Data/Test/ML-V1/slice00439_mar_raw_5.png\n",
      "C:/Users/nilso/Documents/EPFL/MA4/PDS Turberg/Rock_Cuttings_Characterisation/Cuttings_Characterisation/Data/Test/ML-V1/slice00439_mar_raw_6.png\n",
      "C:/Users/nilso/Documents/EPFL/MA4/PDS Turberg/Rock_Cuttings_Characterisation/Cuttings_Characterisation/Data/Test/ML-V1/slice00439_mar_raw_7.png\n",
      "C:/Users/nilso/Documents/EPFL/MA4/PDS Turberg/Rock_Cuttings_Characterisation/Cuttings_Characterisation/Data/Test/ML-V1/slice00439_mar_raw_8.png\n",
      "C:/Users/nilso/Documents/EPFL/MA4/PDS Turberg/Rock_Cuttings_Characterisation/Cuttings_Characterisation/Data/Test/ML-V1/slice00439_mar_raw_9.png\n"
     ]
    }
   ],
   "source": [
    "save_to_png(image_raw, path_save=path_save, type='mar')"
   ]
  },
  {
   "cell_type": "code",
   "execution_count": 130,
   "metadata": {},
   "outputs": [
    {
     "name": "stdout",
     "output_type": "stream",
     "text": [
      "C:/Users/nilso/Documents/EPFL/MA4/PDS Turberg/Rock_Cuttings_Characterisation/Cuttings_Characterisation/Data/Test/ML-V1/slice00439_mar_padded_1.png\n",
      "C:/Users/nilso/Documents/EPFL/MA4/PDS Turberg/Rock_Cuttings_Characterisation/Cuttings_Characterisation/Data/Test/ML-V1/slice00439_mar_padded_2.png\n",
      "C:/Users/nilso/Documents/EPFL/MA4/PDS Turberg/Rock_Cuttings_Characterisation/Cuttings_Characterisation/Data/Test/ML-V1/slice00439_mar_padded_3.png\n",
      "C:/Users/nilso/Documents/EPFL/MA4/PDS Turberg/Rock_Cuttings_Characterisation/Cuttings_Characterisation/Data/Test/ML-V1/slice00439_mar_padded_4.png\n",
      "C:/Users/nilso/Documents/EPFL/MA4/PDS Turberg/Rock_Cuttings_Characterisation/Cuttings_Characterisation/Data/Test/ML-V1/slice00439_mar_padded_5.png\n",
      "C:/Users/nilso/Documents/EPFL/MA4/PDS Turberg/Rock_Cuttings_Characterisation/Cuttings_Characterisation/Data/Test/ML-V1/slice00439_mar_padded_6.png\n",
      "C:/Users/nilso/Documents/EPFL/MA4/PDS Turberg/Rock_Cuttings_Characterisation/Cuttings_Characterisation/Data/Test/ML-V1/slice00439_mar_padded_7.png\n",
      "C:/Users/nilso/Documents/EPFL/MA4/PDS Turberg/Rock_Cuttings_Characterisation/Cuttings_Characterisation/Data/Test/ML-V1/slice00439_mar_padded_8.png\n",
      "C:/Users/nilso/Documents/EPFL/MA4/PDS Turberg/Rock_Cuttings_Characterisation/Cuttings_Characterisation/Data/Test/ML-V1/slice00439_mar_padded_9.png\n"
     ]
    }
   ],
   "source": [
    "save_to_png(image_raw, path_save=path_save, type='mar',name='padded')"
   ]
  },
  {
   "cell_type": "code",
   "execution_count": 129,
   "metadata": {},
   "outputs": [
    {
     "name": "stdout",
     "output_type": "stream",
     "text": [
      "C:/Users/nilso/Documents/EPFL/MA4/PDS Turberg/Rock_Cuttings_Characterisation/Cuttings_Characterisation/Data/Test/ML-V1/slice00439_mar_resized_1.png\n",
      "C:/Users/nilso/Documents/EPFL/MA4/PDS Turberg/Rock_Cuttings_Characterisation/Cuttings_Characterisation/Data/Test/ML-V1/slice00439_mar_resized_2.png\n",
      "C:/Users/nilso/Documents/EPFL/MA4/PDS Turberg/Rock_Cuttings_Characterisation/Cuttings_Characterisation/Data/Test/ML-V1/slice00439_mar_resized_3.png\n",
      "C:/Users/nilso/Documents/EPFL/MA4/PDS Turberg/Rock_Cuttings_Characterisation/Cuttings_Characterisation/Data/Test/ML-V1/slice00439_mar_resized_4.png\n",
      "C:/Users/nilso/Documents/EPFL/MA4/PDS Turberg/Rock_Cuttings_Characterisation/Cuttings_Characterisation/Data/Test/ML-V1/slice00439_mar_resized_5.png\n",
      "C:/Users/nilso/Documents/EPFL/MA4/PDS Turberg/Rock_Cuttings_Characterisation/Cuttings_Characterisation/Data/Test/ML-V1/slice00439_mar_resized_6.png\n",
      "C:/Users/nilso/Documents/EPFL/MA4/PDS Turberg/Rock_Cuttings_Characterisation/Cuttings_Characterisation/Data/Test/ML-V1/slice00439_mar_resized_7.png\n",
      "C:/Users/nilso/Documents/EPFL/MA4/PDS Turberg/Rock_Cuttings_Characterisation/Cuttings_Characterisation/Data/Test/ML-V1/slice00439_mar_resized_8.png\n",
      "C:/Users/nilso/Documents/EPFL/MA4/PDS Turberg/Rock_Cuttings_Characterisation/Cuttings_Characterisation/Data/Test/ML-V1/slice00439_mar_resized_9.png\n"
     ]
    }
   ],
   "source": [
    "save_to_png(image_raw, path_save=path_save, type='mar',name='resized')"
   ]
  }
 ],
 "metadata": {
  "interpreter": {
   "hash": "6ecc313d30624b9b9be89b8ae8b54ae9d436219e0253ae413d5b50a036da17b7"
  },
  "kernelspec": {
   "display_name": "Python 3.8.5 64-bit ('base': conda)",
   "name": "python3"
  },
  "language_info": {
   "codemirror_mode": {
    "name": "ipython",
    "version": 3
   },
   "file_extension": ".py",
   "mimetype": "text/x-python",
   "name": "python",
   "nbconvert_exporter": "python",
   "pygments_lexer": "ipython3",
   "version": "3.8.5"
  },
  "orig_nbformat": 4
 },
 "nbformat": 4,
 "nbformat_minor": 2
}
