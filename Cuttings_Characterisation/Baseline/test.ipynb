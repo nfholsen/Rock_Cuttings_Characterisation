{
 "cells": [
  {
   "cell_type": "code",
   "execution_count": 2,
   "metadata": {},
   "outputs": [],
   "source": [
    "import torch\n",
    "import torch.nn as nn\n",
    "import torch.optim as optim\n",
    "from torch.optim.lr_scheduler import _LRScheduler\n",
    "\n",
    "import numpy as np\n",
    "import pandas as pd\n",
    "import matplotlib.pyplot as plt\n",
    "\n",
    "from sklearn.metrics import confusion_matrix, accuracy_score\n",
    "import sys\n",
    "sys.path.append(os.path.abspath(os.path.join(os.getcwd(), '../..')))\n",
    "\n",
    "from Lamp.AttrDict.AttrDict import *\n",
    "from Lamp.Model.Dataloader import *\n",
    "from Lamp.Model.BaseModel import *\n",
    "from Lamp.Model.Baseline import Net as Baseline\n",
    "from Lamp.Model.ResNet import ResNet as ResNet, BasicBlock\n"
   ]
  },
  {
   "cell_type": "code",
   "execution_count": 3,
   "metadata": {},
   "outputs": [],
   "source": [
    "def load_config(cfg_path):\n",
    "    \"\"\"  \"\"\"\n",
    "    if os.path.splitext(cfg_path)[-1] == '.json':\n",
    "        return AttrDict.from_json_path(cfg_path)\n",
    "    elif os.path.splitext(cfg_path)[-1] in ['.yaml', '.yml']:\n",
    "        return AttrDict.from_yaml_path(cfg_path)\n",
    "    else:\n",
    "        raise ValueError(f\"Unsupported config file format. Only '.json', '.yaml' and '.yml' files are supported.\")\n",
    "\n",
    "class Classifier(BaseModelSingle):\n",
    "    def __init__(self, net: nn.Module, opt: Optimizer = None, sched: _LRScheduler = None, \n",
    "        logger: Logger = None, print_progress: bool = True, device: str = 'cuda:0', **kwargs):\n",
    "        super().__init__(net, opt=opt, sched=sched, logger=logger, print_progress=print_progress, device=device, **kwargs)\n",
    "\n",
    "    def forward_loss(self, data: Tuple[Tensor]) -> Tensor:\n",
    "        \"\"\"  \"\"\"\n",
    "        pass\n",
    "\n",
    "    def predict(self, loader):\n",
    "        \"\"\"  \"\"\"\n",
    "        labels = []\n",
    "        self.net.eval()\n",
    "        with torch.no_grad():\n",
    "            for b, data in enumerate(loader):\n",
    "                input, label = data\n",
    "                input = input.to(self.device)\n",
    "                label = label.to(self.device).long()\n",
    "\n",
    "                output = self.net(input)\n",
    "                pred = torch.argmax(output, dim=1)\n",
    "\n",
    "                labels += list(zip(pred.cpu().data.tolist(), label.cpu().data.tolist()))\n",
    "\n",
    "            pred, label = zip(*labels)\n",
    "        #acc = accuracy_score(np.array(label), np.array(pred))\n",
    "\n",
    "        return pred, label\n",
    "\n",
    "dict_transform = {\n",
    "    \"Padding\":Padding,\n",
    "    \"VerticalFlip\":tf.RandomVerticalFlip,\n",
    "    \"HorizontalFlip\":tf.RandomHorizontalFlip,\n",
    "    \"Rotation\":tf.RandomRotation,\n",
    "    \"CenterCrop\":tf.CenterCrop,\n",
    "    \"Resize\":tf.Resize,\n",
    "}"
   ]
  },
  {
   "cell_type": "code",
   "execution_count": 4,
   "metadata": {},
   "outputs": [
    {
     "name": "stdout",
     "output_type": "stream",
     "text": [
      "cuda:0\n",
      "NVIDIA GeForce 940MX\n"
     ]
    }
   ],
   "source": [
    "device = torch.device(\"cuda:0\" if torch.cuda.is_available() else \"cpu\")\n",
    "print(device)\n",
    "print(torch.cuda.get_device_name(device))"
   ]
  },
  {
   "cell_type": "code",
   "execution_count": 5,
   "metadata": {},
   "outputs": [],
   "source": [
    "inputs = load_config(\"../Baseline/config/MAR_BASELINE_PADDED_256_ALL_NEW.yaml\")\n",
    "\n",
    "# Handle file paths\n",
    "root_path = os.path.abspath(os.path.join(os.getcwd(), '..')) # Workspace path to Cuttings_Characterisation \n",
    "path_model = f\"{root_path}/{inputs.PathSave}/{inputs.ModelName}\"\n",
    "path_load_data = f\"{root_path}/{inputs.LoadPathTestBorehole}\" # Path for the .csv file\n",
    "\n",
    "model_name = f\"model_all.pt\"\n",
    "save_model_path = f\"{path_model}/{model_name}\"\n",
    "\n",
    "# Read dataset\n",
    "dataframe = pd.read_csv(path_load_data,index_col=0)\n",
    "\n",
    "\n",
    "net = Baseline()\n",
    "baseline = Classifier(net=net,device=device)\n",
    "baseline.load(save_model_path)\n",
    "\n",
    "transforms_test = Transforms(\n",
    "    [dict_transform[key]([k for k in item.values()] if len(item.values()) > 1 else [k for k in item.values()][0]) for key, item in inputs.TransformTest.items()] \n",
    "    )\n",
    "\n",
    "testDataset = Dataset(\n",
    "        dataframe.reset_index(drop=True),\n",
    "        transforms=transforms_test.get_transforms()\n",
    "        )\n",
    "\n",
    "test_dataloader = torch.utils.data.DataLoader(\n",
    "    testDataset, \n",
    "    batch_size=4,\n",
    "    shuffle=False\n",
    "    )\n",
    "\n",
    "pred, label = baseline.predict(test_dataloader)"
   ]
  },
  {
   "cell_type": "code",
   "execution_count": 6,
   "metadata": {},
   "outputs": [
    {
     "data": {
      "text/plain": [
       "0.5434782608695652"
      ]
     },
     "execution_count": 6,
     "metadata": {},
     "output_type": "execute_result"
    }
   ],
   "source": [
    "accuracy_score(label,pred)"
   ]
  },
  {
   "cell_type": "code",
   "execution_count": null,
   "metadata": {},
   "outputs": [],
   "source": []
  }
 ],
 "metadata": {
  "interpreter": {
   "hash": "c9bc2780ef9c74393fc13b2a6ebbb9325049e7560ec5b3fc49a36900b190151b"
  },
  "kernelspec": {
   "display_name": "Python 3.7.9 64-bit ('TORCH': conda)",
   "language": "python",
   "name": "python3"
  },
  "language_info": {
   "codemirror_mode": {
    "name": "ipython",
    "version": 3
   },
   "file_extension": ".py",
   "mimetype": "text/x-python",
   "name": "python",
   "nbconvert_exporter": "python",
   "pygments_lexer": "ipython3",
   "version": "3.7.9"
  },
  "orig_nbformat": 4
 },
 "nbformat": 4,
 "nbformat_minor": 2
}
