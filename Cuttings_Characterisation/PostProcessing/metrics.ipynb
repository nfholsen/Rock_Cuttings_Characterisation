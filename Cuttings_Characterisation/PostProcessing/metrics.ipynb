{
 "cells": [
  {
   "cell_type": "markdown",
   "metadata": {},
   "source": [
    "### Metrics\n",
    "\n",
    "Compute the confusion matrix for the best model trained on the Laboratory and Borehole dataset. Each model is used to produce predictions for it's corresponding test dataset and the other (Laboratory or Borehole)"
   ]
  },
  {
   "cell_type": "code",
   "execution_count": 8,
   "metadata": {},
   "outputs": [],
   "source": [
    "from pathlib import Path\n",
    "import numpy as np\n",
    "import pandas as pd\n",
    "import random, getopt, os, sys, json\n",
    "\n",
    "import matplotlib.pyplot as plt\n",
    "\n",
    "import torch\n",
    "import torch.nn as nn\n",
    "import torch.optim as optim\n",
    "from torch.optim.lr_scheduler import _LRScheduler\n",
    "\n",
    "from sklearn.metrics import f1_score,confusion_matrix, accuracy_score\n",
    "\n",
    "sys.path.append(os.path.abspath(os.path.join(os.getcwd(), '../..')))\n",
    "\n",
    "from Lamp.AttrDict.AttrDict import *\n",
    "from Lamp.Model.Dataloader import *\n",
    "from Lamp.Model.BaseModel import *\n",
    "from Lamp.Model.ResNet import *"
   ]
  },
  {
   "cell_type": "code",
   "execution_count": 9,
   "metadata": {},
   "outputs": [],
   "source": [
    "def set_seed(seed):\n",
    "    \"\"\" Set the random seed \"\"\"\n",
    "    random.seed(seed)\n",
    "    np.random.seed(seed)\n",
    "    torch.manual_seed(seed)\n",
    "    torch.cuda.manual_seed(seed)\n",
    "    torch.cuda.manual_seed_all(seed)\n",
    "\n",
    "def load_config(cfg_path):\n",
    "    \"\"\"  \"\"\"\n",
    "    if os.path.splitext(cfg_path)[-1] == '.json':\n",
    "        return AttrDict.from_json_path(cfg_path)\n",
    "    elif os.path.splitext(cfg_path)[-1] in ['.yaml', '.yml']:\n",
    "        return AttrDict.from_yaml_path(cfg_path)\n",
    "    else:\n",
    "        raise ValueError(f\"Unsupported config file format. Only '.json', '.yaml' and '.yml' files are supported.\")\n",
    "\n",
    "def resnet(layers=[3, 4, 6, 3],channels=3, num_classes=1000):\n",
    "    model = ResNet(BasicBlock,layers,channels=channels,num_classes=num_classes)\n",
    "    return model\n",
    "\n",
    "class Classifier(BaseModelSingle):\n",
    "    def __init__(self, net: nn.Module, opt: Optimizer = None, sched: _LRScheduler = None, \n",
    "        logger: Logger = None, print_progress: bool = True, device: str = 'cuda:0', **kwargs):\n",
    "        super().__init__(net, opt=opt, sched=sched, logger=logger, print_progress=print_progress, device=device, **kwargs)\n",
    "\n",
    "    def forward_loss(self, data: Tuple[Tensor]) -> Tensor:\n",
    "        \"\"\"  \"\"\"\n",
    "        pass\n",
    "\n",
    "    def predict(self, loader):\n",
    "        \"\"\"  \"\"\"\n",
    "        labels = []\n",
    "        self.net.eval()\n",
    "        with torch.no_grad():\n",
    "            for b, data in enumerate(loader):\n",
    "                input, label = data\n",
    "                input = input.to(self.device)\n",
    "                label = label.to(self.device).long()\n",
    "\n",
    "                output = self.net(input)\n",
    "                pred = torch.argmax(output, dim=1)\n",
    "\n",
    "                labels += list(zip(pred.cpu().data.tolist(), label.cpu().data.tolist()))\n",
    "\n",
    "            pred, label = zip(*labels)\n",
    "            \n",
    "        return pred, label\n",
    "\n",
    "def plot_confusion_matrix(y_true, y_pred, classes,\n",
    "                          normalize=False,\n",
    "                          title=None,\n",
    "                          cmap=plt.cm.Blues):\n",
    "\n",
    "    cm = confusion_matrix(y_true, y_pred,normalize=\"true\") if normalize else confusion_matrix(y_true, y_pred)\n",
    "\n",
    "    cm_all = confusion_matrix(y_true, y_pred)\n",
    "    # Only use the labels that appear in the data\n",
    "    #classes = classes[unique_labels(y_true, y_pred)]\n",
    "\n",
    "    fig, ax = plt.subplots()\n",
    "    im = ax.imshow(cm, interpolation='nearest', cmap=cmap)\n",
    "        \n",
    "    bottom, top = ax.get_ylim()\n",
    "    \n",
    "    # We want to show all ticks...\n",
    "    ax.set(xticks=np.arange(cm.shape[1]),\n",
    "           yticks=np.arange(cm.shape[0]),\n",
    "           # ... and label them with the respective list entries\n",
    "           xticklabels=classes, yticklabels=classes,\n",
    "           title=title,\n",
    "           ylabel='True label',\n",
    "           xlabel='Predicted label')\n",
    "    ax.set_ylim(bottom, top)\n",
    "    # Rotate the tick labels and set their alignment.\n",
    "    plt.setp(ax.get_xticklabels(), rotation=45, ha=\"right\",\n",
    "             rotation_mode=\"anchor\")\n",
    "\n",
    "    # Loop over data dimensions and create text annotations.\n",
    "    fmt = '.2f' if normalize else 'd'\n",
    "    thresh = cm.max() / 2.\n",
    "    for i in range(cm.shape[0]):\n",
    "        for j in range(cm.shape[1]):\n",
    "            ax.text(j, i, format(cm[i, j], fmt),\n",
    "                    ha=\"center\", va=\"center\",\n",
    "                    color=\"white\" if cm[i, j] > thresh else \"black\")\n",
    "        ax.text(cm.shape[0] + 0.5, i, cm_all.sum(axis=1)[i],\n",
    "                ha=\"center\", va=\"center\")\n",
    "    ax.text(cm.shape[0] + 0.5, -1, \"N Samples\",\n",
    "            ha=\"center\", va=\"center\")\n",
    "    fig.tight_layout()\n",
    "    plt.grid(False)\n",
    "    return ax"
   ]
  },
  {
   "cell_type": "markdown",
   "metadata": {},
   "source": [
    "### Test Borehole\n",
    "\n",
    "The cuttings that the model needs to predict is the `train_test_test_mar.csv`"
   ]
  },
  {
   "cell_type": "code",
   "execution_count": 10,
   "metadata": {},
   "outputs": [],
   "source": [
    "def predict(inputs,file_data,model_name):\n",
    "        \n",
    "        ### Handle config_file inputs ###\n",
    "        seed = int(inputs.Seed)\n",
    "        layers = inputs.Model.Layers # [3, 4, 6, 3] for ResNet34 and [2, 2, 2, 2] for ResNet18\n",
    "        classes = inputs.Model.OutClasses\n",
    "        channels = inputs.Model.Channels\n",
    "\n",
    "        ### Handle file paths ###\n",
    "        root_path = os.path.abspath(os.path.join(os.getcwd(), '..')) # Workspace path to Cuttings_Characterisation \n",
    "\n",
    "        path_model = f\"{root_path}/{inputs.PathSave}/{inputs.ModelName}\"\n",
    "        save_model_path = f\"{path_model}/{model_name}\" # The path to load the model\n",
    "\n",
    "        path_load_data = f\"{root_path}/{file_data}\" # Path for the .csv file\n",
    "\n",
    "        ### Config of the model ###\n",
    "        # Seed\n",
    "        set_seed(seed)\n",
    "\n",
    "        # Pytorch device\n",
    "        device = torch.device(\"cuda:0\" if torch.cuda.is_available() else \"cpu\")\n",
    "        print(device)\n",
    "        print(torch.cuda.get_device_name(device))\n",
    "\n",
    "        # Read dataset\n",
    "        dataframe = pd.read_csv(path_load_data,index_col=0)\n",
    "\n",
    "        # Transforms (other than MinMaxNorm and ToTensor)\n",
    "        dict_transform = {\n",
    "                \"Padding\":Padding,\n",
    "                \"CenterCrop\":tf.CenterCrop,\n",
    "                \"Resize\":tf.Resize,\n",
    "                }\n",
    "\n",
    "        transforms_test = Transforms(\n",
    "                [dict_transform[key]([k for k in item.values()] if len(item.values()) > 1 else [k for k in item.values()][0]) for key, item in inputs.TransformTest.items()] \n",
    "                )\n",
    "\n",
    "        testDataset = Dataset(\n",
    "                dataframe.reset_index(drop=True),\n",
    "                transforms=transforms_test.get_transforms()\n",
    "                )\n",
    "\n",
    "        test_dataloader = torch.utils.data.DataLoader(\n",
    "                testDataset, \n",
    "                batch_size=4,\n",
    "                shuffle=False\n",
    "                )\n",
    "\n",
    "        # Initialisation of the model\n",
    "        net = resnet(layers=layers,channels=channels,num_classes=classes)\n",
    "\n",
    "        classifier = Classifier(\n",
    "                net=net, \n",
    "                device=device\n",
    "                )\n",
    "\n",
    "        # Assign pre-trained weigths\n",
    "        classifier.load(save_model_path)\n",
    "\n",
    "        ### Predict the labels ###\n",
    "        pred, label = classifier.predict(test_dataloader)\n",
    "\n",
    "        return pred, label"
   ]
  },
  {
   "cell_type": "code",
   "execution_count": 5,
   "metadata": {},
   "outputs": [],
   "source": [
    "# Load config file\n",
    "ifile = \"../Models/config/MAR_RESNET18_PADDED_128_lab_train.yaml\"\n",
    "\n",
    "file_data = 'Dataset/lab/test_mar_2.csv'\n",
    "model_name = f\"model_2.pt\"\n",
    "\n",
    "file_metrics = './validation.json'\n",
    "\n",
    "def add_metric(ifile,file_data,model_name,file_metrics):\n",
    "    inputs = load_config(ifile)\n",
    "\n",
    "    pred, label = predict(inputs,file_data,model_name)\n",
    "\n",
    "    # check that output file exists\n",
    "    if os.path.isfile(file_metrics):\n",
    "        dict_acc_scores = AttrDict.from_json_path(file_metrics)\n",
    "    else: \n",
    "        dict_acc_scores = {}\n",
    "\n",
    "    if inputs.ModelName in dict_acc_scores.keys():\n",
    "        dict_acc_scores[inputs.ModelName].append(accuracy_score(label,pred))\n",
    "    else :\n",
    "        dict_acc_scores[inputs.ModelName] = [accuracy_score(label,pred)]\n",
    "\n",
    "    AttrDict.from_nested_dicts(dict_acc_scores).to_json(file_metrics)"
   ]
  },
  {
   "cell_type": "code",
   "execution_count": 7,
   "metadata": {},
   "outputs": [
    {
     "name": "stdout",
     "output_type": "stream",
     "text": [
      "cuda:0\n",
      "NVIDIA GeForce 940MX\n"
     ]
    },
    {
     "ename": "NameError",
     "evalue": "name 'self' is not defined",
     "output_type": "error",
     "traceback": [
      "\u001b[1;31m---------------------------------------------------------------------------\u001b[0m",
      "\u001b[1;31mNameError\u001b[0m                                 Traceback (most recent call last)",
      "\u001b[1;32m<ipython-input-7-fb00dda21f49>\u001b[0m in \u001b[0;36m<module>\u001b[1;34m\u001b[0m\n\u001b[0;32m      3\u001b[0m     \u001b[0mfile_data\u001b[0m\u001b[1;33m=\u001b[0m\u001b[0mfile_data\u001b[0m\u001b[1;33m,\u001b[0m\u001b[1;33m\u001b[0m\u001b[1;33m\u001b[0m\u001b[0m\n\u001b[0;32m      4\u001b[0m     \u001b[0mmodel_name\u001b[0m\u001b[1;33m=\u001b[0m\u001b[0mmodel_name\u001b[0m\u001b[1;33m,\u001b[0m\u001b[1;33m\u001b[0m\u001b[1;33m\u001b[0m\u001b[0m\n\u001b[1;32m----> 5\u001b[1;33m     \u001b[0mfile_metrics\u001b[0m\u001b[1;33m=\u001b[0m\u001b[0mfile_metrics\u001b[0m\u001b[1;33m\u001b[0m\u001b[1;33m\u001b[0m\u001b[0m\n\u001b[0m\u001b[0;32m      6\u001b[0m     )\n",
      "\u001b[1;32m<ipython-input-5-9e4c002d7beb>\u001b[0m in \u001b[0;36madd_metric\u001b[1;34m(ifile, file_data, model_name, file_metrics)\u001b[0m\n\u001b[0;32m     23\u001b[0m         \u001b[0mdict_acc_scores\u001b[0m\u001b[1;33m[\u001b[0m\u001b[0minputs\u001b[0m\u001b[1;33m.\u001b[0m\u001b[0mModelName\u001b[0m\u001b[1;33m]\u001b[0m \u001b[1;33m=\u001b[0m \u001b[1;33m[\u001b[0m\u001b[0maccuracy_score\u001b[0m\u001b[1;33m(\u001b[0m\u001b[0mlabel\u001b[0m\u001b[1;33m,\u001b[0m\u001b[0mpred\u001b[0m\u001b[1;33m)\u001b[0m\u001b[1;33m]\u001b[0m\u001b[1;33m\u001b[0m\u001b[1;33m\u001b[0m\u001b[0m\n\u001b[0;32m     24\u001b[0m \u001b[1;33m\u001b[0m\u001b[0m\n\u001b[1;32m---> 25\u001b[1;33m     \u001b[0mAttrDict\u001b[0m\u001b[1;33m.\u001b[0m\u001b[0mfrom_nested_dicts\u001b[0m\u001b[1;33m(\u001b[0m\u001b[0mdict_acc_scores\u001b[0m\u001b[1;33m)\u001b[0m\u001b[1;33m.\u001b[0m\u001b[0mto_json\u001b[0m\u001b[1;33m(\u001b[0m\u001b[0mfile_metrics\u001b[0m\u001b[1;33m)\u001b[0m\u001b[1;33m\u001b[0m\u001b[1;33m\u001b[0m\u001b[0m\n\u001b[0m",
      "\u001b[1;32mc:\\Users\\nilso\\Documents\\EPFL\\MA4\\PDS Turberg\\Rock_Cuttings_Characterisation\\Lamp\\AttrDict\\AttrDict.py\u001b[0m in \u001b[0;36mto_json\u001b[1;34m(self, path)\u001b[0m\n\u001b[0;32m     63\u001b[0m         \u001b[1;32massert\u001b[0m \u001b[0mos\u001b[0m\u001b[1;33m.\u001b[0m\u001b[0mpath\u001b[0m\u001b[1;33m.\u001b[0m\u001b[0misdir\u001b[0m\u001b[1;33m(\u001b[0m\u001b[0mos\u001b[0m\u001b[1;33m.\u001b[0m\u001b[0mpath\u001b[0m\u001b[1;33m.\u001b[0m\u001b[0mdirname\u001b[0m\u001b[1;33m(\u001b[0m\u001b[0mpath\u001b[0m\u001b[1;33m)\u001b[0m\u001b[1;33m)\u001b[0m\u001b[1;33m,\u001b[0m \u001b[1;34mf'Path {os.path.dirname(path)} does not exist.'\u001b[0m\u001b[1;33m\u001b[0m\u001b[1;33m\u001b[0m\u001b[0m\n\u001b[0;32m     64\u001b[0m         \u001b[1;32mwith\u001b[0m \u001b[0mopen\u001b[0m\u001b[1;33m(\u001b[0m\u001b[0mpath\u001b[0m\u001b[1;33m,\u001b[0m \u001b[1;34m'w'\u001b[0m\u001b[1;33m)\u001b[0m \u001b[1;32mas\u001b[0m \u001b[0mfn\u001b[0m\u001b[1;33m:\u001b[0m\u001b[1;33m\u001b[0m\u001b[1;33m\u001b[0m\u001b[0m\n\u001b[1;32m---> 65\u001b[1;33m             \u001b[0mjson\u001b[0m\u001b[1;33m.\u001b[0m\u001b[0mdump\u001b[0m\u001b[1;33m(\u001b[0m\u001b[0mself\u001b[0m\u001b[1;33m.\u001b[0m\u001b[0mas_json_proof\u001b[0m\u001b[1;33m(\u001b[0m\u001b[0mself\u001b[0m\u001b[1;33m)\u001b[0m\u001b[1;33m,\u001b[0m \u001b[0mfn\u001b[0m\u001b[1;33m)\u001b[0m\u001b[1;33m\u001b[0m\u001b[1;33m\u001b[0m\u001b[0m\n\u001b[0m\u001b[0;32m     66\u001b[0m \u001b[1;33m\u001b[0m\u001b[0m\n\u001b[0;32m     67\u001b[0m     \u001b[1;33m@\u001b[0m\u001b[0mstaticmethod\u001b[0m\u001b[1;33m\u001b[0m\u001b[1;33m\u001b[0m\u001b[0m\n",
      "\u001b[1;32mc:\\Users\\nilso\\Documents\\EPFL\\MA4\\PDS Turberg\\Rock_Cuttings_Characterisation\\Lamp\\AttrDict\\AttrDict.py\u001b[0m in \u001b[0;36mas_json_proof\u001b[1;34m(d)\u001b[0m\n\u001b[0;32m     52\u001b[0m \u001b[1;33m\u001b[0m\u001b[0m\n\u001b[0;32m     53\u001b[0m         \u001b[1;32mif\u001b[0m \u001b[0misinstance\u001b[0m\u001b[1;33m(\u001b[0m\u001b[0md\u001b[0m\u001b[1;33m,\u001b[0m \u001b[0mdict\u001b[0m\u001b[1;33m)\u001b[0m\u001b[1;33m:\u001b[0m\u001b[1;33m\u001b[0m\u001b[1;33m\u001b[0m\u001b[0m\n\u001b[1;32m---> 54\u001b[1;33m             \u001b[1;32mreturn\u001b[0m \u001b[1;33m{\u001b[0m\u001b[0mk\u001b[0m\u001b[1;33m:\u001b[0m \u001b[0mself\u001b[0m\u001b[1;33m.\u001b[0m\u001b[0mas_json_proof\u001b[0m\u001b[1;33m(\u001b[0m\u001b[0mv\u001b[0m\u001b[1;33m)\u001b[0m \u001b[1;32mfor\u001b[0m \u001b[0mk\u001b[0m\u001b[1;33m,\u001b[0m \u001b[0mv\u001b[0m \u001b[1;32min\u001b[0m \u001b[0md\u001b[0m\u001b[1;33m.\u001b[0m\u001b[0mitems\u001b[0m\u001b[1;33m(\u001b[0m\u001b[1;33m)\u001b[0m\u001b[1;33m}\u001b[0m\u001b[1;33m\u001b[0m\u001b[1;33m\u001b[0m\u001b[0m\n\u001b[0m\u001b[0;32m     55\u001b[0m         \u001b[1;32melse\u001b[0m\u001b[1;33m:\u001b[0m\u001b[1;33m\u001b[0m\u001b[1;33m\u001b[0m\u001b[0m\n\u001b[0;32m     56\u001b[0m             \u001b[1;32mif\u001b[0m \u001b[1;32mnot\u001b[0m \u001b[0mis_jsonable\u001b[0m\u001b[1;33m(\u001b[0m\u001b[0md\u001b[0m\u001b[1;33m)\u001b[0m\u001b[1;33m:\u001b[0m\u001b[1;33m\u001b[0m\u001b[1;33m\u001b[0m\u001b[0m\n",
      "\u001b[1;32mc:\\Users\\nilso\\Documents\\EPFL\\MA4\\PDS Turberg\\Rock_Cuttings_Characterisation\\Lamp\\AttrDict\\AttrDict.py\u001b[0m in \u001b[0;36m<dictcomp>\u001b[1;34m(.0)\u001b[0m\n\u001b[0;32m     52\u001b[0m \u001b[1;33m\u001b[0m\u001b[0m\n\u001b[0;32m     53\u001b[0m         \u001b[1;32mif\u001b[0m \u001b[0misinstance\u001b[0m\u001b[1;33m(\u001b[0m\u001b[0md\u001b[0m\u001b[1;33m,\u001b[0m \u001b[0mdict\u001b[0m\u001b[1;33m)\u001b[0m\u001b[1;33m:\u001b[0m\u001b[1;33m\u001b[0m\u001b[1;33m\u001b[0m\u001b[0m\n\u001b[1;32m---> 54\u001b[1;33m             \u001b[1;32mreturn\u001b[0m \u001b[1;33m{\u001b[0m\u001b[0mk\u001b[0m\u001b[1;33m:\u001b[0m \u001b[0mself\u001b[0m\u001b[1;33m.\u001b[0m\u001b[0mas_json_proof\u001b[0m\u001b[1;33m(\u001b[0m\u001b[0mv\u001b[0m\u001b[1;33m)\u001b[0m \u001b[1;32mfor\u001b[0m \u001b[0mk\u001b[0m\u001b[1;33m,\u001b[0m \u001b[0mv\u001b[0m \u001b[1;32min\u001b[0m \u001b[0md\u001b[0m\u001b[1;33m.\u001b[0m\u001b[0mitems\u001b[0m\u001b[1;33m(\u001b[0m\u001b[1;33m)\u001b[0m\u001b[1;33m}\u001b[0m\u001b[1;33m\u001b[0m\u001b[1;33m\u001b[0m\u001b[0m\n\u001b[0m\u001b[0;32m     55\u001b[0m         \u001b[1;32melse\u001b[0m\u001b[1;33m:\u001b[0m\u001b[1;33m\u001b[0m\u001b[1;33m\u001b[0m\u001b[0m\n\u001b[0;32m     56\u001b[0m             \u001b[1;32mif\u001b[0m \u001b[1;32mnot\u001b[0m \u001b[0mis_jsonable\u001b[0m\u001b[1;33m(\u001b[0m\u001b[0md\u001b[0m\u001b[1;33m)\u001b[0m\u001b[1;33m:\u001b[0m\u001b[1;33m\u001b[0m\u001b[1;33m\u001b[0m\u001b[0m\n",
      "\u001b[1;31mNameError\u001b[0m: name 'self' is not defined"
     ]
    }
   ],
   "source": [
    "add_metric(\n",
    "    ifile=ifile,\n",
    "    file_data=file_data,\n",
    "    model_name=model_name,\n",
    "    file_metrics=file_metrics\n",
    "    )"
   ]
  },
  {
   "cell_type": "code",
   "execution_count": null,
   "metadata": {},
   "outputs": [],
   "source": [
    "    # Store validation accuracies \n",
    "    dict_acc_scores = {inputs.ModelName : accuracy_scores}\n",
    "\n",
    "    # Save validation accuracies\n",
    "    if os.path.isfile(\"validation.json\"):\n",
    "        with open('validation.json', 'r') as openfile:\n",
    "            json_object = json.load(openfile)\n",
    "\n",
    "        for key, value in dict_acc_scores.items():\n",
    "            json_object[key] = value\n",
    "\n",
    "        json_object = json.dumps(json_object, indent = 4)\n",
    "\n",
    "        with open(\"validation.json\", \"w\") as outfile:\n",
    "            outfile.write(json_object)\n",
    "\n",
    "    else :\n",
    "        json_object = json.dumps(dict_acc_scores, indent = 4)\n",
    "\n",
    "        with open(\"validation.json\", \"w\") as outfile:\n",
    "            outfile.write(json_object)"
   ]
  },
  {
   "cell_type": "code",
   "execution_count": 43,
   "metadata": {},
   "outputs": [
    {
     "data": {
      "text/plain": [
       "<AxesSubplot:xlabel='Predicted label', ylabel='True label'>"
      ]
     },
     "execution_count": 43,
     "metadata": {},
     "output_type": "execute_result"
    },
    {
     "data": {
      "image/png": "[encoded data removed]",
      "text/plain": [
       "<Figure size 432x288 with 1 Axes>"
      ]
     },
     "metadata": {
      "needs_background": "light"
     },
     "output_type": "display_data"
    }
   ],
   "source": [
    "plot_confusion_matrix(label,pred,classes=['BL','GN','ML','MS','OL'],normalize=True)\n",
    "#plt.savefig('../FiguresPaper/confusion_matrix_boreholetest.png')"
   ]
  },
  {
   "cell_type": "code",
   "execution_count": 44,
   "metadata": {},
   "outputs": [
    {
     "data": {
      "text/plain": [
       "0.902"
      ]
     },
     "execution_count": 44,
     "metadata": {},
     "output_type": "execute_result"
    }
   ],
   "source": [
    "accuracy_score(label,pred)"
   ]
  },
  {
   "cell_type": "markdown",
   "metadata": {},
   "source": [
    "### Validation CM\n",
    "\n",
    "TODOs CM :\n",
    "- change from number to percentage\n",
    "- Add number of true label per class on the right side\n",
    "\n",
    "Load  "
   ]
  },
  {
   "cell_type": "code",
   "execution_count": 23,
   "metadata": {},
   "outputs": [],
   "source": [
    "from sklearn.model_selection import StratifiedKFold, train_test_split"
   ]
  },
  {
   "cell_type": "code",
   "execution_count": 24,
   "metadata": {},
   "outputs": [
    {
     "name": "stdout",
     "output_type": "stream",
     "text": [
      "cuda:0\n",
      "NVIDIA GeForce 940MX\n",
      "0\n",
      "1000\n",
      "1\n",
      "1000\n",
      "2\n",
      "1000\n",
      "3\n",
      "1000\n",
      "4\n",
      "1000\n"
     ]
    }
   ],
   "source": [
    "# Load config file\n",
    "ifile = \"../Models/config/MAR_RESNET18_PADDED_256_ALL_NEW.yaml\"\n",
    "\n",
    "inputs = load_config(ifile)\n",
    "\n",
    "# Handle config_file inputs\n",
    "seed = int(inputs.Seed)\n",
    "layers = inputs.Model.Layers # [3, 4, 6, 3] for ResNet34 and [2, 2, 2, 2] for ResNet18\n",
    "classes = inputs.Model.OutClasses\n",
    "channels = inputs.Model.Channels\n",
    "k = inputs.KFold\n",
    "n_samples = inputs.NSamples\n",
    "\n",
    "# Handle file paths\n",
    "root_path = os.path.abspath(os.path.join(os.getcwd(), '..')) # Workspace path to Cuttings_Characterisation \n",
    "path_model = f\"{root_path}/{inputs.PathSave}/{inputs.ModelName}\"\n",
    "path_load_data = f\"{root_path}/{inputs.LoadPath}\" # Path for the .csv file\n",
    "\n",
    "# Seed\n",
    "set_seed(seed)\n",
    "\n",
    "# Pytorch device\n",
    "device = torch.device(\"cuda:0\" if torch.cuda.is_available() else \"cpu\")\n",
    "print(device)\n",
    "print(torch.cuda.get_device_name(device))\n",
    "\n",
    "# Read dataset\n",
    "dataframe = pd.read_csv(path_load_data,index_col=0)\n",
    "# Train Test Split\n",
    "train_dataframe, _ = train_test_split(dataframe, test_size=(1 - inputs.TrainTestSplit),stratify=dataframe['Label'], random_state=inputs.Seed)\n",
    "# Reset Index\n",
    "train_dataframe = train_dataframe.reset_index(drop=True)\n",
    "# Samples\n",
    "train_dataframe = train_dataframe.groupby('Label').sample(n_samples,replace=True,random_state=inputs.Seed).reset_index(drop=True)\n",
    "\n",
    "X = train_dataframe.iloc[:,:-1]\n",
    "y = train_dataframe.iloc[:,-1]\n",
    "\n",
    "# Stratified KFold\n",
    "kf = StratifiedKFold(n_splits=k, random_state=seed, shuffle=True)\n",
    "\n",
    "# Transforms (other than MinMaxNorm and ToTensor)\n",
    "dict_transform = {\n",
    "        \"Padding\":Padding,\n",
    "        \"CenterCrop\":tf.CenterCrop,\n",
    "        \"Resize\":tf.Resize,\n",
    "        }\n",
    "\n",
    "transforms_test = Transforms(\n",
    "        [dict_transform[key]([k for k in item.values()] if len(item.values()) > 1 else [k for k in item.values()][0]) for key, item in inputs.TransformTest.items()] \n",
    "        )\n",
    "\n",
    "for i_, (train_index, test_index) in enumerate(kf.split(X,y)):\n",
    "        \n",
    "        print(i_)\n",
    "        print(len(test_index))\n",
    "\n",
    "        model_name = f\"model_{i_}.pt\"\n",
    "        save_model_path = f\"{path_model}/{model_name}\"\n",
    "\n",
    "        testDataset = Dataset(\n",
    "                train_dataframe.loc[test_index].reset_index(drop=True),\n",
    "                transforms=transforms_test.get_transforms()\n",
    "        )\n",
    "\n",
    "        test_dataloader = torch.utils.data.DataLoader(\n",
    "                testDataset, \n",
    "                batch_size=4,\n",
    "                shuffle=False\n",
    "        )\n",
    "\n",
    "        net = resnet(layers=layers,channels=channels,num_classes=classes)\n",
    "\n",
    "        classifier = Classifier(\n",
    "                net=net, \n",
    "                device=device\n",
    "        )\n",
    "\n",
    "        classifier.load(save_model_path)\n",
    "\n",
    "        pred, label = classifier.predict(test_dataloader)\n",
    "\n",
    "        train_dataframe.loc[test_index,'Pred'] = pred"
   ]
  },
  {
   "cell_type": "code",
   "execution_count": 25,
   "metadata": {},
   "outputs": [
    {
     "data": {
      "image/png": "[encoded data removed]",
      "text/plain": [
       "<Figure size 432x288 with 1 Axes>"
      ]
     },
     "metadata": {
      "needs_background": "light"
     },
     "output_type": "display_data"
    }
   ],
   "source": [
    "plot_confusion_matrix(train_dataframe.Label,train_dataframe.Pred,classes=['BL','GN','ML','MS','OL'],normalize=True)\n",
    "plt.savefig('../FiguresPaper/confusion_matrix_train.png')"
   ]
  },
  {
   "cell_type": "code",
   "execution_count": null,
   "metadata": {},
   "outputs": [],
   "source": []
  }
 ],
 "metadata": {
  "kernelspec": {
   "display_name": "Python 3.7.9 ('TORCH')",
   "language": "python",
   "name": "python3"
  },
  "language_info": {
   "codemirror_mode": {
    "name": "ipython",
    "version": 3
   },
   "file_extension": ".py",
   "mimetype": "text/x-python",
   "name": "python",
   "nbconvert_exporter": "python",
   "pygments_lexer": "ipython3",
   "version": "3.7.9 (default, Aug 31 2020, 17:10:11) [MSC v.1916 64 bit (AMD64)]"
  },
  "orig_nbformat": 4,
  "vscode": {
   "interpreter": {
    "hash": "78edb7be0a4558d39392e7a4499f5e93d40d420b506558b6d8f701e925c16473"
   }
  }
 },
 "nbformat": 4,
 "nbformat_minor": 2
}
