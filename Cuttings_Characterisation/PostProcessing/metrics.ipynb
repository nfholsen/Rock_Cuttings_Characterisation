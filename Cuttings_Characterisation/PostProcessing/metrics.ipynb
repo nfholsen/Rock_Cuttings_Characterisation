{
 "cells": [
  {
   "cell_type": "code",
   "execution_count": 16,
   "metadata": {},
   "outputs": [],
   "source": [
    "from pathlib import Path\n",
    "import numpy as np\n",
    "import pandas as pd\n",
    "import random, getopt, os, sys, json\n",
    "\n",
    "import matplotlib.pyplot as plt\n",
    "\n",
    "import torch\n",
    "import torch.nn as nn\n",
    "import torch.optim as optim\n",
    "from torch.optim.lr_scheduler import _LRScheduler\n",
    "\n",
    "from sklearn.metrics import f1_score,confusion_matrix\n",
    "\n",
    "sys.path.append(os.path.abspath(os.path.join(os.getcwd(), '../..')))\n",
    "\n",
    "from Lamp.AttrDict.AttrDict import *\n",
    "from Lamp.Model.Dataloader import *\n",
    "from Lamp.Model.BaseModel import *\n",
    "from Lamp.Model.ResNet import *"
   ]
  },
  {
   "cell_type": "code",
   "execution_count": 17,
   "metadata": {},
   "outputs": [],
   "source": [
    "def set_seed(seed):\n",
    "    \"\"\" Set the random seed \"\"\"\n",
    "    random.seed(seed)\n",
    "    np.random.seed(seed)\n",
    "    torch.manual_seed(seed)\n",
    "    torch.cuda.manual_seed(seed)\n",
    "    torch.cuda.manual_seed_all(seed)\n",
    "\n",
    "def load_config(cfg_path):\n",
    "    \"\"\"  \"\"\"\n",
    "    if os.path.splitext(cfg_path)[-1] == '.json':\n",
    "        return AttrDict.from_json_path(cfg_path)\n",
    "    elif os.path.splitext(cfg_path)[-1] in ['.yaml', '.yml']:\n",
    "        return AttrDict.from_yaml_path(cfg_path)\n",
    "    else:\n",
    "        raise ValueError(f\"Unsupported config file format. Only '.json', '.yaml' and '.yml' files are supported.\")\n",
    "\n",
    "def resnet(layers=[3, 4, 6, 3],channels=3, num_classes=1000):\n",
    "    model = ResNet(BasicBlock,layers,channels=channels,num_classes=num_classes)\n",
    "    return model\n",
    "\n",
    "class Classifier(BaseModelSingle):\n",
    "    def __init__(self, net: nn.Module, opt: Optimizer = None, sched: _LRScheduler = None, \n",
    "        logger: Logger = None, print_progress: bool = True, device: str = 'cuda:0', **kwargs):\n",
    "        super().__init__(net, opt=opt, sched=sched, logger=logger, print_progress=print_progress, device=device, **kwargs)\n",
    "\n",
    "    def forward_loss(self, data: Tuple[Tensor]) -> Tensor:\n",
    "        \"\"\"  \"\"\"\n",
    "        pass\n",
    "\n",
    "    def predict(self, loader):\n",
    "        \"\"\"  \"\"\"\n",
    "        labels = []\n",
    "        self.net.eval()\n",
    "        with torch.no_grad():\n",
    "            for b, data in enumerate(loader):\n",
    "                input, label = data\n",
    "                input = input.to(self.device)\n",
    "                label = label.to(self.device).long()\n",
    "\n",
    "                output = self.net(input)\n",
    "                pred = torch.argmax(output, dim=1)\n",
    "\n",
    "                labels += list(zip(pred.cpu().data.tolist(), label.cpu().data.tolist()))\n",
    "\n",
    "            pred, label = zip(*labels)\n",
    "            \n",
    "        return pred, label"
   ]
  },
  {
   "cell_type": "code",
   "execution_count": 18,
   "metadata": {},
   "outputs": [],
   "source": [
    "def plot_confusion_matrix(y_true, y_pred, classes,\n",
    "                          normalize=False,\n",
    "                          title=None,\n",
    "                          cmap=plt.cm.Blues):\n",
    "\n",
    "    cm = confusion_matrix(y_true, y_pred,normalize=\"true\") if normalize else confusion_matrix(y_true, y_pred)\n",
    "\n",
    "    cm_all = confusion_matrix(y_true, y_pred)\n",
    "    # Only use the labels that appear in the data\n",
    "    #classes = classes[unique_labels(y_true, y_pred)]\n",
    "\n",
    "    fig, ax = plt.subplots()\n",
    "    im = ax.imshow(cm, interpolation='nearest', cmap=cmap)\n",
    "        \n",
    "    bottom, top = ax.get_ylim()\n",
    "    \n",
    "    # We want to show all ticks...\n",
    "    ax.set(xticks=np.arange(cm.shape[1]),\n",
    "           yticks=np.arange(cm.shape[0]),\n",
    "           # ... and label them with the respective list entries\n",
    "           xticklabels=classes, yticklabels=classes,\n",
    "           title=title,\n",
    "           ylabel='True label',\n",
    "           xlabel='Predicted label')\n",
    "    ax.set_ylim(bottom, top)\n",
    "    # Rotate the tick labels and set their alignment.\n",
    "    plt.setp(ax.get_xticklabels(), rotation=45, ha=\"right\",\n",
    "             rotation_mode=\"anchor\")\n",
    "\n",
    "    # Loop over data dimensions and create text annotations.\n",
    "    fmt = '.2f' if normalize else 'd'\n",
    "    thresh = cm.max() / 2.\n",
    "    for i in range(cm.shape[0]):\n",
    "        for j in range(cm.shape[1]):\n",
    "            ax.text(j, i, format(cm[i, j], fmt),\n",
    "                    ha=\"center\", va=\"center\",\n",
    "                    color=\"white\" if cm[i, j] > thresh else \"black\")\n",
    "        ax.text(cm.shape[0] + 0.5, i, cm_all.sum(axis=1)[i],\n",
    "                ha=\"center\", va=\"center\")\n",
    "    ax.text(cm.shape[0] + 0.5, -1, \"N Samples\",\n",
    "            ha=\"center\", va=\"center\")\n",
    "    fig.tight_layout()\n",
    "    plt.grid(False)\n",
    "    return ax"
   ]
  },
  {
   "cell_type": "markdown",
   "metadata": {},
   "source": [
    "### Test Lab"
   ]
  },
  {
   "cell_type": "code",
   "execution_count": 19,
   "metadata": {},
   "outputs": [
    {
     "name": "stdout",
     "output_type": "stream",
     "text": [
      "cuda:0\n",
      "NVIDIA GeForce 940MX\n"
     ]
    }
   ],
   "source": [
    "# Load config file\n",
    "ifile = \"../Models/config/MAR_RESNET18_PADDED_256_ALL_NEW.yaml\"\n",
    "\n",
    "inputs = load_config(ifile)\n",
    "\n",
    "# Handle config_file inputs\n",
    "seed = int(inputs.Seed)\n",
    "layers = inputs.Model.Layers # [3, 4, 6, 3] for ResNet34 and [2, 2, 2, 2] for ResNet18\n",
    "classes = inputs.Model.OutClasses\n",
    "channels = inputs.Model.Channels\n",
    "\n",
    "# Handle file paths\n",
    "root_path = os.path.abspath(os.path.join(os.getcwd(), '..')) # Workspace path to Cuttings_Characterisation \n",
    "path_model = f\"{root_path}/{inputs.PathSave}/{inputs.ModelName}\"\n",
    "path_load_data = f\"{root_path}/{inputs.LoadPathTestLab}\" # Path for the .csv file\n",
    "\n",
    "# Seed\n",
    "set_seed(seed)\n",
    "\n",
    "# Pytorch device\n",
    "device = torch.device(\"cuda:0\" if torch.cuda.is_available() else \"cpu\")\n",
    "print(device)\n",
    "print(torch.cuda.get_device_name(device))\n",
    "\n",
    "# Read dataset\n",
    "dataframe = pd.read_csv(path_load_data,index_col=0)\n",
    "\n",
    "# Transforms (other than MinMaxNorm and ToTensor)\n",
    "dict_transform = {\n",
    "        \"Padding\":Padding,\n",
    "        \"CenterCrop\":tf.CenterCrop,\n",
    "        \"Resize\":tf.Resize,\n",
    "        }\n",
    "\n",
    "transforms_test = Transforms(\n",
    "        [dict_transform[key]([k for k in item.values()] if len(item.values()) > 1 else [k for k in item.values()][0]) for key, item in inputs.TransformTest.items()] \n",
    "        )\n",
    "\n",
    "model_name = f\"model_all.pt\"\n",
    "save_model_path = f\"{path_model}/{model_name}\"\n",
    "\n",
    "testDataset = Dataset(\n",
    "        dataframe.reset_index(drop=True),\n",
    "        transforms=transforms_test.get_transforms()\n",
    "        )\n",
    "\n",
    "test_dataloader = torch.utils.data.DataLoader(\n",
    "        testDataset, \n",
    "        batch_size=4,\n",
    "        shuffle=False\n",
    "        )\n",
    "\n",
    "net = resnet(layers=layers,channels=channels,num_classes=classes)\n",
    "\n",
    "classifier = Classifier(\n",
    "        net=net, \n",
    "        device=device\n",
    "        )\n",
    "\n",
    "classifier.load(save_model_path)\n",
    "\n",
    "pred, label = classifier.predict(test_dataloader)"
   ]
  },
  {
   "cell_type": "code",
   "execution_count": 20,
   "metadata": {},
   "outputs": [
    {
     "data": {
      "image/png": "[encoded data removed]",
      "text/plain": [
       "<Figure size 432x288 with 1 Axes>"
      ]
     },
     "metadata": {
      "needs_background": "light"
     },
     "output_type": "display_data"
    }
   ],
   "source": [
    "plot_confusion_matrix(label,pred,classes=['BL','GN','ML','MS','OL'],normalize=True)\n",
    "plt.savefig('../FiguresPaper/confusion_matrix_labtest.png')"
   ]
  },
  {
   "cell_type": "markdown",
   "metadata": {},
   "source": [
    "### Test Borehole"
   ]
  },
  {
   "cell_type": "code",
   "execution_count": 21,
   "metadata": {},
   "outputs": [
    {
     "name": "stdout",
     "output_type": "stream",
     "text": [
      "cuda:0\n",
      "NVIDIA GeForce 940MX\n"
     ]
    }
   ],
   "source": [
    "# Load config file\n",
    "ifile = \"../Models/config/MAR_RESNET18_PADDED_256_ALL_NEW.yaml\"\n",
    "\n",
    "inputs = load_config(ifile)\n",
    "\n",
    "# Handle config_file inputs\n",
    "seed = int(inputs.Seed)\n",
    "layers = inputs.Model.Layers # [3, 4, 6, 3] for ResNet34 and [2, 2, 2, 2] for ResNet18\n",
    "classes = inputs.Model.OutClasses\n",
    "channels = inputs.Model.Channels\n",
    "\n",
    "# Handle file paths\n",
    "root_path = os.path.abspath(os.path.join(os.getcwd(), '..')) # Workspace path to Cuttings_Characterisation \n",
    "path_model = f\"{root_path}/{inputs.PathSave}/{inputs.ModelName}\"\n",
    "path_load_data = f\"{root_path}/{inputs.LoadPathTestBorehole}\" # Path for the .csv file\n",
    "\n",
    "# Seed\n",
    "set_seed(seed)\n",
    "\n",
    "# Pytorch device\n",
    "device = torch.device(\"cuda:0\" if torch.cuda.is_available() else \"cpu\")\n",
    "print(device)\n",
    "print(torch.cuda.get_device_name(device))\n",
    "\n",
    "# Read dataset\n",
    "dataframe = pd.read_csv(path_load_data,index_col=0)\n",
    "\n",
    "# Transforms (other than MinMaxNorm and ToTensor)\n",
    "dict_transform = {\n",
    "        \"Padding\":Padding,\n",
    "        \"CenterCrop\":tf.CenterCrop,\n",
    "        \"Resize\":tf.Resize,\n",
    "        }\n",
    "\n",
    "transforms_test = Transforms(\n",
    "        [dict_transform[key]([k for k in item.values()] if len(item.values()) > 1 else [k for k in item.values()][0]) for key, item in inputs.TransformTest.items()] \n",
    "        )\n",
    "\n",
    "model_name = f\"model_all.pt\"\n",
    "save_model_path = f\"{path_model}/{model_name}\"\n",
    "\n",
    "testDataset = Dataset(\n",
    "        dataframe.reset_index(drop=True),\n",
    "        transforms=transforms_test.get_transforms()\n",
    "        )\n",
    "\n",
    "test_dataloader = torch.utils.data.DataLoader(\n",
    "        testDataset, \n",
    "        batch_size=4,\n",
    "        shuffle=False\n",
    "        )\n",
    "\n",
    "net = resnet(layers=layers,channels=channels,num_classes=classes)\n",
    "\n",
    "classifier = Classifier(\n",
    "        net=net, \n",
    "        device=device\n",
    "        )\n",
    "\n",
    "classifier.load(save_model_path)\n",
    "\n",
    "pred, label = classifier.predict(test_dataloader)"
   ]
  },
  {
   "cell_type": "code",
   "execution_count": 22,
   "metadata": {},
   "outputs": [
    {
     "data": {
      "image/png": "[encoded data removed]",
      "text/plain": [
       "<Figure size 432x288 with 1 Axes>"
      ]
     },
     "metadata": {
      "needs_background": "light"
     },
     "output_type": "display_data"
    }
   ],
   "source": [
    "plot_confusion_matrix(label,pred,classes=['BL','GN','ML','MS','OL'],normalize=True)\n",
    "plt.savefig('../FiguresPaper/confusion_matrix_boreholetest.png')"
   ]
  },
  {
   "cell_type": "markdown",
   "metadata": {},
   "source": [
    "### Validation CM\n",
    "\n",
    "TODOs CM :\n",
    "- change from number to percentage\n",
    "- Add number of true label per class on the right side\n",
    "\n",
    "Load  "
   ]
  },
  {
   "cell_type": "code",
   "execution_count": 23,
   "metadata": {},
   "outputs": [],
   "source": [
    "from sklearn.model_selection import StratifiedKFold, train_test_split"
   ]
  },
  {
   "cell_type": "code",
   "execution_count": 24,
   "metadata": {},
   "outputs": [
    {
     "name": "stdout",
     "output_type": "stream",
     "text": [
      "cuda:0\n",
      "NVIDIA GeForce 940MX\n",
      "0\n",
      "1000\n",
      "1\n",
      "1000\n",
      "2\n",
      "1000\n",
      "3\n",
      "1000\n",
      "4\n",
      "1000\n"
     ]
    }
   ],
   "source": [
    "# Load config file\n",
    "ifile = \"../Models/config/MAR_RESNET18_PADDED_256_ALL_NEW.yaml\"\n",
    "\n",
    "inputs = load_config(ifile)\n",
    "\n",
    "# Handle config_file inputs\n",
    "seed = int(inputs.Seed)\n",
    "layers = inputs.Model.Layers # [3, 4, 6, 3] for ResNet34 and [2, 2, 2, 2] for ResNet18\n",
    "classes = inputs.Model.OutClasses\n",
    "channels = inputs.Model.Channels\n",
    "k = inputs.KFold\n",
    "n_samples = inputs.NSamples\n",
    "\n",
    "# Handle file paths\n",
    "root_path = os.path.abspath(os.path.join(os.getcwd(), '..')) # Workspace path to Cuttings_Characterisation \n",
    "path_model = f\"{root_path}/{inputs.PathSave}/{inputs.ModelName}\"\n",
    "path_load_data = f\"{root_path}/{inputs.LoadPath}\" # Path for the .csv file\n",
    "\n",
    "# Seed\n",
    "set_seed(seed)\n",
    "\n",
    "# Pytorch device\n",
    "device = torch.device(\"cuda:0\" if torch.cuda.is_available() else \"cpu\")\n",
    "print(device)\n",
    "print(torch.cuda.get_device_name(device))\n",
    "\n",
    "# Read dataset\n",
    "dataframe = pd.read_csv(path_load_data,index_col=0)\n",
    "# Train Test Split\n",
    "train_dataframe, _ = train_test_split(dataframe, test_size=(1 - inputs.TrainTestSplit),stratify=dataframe['Label'], random_state=inputs.Seed)\n",
    "# Reset Index\n",
    "train_dataframe = train_dataframe.reset_index(drop=True)\n",
    "# Samples\n",
    "train_dataframe = train_dataframe.groupby('Label').sample(n_samples,replace=True,random_state=inputs.Seed).reset_index(drop=True)\n",
    "\n",
    "X = train_dataframe.iloc[:,:-1]\n",
    "y = train_dataframe.iloc[:,-1]\n",
    "\n",
    "# Stratified KFold\n",
    "kf = StratifiedKFold(n_splits=k, random_state=seed, shuffle=True)\n",
    "\n",
    "# Transforms (other than MinMaxNorm and ToTensor)\n",
    "dict_transform = {\n",
    "        \"Padding\":Padding,\n",
    "        \"CenterCrop\":tf.CenterCrop,\n",
    "        \"Resize\":tf.Resize,\n",
    "        }\n",
    "\n",
    "transforms_test = Transforms(\n",
    "        [dict_transform[key]([k for k in item.values()] if len(item.values()) > 1 else [k for k in item.values()][0]) for key, item in inputs.TransformTest.items()] \n",
    "        )\n",
    "\n",
    "for i_, (train_index, test_index) in enumerate(kf.split(X,y)):\n",
    "        \n",
    "        print(i_)\n",
    "        print(len(test_index))\n",
    "\n",
    "        model_name = f\"model_{i_}.pt\"\n",
    "        save_model_path = f\"{path_model}/{model_name}\"\n",
    "\n",
    "        testDataset = Dataset(\n",
    "                train_dataframe.loc[test_index].reset_index(drop=True),\n",
    "                transforms=transforms_test.get_transforms()\n",
    "        )\n",
    "\n",
    "        test_dataloader = torch.utils.data.DataLoader(\n",
    "                testDataset, \n",
    "                batch_size=4,\n",
    "                shuffle=False\n",
    "        )\n",
    "\n",
    "        net = resnet(layers=layers,channels=channels,num_classes=classes)\n",
    "\n",
    "        classifier = Classifier(\n",
    "                net=net, \n",
    "                device=device\n",
    "        )\n",
    "\n",
    "        classifier.load(save_model_path)\n",
    "\n",
    "        pred, label = classifier.predict(test_dataloader)\n",
    "\n",
    "        train_dataframe.loc[test_index,'Pred'] = pred"
   ]
  },
  {
   "cell_type": "code",
   "execution_count": 25,
   "metadata": {},
   "outputs": [
    {
     "data": {
      "image/png": "[encoded data removed]",
      "text/plain": [
       "<Figure size 432x288 with 1 Axes>"
      ]
     },
     "metadata": {
      "needs_background": "light"
     },
     "output_type": "display_data"
    }
   ],
   "source": [
    "plot_confusion_matrix(train_dataframe.Label,train_dataframe.Pred,classes=['BL','GN','ML','MS','OL'],normalize=True)\n",
    "plt.savefig('../FiguresPaper/confusion_matrix_train.png')"
   ]
  },
  {
   "cell_type": "code",
   "execution_count": null,
   "metadata": {},
   "outputs": [],
   "source": []
  }
 ],
 "metadata": {
  "interpreter": {
   "hash": "6ecc313d30624b9b9be89b8ae8b54ae9d436219e0253ae413d5b50a036da17b7"
  },
  "kernelspec": {
   "display_name": "Python 3.8.5 64-bit ('base': conda)",
   "language": "python",
   "name": "python3"
  },
  "language_info": {
   "codemirror_mode": {
    "name": "ipython",
    "version": 3
   },
   "file_extension": ".py",
   "mimetype": "text/x-python",
   "name": "python",
   "nbconvert_exporter": "python",
   "pygments_lexer": "ipython3",
   "version": "3.7.9"
  },
  "orig_nbformat": 4
 },
 "nbformat": 4,
 "nbformat_minor": 2
}
