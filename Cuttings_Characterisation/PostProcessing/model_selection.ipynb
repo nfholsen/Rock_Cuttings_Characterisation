{
 "cells": [
  {
   "cell_type": "code",
   "execution_count": 1,
   "metadata": {},
   "outputs": [],
   "source": [
    "import pandas as pd\n",
    "import numpy as np\n",
    "import matplotlib.pyplot as plt\n",
    "import seaborn as sns\n",
    "import json\n",
    "\n",
    "from sklearn.metrics import accuracy_score\n",
    "from scipy import stats"
   ]
  },
  {
   "cell_type": "code",
   "execution_count": 2,
   "metadata": {},
   "outputs": [],
   "source": [
    "plt.rc('xtick', labelsize=14) \n",
    "plt.rc('ytick', labelsize=14)\n",
    "plt.rc('axes', labelsize=20)"
   ]
  },
  {
   "cell_type": "code",
   "execution_count": 10,
   "metadata": {},
   "outputs": [],
   "source": [
    "def ttest(res_1,res_2):\n",
    "    stat, p_value = stats.ttest_ind(res_1, res_2)\n",
    "    print(\"p value\",p_value)\n",
    "    return p_value\n",
    "\n",
    "def significance_level(p_value):\n",
    "    if p_value > 0.1:\n",
    "        level = None\n",
    "    elif (p_value <= 0.1) and (p_value > 0.05):\n",
    "        level = '.'\n",
    "    elif (p_value <= 0.05) and (p_value > 0.01):\n",
    "        level = '*'\n",
    "    elif (p_value <= 0.01) and (p_value > 0.001):\n",
    "        level = '**'\n",
    "    else:\n",
    "        level = '***'\n",
    "    return level\n",
    "\n",
    "def add_bar(x_1,x_2,res_1,res_2,y,ax):\n",
    "    \"\"\"\n",
    "    model_1,model_2 : int of the model tested\n",
    "    ax : axis from matplotlib figure\n",
    "    \"\"\"\n",
    "    ax.plot([x_1,x_1],[y+1,y+3],'k')\n",
    "    ax.plot([x_1,x_2],[y+3,y+3],'k')\n",
    "    ax.plot([x_2,x_2],[y+3,y+1],'k')\n",
    "\n",
    "    ax.text((x_2-x_1)/2+x_1, y+3, significance_level(ttest(res_1,res_2)),\n",
    "         {'color': 'black', 'fontsize': 14, 'ha': 'center', 'va': 'center',\n",
    "          'bbox': dict( fc=\"white\", ec=\"white\", pad=2)})\n",
    "    return y+5"
   ]
  },
  {
   "cell_type": "code",
   "execution_count": 11,
   "metadata": {},
   "outputs": [],
   "source": [
    "with open('validation.json', 'r') as openfile:\n",
    "    dict_acc = json.load(openfile)"
   ]
  },
  {
   "cell_type": "code",
   "execution_count": 12,
   "metadata": {},
   "outputs": [
    {
     "data": {
      "text/plain": [
       "{'MAR_RESNET34_PADDED_256_ALL_NEW': [0.981, 0.979, 0.989, 0.981, 0.981],\n",
       " 'MAR_RESNET34_CROPPED_256_ALL_NEW': [0.904, 0.909, 0.897, 0.886, 0.931],\n",
       " 'MAR_RESNET34_RESIZED_256_ALL_NEW': [0.98, 0.976, 0.983, 0.981, 0.983],\n",
       " 'MAR_RESNET18_PADDED_256_ALL_NEW': [0.984, 0.979, 0.991, 0.982, 0.989],\n",
       " 'MAR_RESNET18_PADDED_128_ALL_NEW': [0.968, 0.965, 0.979, 0.976, 0.972]}"
      ]
     },
     "execution_count": 12,
     "metadata": {},
     "output_type": "execute_result"
    }
   ],
   "source": [
    "dict_acc"
   ]
  },
  {
   "cell_type": "code",
   "execution_count": 13,
   "metadata": {},
   "outputs": [],
   "source": [
    "lists = ['MAR_RESNET34_RESIZED_256_ALL_NEW','MAR_RESNET34_PADDED_256_ALL_NEW','MAR_RESNET34_CROPPED_256_ALL_NEW','MAR_RESNET18_PADDED_256_ALL_NEW',\"MAR_RESNET18_PADDED_128_ALL_NEW\"]"
   ]
  },
  {
   "cell_type": "code",
   "execution_count": 23,
   "metadata": {},
   "outputs": [
    {
     "name": "stdout",
     "output_type": "stream",
     "text": [
      "p value 0.48158486968195835\n",
      "p value 8.443997352109662e-06\n",
      "p value 0.34947827166710177\n",
      "p value 0.004875680674273119\n"
     ]
    },
    {
     "data": {
      "image/png": "[encoded data removed]",
      "text/plain": [
       "<Figure size 720x504 with 1 Axes>"
      ]
     },
     "metadata": {
      "needs_background": "light"
     },
     "output_type": "display_data"
    }
   ],
   "source": [
    "fig, ax = plt.subplots(figsize=(10,7))\n",
    "\n",
    "pos = np.arange(1,6)\n",
    "\n",
    "ax.bar(\n",
    "    x=pos,\n",
    "    height=pd.DataFrame.from_dict(dict_acc)[lists].mean(axis=0).values * 100,\n",
    "    yerr=pd.DataFrame.from_dict(dict_acc)[lists].std(axis=0).values * 100\n",
    "    ) \n",
    "\n",
    "tests = [\n",
    "    (\"MAR_RESNET34_RESIZED_256_ALL_NEW\",\"MAR_RESNET34_PADDED_256_ALL_NEW\"),\n",
    "    (\"MAR_RESNET34_PADDED_256_ALL_NEW\",\"MAR_RESNET34_CROPPED_256_ALL_NEW\"),\n",
    "    (\"MAR_RESNET34_PADDED_256_ALL_NEW\",\"MAR_RESNET18_PADDED_256_ALL_NEW\"),\n",
    "    (\"MAR_RESNET18_PADDED_256_ALL_NEW\",\"MAR_RESNET18_PADDED_128_ALL_NEW\")\n",
    "]\n",
    "\n",
    "y = 100 # where to start the bar\n",
    "for i_, (model_1, model_2) in enumerate(np.array(tests)[[0,1,2]]) :\n",
    "\n",
    "    x_1 = [lists.index(i) for i in lists if i == model_1][0] + 1\n",
    "    x_2 = [lists.index(i) for i in lists if i == model_2][0] + 1\n",
    "\n",
    "    res_1 = dict_acc[model_1]\n",
    "    res_2 = dict_acc[model_2]\n",
    "\n",
    "    y = add_bar(x_1,x_2,res_1,res_2,y,ax=ax)\n",
    "\n",
    "y = 100 # where to start the bar\n",
    "for i_, (model_1, model_2) in enumerate(np.array(tests)[[3]]) :\n",
    "\n",
    "    x_1 = [lists.index(i) for i in lists if i == model_1][0] + 1\n",
    "    x_2 = [lists.index(i) for i in lists if i == model_2][0] + 1\n",
    "\n",
    "    res_1 = dict_acc[model_1]\n",
    "    res_2 = dict_acc[model_2]\n",
    "\n",
    "    y = add_bar(x_1,x_2,res_1,res_2,y,ax=ax)\n",
    "\n",
    "for i_, model in enumerate(lists):\n",
    "    plt.text(\n",
    "        pos[i_]-0.35, \n",
    "        117, \n",
    "        f\"{np.round(np.mean(dict_acc[model])*100,1)}$\\pm${np.round(np.std(dict_acc[model])*100,1)}\",\n",
    "        fontdict={'fontsize':14})\n",
    "plt.ylabel('Accuracy [%]')\n",
    "plt.xlabel('Model') \n",
    "\n",
    "plt.ylim(0, 125)\n",
    "plt.savefig(\"../FiguresPaper/model_selection_1.png\",bbox_inches='tight')"
   ]
  },
  {
   "cell_type": "code",
   "execution_count": 26,
   "metadata": {},
   "outputs": [
    {
     "name": "stdout",
     "output_type": "stream",
     "text": [
      "p value 0.48158486968195835\n",
      "p value 8.443997352109662e-06\n",
      "p value 0.34947827166710177\n",
      "p value 0.004875680674273119\n"
     ]
    },
    {
     "data": {
      "image/png": "[encoded data removed]",
      "text/plain": [
       "<Figure size 720x504 with 1 Axes>"
      ]
     },
     "metadata": {
      "needs_background": "light"
     },
     "output_type": "display_data"
    }
   ],
   "source": [
    "fig, ax = plt.subplots(figsize=(10,7))\n",
    "\n",
    "pos = np.arange(1,6)\n",
    "\n",
    "ax.bar(\n",
    "    x=pos,\n",
    "    height=pd.DataFrame.from_dict(dict_acc)[lists].mean(axis=0).values * 100,\n",
    "    yerr=pd.DataFrame.from_dict(dict_acc)[lists].std(axis=0).values * 100\n",
    "    ) \n",
    "\n",
    "tests = [\n",
    "    (\"MAR_RESNET34_RESIZED_256_ALL_NEW\",\"MAR_RESNET34_PADDED_256_ALL_NEW\"),\n",
    "    (\"MAR_RESNET34_PADDED_256_ALL_NEW\",\"MAR_RESNET34_CROPPED_256_ALL_NEW\"),\n",
    "    (\"MAR_RESNET34_PADDED_256_ALL_NEW\",\"MAR_RESNET18_PADDED_256_ALL_NEW\"),\n",
    "    (\"MAR_RESNET18_PADDED_256_ALL_NEW\",\"MAR_RESNET18_PADDED_128_ALL_NEW\")\n",
    "]\n",
    "\n",
    "y = 100 # where to start the bar\n",
    "for i_, (model_1, model_2) in enumerate(np.array(tests)[[0,1,2]]) :\n",
    "\n",
    "    x_1 = [lists.index(i) for i in lists if i == model_1][0] + 1\n",
    "    x_2 = [lists.index(i) for i in lists if i == model_2][0] + 1\n",
    "\n",
    "    res_1 = dict_acc[model_1]\n",
    "    res_2 = dict_acc[model_2]\n",
    "\n",
    "    y = add_bar(x_1,x_2,res_1,res_2,y,ax=ax)\n",
    "\n",
    "y = 100 # where to start the bar\n",
    "for i_, (model_1, model_2) in enumerate(np.array(tests)[[3]]) :\n",
    "\n",
    "    x_1 = [lists.index(i) for i in lists if i == model_1][0] + 1\n",
    "    x_2 = [lists.index(i) for i in lists if i == model_2][0] + 1\n",
    "\n",
    "    res_1 = dict_acc[model_1]\n",
    "    res_2 = dict_acc[model_2]\n",
    "\n",
    "    y = add_bar(x_1,x_2,res_1,res_2,y,ax=ax)\n",
    "\n",
    "plt.ylabel('Accuracy [%]')\n",
    "plt.xlabel('Model') \n",
    "\n",
    "plt.ylim(0, 120)\n",
    "plt.savefig(\"../FiguresPaper/model_selection_2.png\",bbox_inches='tight')"
   ]
  },
  {
   "cell_type": "code",
   "execution_count": null,
   "metadata": {},
   "outputs": [],
   "source": []
  }
 ],
 "metadata": {
  "interpreter": {
   "hash": "6ecc313d30624b9b9be89b8ae8b54ae9d436219e0253ae413d5b50a036da17b7"
  },
  "kernelspec": {
   "display_name": "Python 3.8.5 64-bit ('base': conda)",
   "language": "python",
   "name": "python3"
  },
  "language_info": {
   "codemirror_mode": {
    "name": "ipython",
    "version": 3
   },
   "file_extension": ".py",
   "mimetype": "text/x-python",
   "name": "python",
   "nbconvert_exporter": "python",
   "pygments_lexer": "ipython3",
   "version": "3.8.5"
  },
  "orig_nbformat": 4
 },
 "nbformat": 4,
 "nbformat_minor": 2
}
