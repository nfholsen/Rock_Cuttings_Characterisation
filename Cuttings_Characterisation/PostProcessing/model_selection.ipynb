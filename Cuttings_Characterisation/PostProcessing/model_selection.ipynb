{
 "cells": [
  {
   "cell_type": "code",
   "execution_count": 32,
   "metadata": {},
   "outputs": [],
   "source": [
    "import pandas as pd\n",
    "import numpy as np\n",
    "import matplotlib.pyplot as plt\n",
    "import seaborn as sns\n",
    "import json\n",
    "\n",
    "from sklearn.metrics import accuracy_score\n",
    "from scipy import stats"
   ]
  },
  {
   "cell_type": "code",
   "execution_count": 33,
   "metadata": {},
   "outputs": [],
   "source": [
    "plt.rc('xtick', labelsize=14) \n",
    "plt.rc('ytick', labelsize=14)\n",
    "plt.rc('axes', labelsize=20)"
   ]
  },
  {
   "cell_type": "code",
   "execution_count": 108,
   "metadata": {},
   "outputs": [],
   "source": [
    "def ttest(res_1,res_2):\n",
    "    stat, p_value = stats.ttest_ind(res_1, res_2)\n",
    "    print(\"p value\",p_value)\n",
    "    return p_value\n",
    "\n",
    "def significance_level(p_value):\n",
    "    if p_value > 0.1:\n",
    "        level = None\n",
    "    elif (p_value <= 0.1) and (p_value > 0.05):\n",
    "        level = '.'\n",
    "    elif (p_value <= 0.05) and (p_value > 0.01):\n",
    "        level = '*'\n",
    "    elif (p_value <= 0.01) and (p_value > 0.001):\n",
    "        level = '**'\n",
    "    else:\n",
    "        level = '***'\n",
    "    return level\n",
    "\n",
    "def add_bar(x_loc,res_1,res_2,y,ax):\n",
    "    \"\"\"\n",
    "    model_1,model_2 : int of the model tested\n",
    "    ax : axis from matplotlib figure\n",
    "    \"\"\"\n",
    "    ax.plot([x_loc,x_loc],[y+0.01,y+0.03],'k')\n",
    "    ax.plot([x_loc,x_loc+1],[y+0.03,y+0.03],'k')\n",
    "    ax.plot([x_loc+1,x_loc+1],[y+0.03,y+0.01],'k')\n",
    "\n",
    "    ax.text((x_loc+1-x_loc)/2+x_loc, y+0.03, significance_level(ttest(res_1,res_2)),\n",
    "         {'color': 'black', 'fontsize': 14, 'ha': 'center', 'va': 'center',\n",
    "          'bbox': dict( fc=\"white\", ec=\"white\", pad=2)})\n",
    "    return y+0.05"
   ]
  },
  {
   "cell_type": "code",
   "execution_count": 109,
   "metadata": {},
   "outputs": [],
   "source": [
    "with open('validation.json', 'r') as openfile:\n",
    "    dict_acc = json.load(openfile)"
   ]
  },
  {
   "cell_type": "code",
   "execution_count": 110,
   "metadata": {},
   "outputs": [],
   "source": [
    "lists = ['MAR_RESNET34_RESIZED_256_ALL','MAR_RESNET34_PADDED_256_ALL_NEW','MAR_RESNET34_PADDED_256_ALL']"
   ]
  },
  {
   "cell_type": "code",
   "execution_count": 115,
   "metadata": {},
   "outputs": [
    {
     "name": "stdout",
     "output_type": "stream",
     "text": [
      "MAR_RESNET34_RESIZED_256_ALL\n",
      "[0.977, 0.975, 0.983, 0.985, 0.977]\n",
      "p value 0.3142511488746048\n",
      "MAR_RESNET34_PADDED_256_ALL_NEW\n",
      "[0.981, 0.979, 0.989, 0.981, 0.981]\n",
      "p value 0.7133951761564796\n",
      "MAR_RESNET34_RESIZED_256_ALL\n",
      "MAR_RESNET34_PADDED_256_ALL_NEW\n",
      "MAR_RESNET34_PADDED_256_ALL\n"
     ]
    },
    {
     "data": {
      "text/plain": [
       "(0.0, 1.2)"
      ]
     },
     "execution_count": 115,
     "metadata": {},
     "output_type": "execute_result"
    },
    {
     "data": {
      "image/png": "[encoded data removed]",
      "text/plain": [
       "<Figure size 720x504 with 1 Axes>"
      ]
     },
     "metadata": {
      "needs_background": "light"
     },
     "output_type": "display_data"
    }
   ],
   "source": [
    "fig, ax = plt.subplots(figsize=(10,7))\n",
    "\n",
    "pos = np.arange(0,3)\n",
    "\n",
    "ax.bar(\n",
    "    x=pos,\n",
    "    height=pd.DataFrame.from_dict(dict_acc)[lists].mean(axis=0).values,\n",
    "    yerr=pd.DataFrame.from_dict(dict_acc)[lists].std(axis=0).values)\n",
    "\n",
    "tests = [\n",
    "    (\"MAR_RESNET34_RESIZED_256_ALL\",\"MAR_RESNET34_PADDED_256_ALL_NEW\"),\n",
    "    (\"MAR_RESNET34_PADDED_256_ALL_NEW\",\"MAR_RESNET34_PADDED_256_ALL\")\n",
    "]\n",
    "\n",
    "y = 1 # where to start the bar\n",
    "for i_, (model_1, model_2) in enumerate(tests) :\n",
    "    print(model_1)\n",
    "    print(dict_acc[model_1])\n",
    "\n",
    "    res_1 = dict_acc[model_1]\n",
    "    res_2 = dict_acc[model_2]\n",
    "    y = add_bar(pos[i_],res_1,res_2,y,ax=ax)\n",
    "for i_, model in enumerate(lists):\n",
    "    print(model)\n",
    "    plt.text(\n",
    "        pos[i_]-0.04, \n",
    "        1.13, \n",
    "        f\"{np.round(np.mean(dict_acc[model]),3)}$\\pm${np.round(np.std(dict_acc[model]),3)}\",\n",
    "        fontdict={'fontsize':14})\n",
    "plt.ylabel('Accuracy [-]')\n",
    "plt.xlabel('Model') \n",
    "\n",
    "plt.ylim(0, 1.2)"
   ]
  },
  {
   "cell_type": "code",
   "execution_count": null,
   "metadata": {},
   "outputs": [],
   "source": []
  }
 ],
 "metadata": {
  "interpreter": {
   "hash": "6ecc313d30624b9b9be89b8ae8b54ae9d436219e0253ae413d5b50a036da17b7"
  },
  "kernelspec": {
   "display_name": "Python 3.8.5 64-bit ('base': conda)",
   "language": "python",
   "name": "python3"
  },
  "language_info": {
   "codemirror_mode": {
    "name": "ipython",
    "version": 3
   },
   "file_extension": ".py",
   "mimetype": "text/x-python",
   "name": "python",
   "nbconvert_exporter": "python",
   "pygments_lexer": "ipython3",
   "version": "3.8.5"
  },
  "orig_nbformat": 4
 },
 "nbformat": 4,
 "nbformat_minor": 2
}
