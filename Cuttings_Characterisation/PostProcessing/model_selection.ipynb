{
 "cells": [
  {
   "cell_type": "code",
   "execution_count": 14,
   "metadata": {},
   "outputs": [],
   "source": [
    "import pandas as pd\n",
    "import numpy as np\n",
    "import matplotlib.pyplot as plt\n",
    "import seaborn as sns\n",
    "import json, glob\n",
    "\n",
    "from sklearn.metrics import accuracy_score\n",
    "from scipy import stats"
   ]
  },
  {
   "cell_type": "code",
   "execution_count": 15,
   "metadata": {},
   "outputs": [],
   "source": [
    "plt.rc('xtick', labelsize=14) \n",
    "plt.rc('ytick', labelsize=14)\n",
    "plt.rc('axes', labelsize=20)"
   ]
  },
  {
   "cell_type": "code",
   "execution_count": 16,
   "metadata": {},
   "outputs": [],
   "source": [
    "def ttest(res_1,res_2):\n",
    "    stat, p_value = stats.ttest_ind(res_1, res_2)\n",
    "    print(\"p value\",p_value)\n",
    "    return p_value\n",
    "\n",
    "def significance_level(p_value):\n",
    "    if p_value > 0.1:\n",
    "        level = None\n",
    "    elif (p_value <= 0.1) and (p_value > 0.05):\n",
    "        level = '.'\n",
    "    elif (p_value <= 0.05) and (p_value > 0.01):\n",
    "        level = '*'\n",
    "    elif (p_value <= 0.01) and (p_value > 0.001):\n",
    "        level = '**'\n",
    "    else:\n",
    "        level = '***'\n",
    "    return level\n",
    "\n",
    "def add_bar(x_1,x_2,res_1,res_2,y,ax):\n",
    "    \"\"\"\n",
    "    model_1,model_2 : int of the model tested\n",
    "    ax : axis from matplotlib figure\n",
    "    \"\"\"\n",
    "    ax.plot([x_1,x_1],[y+1,y+3],'k')\n",
    "    ax.plot([x_1,x_2],[y+3,y+3],'k')\n",
    "    ax.plot([x_2,x_2],[y+3,y+1],'k')\n",
    "\n",
    "    ax.text((x_2-x_1)/2+x_1, y+3, significance_level(ttest(res_1,res_2)),\n",
    "         {'color': 'black', 'fontsize': 14, 'ha': 'center', 'va': 'center',\n",
    "          'bbox': dict( fc=\"white\", ec=\"white\", pad=2)})\n",
    "    return y+5"
   ]
  },
  {
   "cell_type": "code",
   "execution_count": 21,
   "metadata": {},
   "outputs": [],
   "source": [
    "names = ['MAR_RESNET34_CROPPED_256_borehole_train','MAR_RESNET18_PADDED_256_borehole_train','MAR_RESNET18_PADDED_128_borehole_train','MAR_RESNET34_PADDED_256_borehole_train','MAR_RESNET34_RESIZED_256_borehole_train']\n",
    "\n",
    "validation = {}\n",
    "for name in names:\n",
    "    validation[name] = []\n",
    "    for path in glob.glob(f'../Models/outputs/{name}/model_logs_*.json'):\n",
    "        with open(path) as file:\n",
    "            valid_acc = json.load(file)\n",
    "\n",
    "            validation[name].append(valid_acc['train_evolution'][-1][-1]['Valid Accuracy'])"
   ]
  },
  {
   "cell_type": "code",
   "execution_count": 22,
   "metadata": {},
   "outputs": [
    {
     "data": {
      "text/plain": [
       "{'MAR_RESNET34_CROPPED_256_borehole_train': [0.8740234375,\n",
       "  0.8828125,\n",
       "  0.888671875],\n",
       " 'MAR_RESNET18_PADDED_256_borehole_train': [0.8603515625,\n",
       "  0.8701171875,\n",
       "  0.861328125],\n",
       " 'MAR_RESNET18_PADDED_128_borehole_train': [0.8232421875,\n",
       "  0.7939453125,\n",
       "  0.8203125],\n",
       " 'MAR_RESNET34_PADDED_256_borehole_train': [0.8544921875,\n",
       "  0.8515625,\n",
       "  0.8583984375],\n",
       " 'MAR_RESNET34_RESIZED_256_borehole_train': [0.8583984375,\n",
       "  0.86328125,\n",
       "  0.8681640625]}"
      ]
     },
     "execution_count": 22,
     "metadata": {},
     "output_type": "execute_result"
    }
   ],
   "source": [
    "validation"
   ]
  },
  {
   "cell_type": "code",
   "execution_count": 23,
   "metadata": {},
   "outputs": [
    {
     "name": "stdout",
     "output_type": "stream",
     "text": [
      "p value 0.06993398937467481\n",
      "p value 0.004521053101246598\n",
      "p value 0.0685871056241441\n",
      "p value 0.006350438308381775\n"
     ]
    },
    {
     "data": {
      "image/png": "[encoded data removed]",
      "text/plain": [
       "<Figure size 720x504 with 1 Axes>"
      ]
     },
     "metadata": {
      "needs_background": "light"
     },
     "output_type": "display_data"
    }
   ],
   "source": [
    "fig, ax = plt.subplots(figsize=(10,7))\n",
    "\n",
    "pos = np.arange(1,6)\n",
    "\n",
    "ax.bar(\n",
    "    x=pos,\n",
    "    height=pd.DataFrame.from_dict(validation)[names].mean(axis=0).values * 100,\n",
    "    yerr=pd.DataFrame.from_dict(validation)[names].std(axis=0).values * 100\n",
    "    ) \n",
    "\n",
    "tests = [\n",
    "    (\"MAR_RESNET34_RESIZED_256_borehole_train\",\"MAR_RESNET34_PADDED_256_borehole_train\"),\n",
    "    (\"MAR_RESNET34_PADDED_256_borehole_train\",\"MAR_RESNET34_CROPPED_256_borehole_train\"),\n",
    "    (\"MAR_RESNET34_PADDED_256_borehole_train\",\"MAR_RESNET18_PADDED_256_borehole_train\"),\n",
    "    (\"MAR_RESNET18_PADDED_256_borehole_train\",\"MAR_RESNET18_PADDED_128_borehole_train\")\n",
    "]\n",
    "\n",
    "y = 100 # where to start the bar\n",
    "for i_, (model_1, model_2) in enumerate(np.array(tests)[[0,1,2]]) :\n",
    "\n",
    "    x_1 = [names.index(i) for i in names if i == model_1][0] + 1\n",
    "    x_2 = [names.index(i) for i in names if i == model_2][0] + 1\n",
    "\n",
    "    res_1 = validation[model_1]\n",
    "    res_2 = validation[model_2]\n",
    "\n",
    "    y = add_bar(x_1,x_2,res_1,res_2,y,ax=ax)\n",
    "\n",
    "y = 100 # where to start the bar\n",
    "for i_, (model_1, model_2) in enumerate(np.array(tests)[[3]]) :\n",
    "\n",
    "    x_1 = [names.index(i) for i in names if i == model_1][0] + 1\n",
    "    x_2 = [names.index(i) for i in names if i == model_2][0] + 1\n",
    "\n",
    "    res_1 = validation[model_1]\n",
    "    res_2 = validation[model_2]\n",
    "\n",
    "    y = add_bar(x_1,x_2,res_1,res_2,y,ax=ax)\n",
    "\n",
    "for i_, model in enumerate(names):\n",
    "    plt.text(\n",
    "        pos[i_]-0.35, \n",
    "        117, \n",
    "        f\"{np.round(np.mean(validation[model])*100,1)}$\\pm${np.round(np.std(validation[model])*100,1)}\",\n",
    "        fontdict={'fontsize':14})\n",
    "plt.ylabel('Accuracy [%]')\n",
    "plt.xlabel('Model') \n",
    "\n",
    "plt.ylim(0, 125)\n",
    "plt.savefig(\"../FiguresPaper/model_selection_1.png\",bbox_inches='tight')"
   ]
  },
  {
   "cell_type": "markdown",
   "metadata": {},
   "source": [
    "### Laboratories"
   ]
  },
  {
   "cell_type": "code",
   "execution_count": 26,
   "metadata": {},
   "outputs": [],
   "source": [
    "names = ['MAR_RESNET34_CROPPED_256_lab_train','MAR_RESNET18_PADDED_256_lab_train','MAR_RESNET18_PADDED_128_lab_train','MAR_RESNET34_PADDED_256_lab_train','MAR_RESNET34_RESIZED_256_lab_train']\n",
    "\n",
    "validation = {}\n",
    "for name in names:\n",
    "    validation[name] = []\n",
    "    for path in glob.glob(f'../Models/outputs/{name}/model_logs_*.json'):\n",
    "        with open(path) as file:\n",
    "            valid_acc = json.load(file)\n",
    "\n",
    "            validation[name].append(valid_acc['train_evolution'][-1][-1]['Valid Accuracy'])"
   ]
  },
  {
   "cell_type": "code",
   "execution_count": 28,
   "metadata": {},
   "outputs": [
    {
     "data": {
      "text/plain": [
       "{'MAR_RESNET34_CROPPED_256_lab_train': [0.9560546875,\n",
       "  0.9169921875,\n",
       "  0.9052734375],\n",
       " 'MAR_RESNET18_PADDED_256_lab_train': [0.9384765625, 0.9189453125, 0.921875],\n",
       " 'MAR_RESNET18_PADDED_128_lab_train': [0.9287109375, 0.90234375, 0.8994140625],\n",
       " 'MAR_RESNET34_PADDED_256_lab_train': [0.943359375,\n",
       "  0.9208984375,\n",
       "  0.9189453125],\n",
       " 'MAR_RESNET34_RESIZED_256_lab_train': []}"
      ]
     },
     "execution_count": 28,
     "metadata": {},
     "output_type": "execute_result"
    }
   ],
   "source": [
    "validation"
   ]
  },
  {
   "cell_type": "code",
   "execution_count": 27,
   "metadata": {},
   "outputs": [
    {
     "ename": "ValueError",
     "evalue": "arrays must all be same length",
     "output_type": "error",
     "traceback": [
      "\u001b[1;31m---------------------------------------------------------------------------\u001b[0m",
      "\u001b[1;31mValueError\u001b[0m                                Traceback (most recent call last)",
      "\u001b[1;32m<ipython-input-27-49f64edc05c6>\u001b[0m in \u001b[0;36m<module>\u001b[1;34m\u001b[0m\n\u001b[0;32m      5\u001b[0m ax.bar(\n\u001b[0;32m      6\u001b[0m     \u001b[0mx\u001b[0m\u001b[1;33m=\u001b[0m\u001b[0mpos\u001b[0m\u001b[1;33m,\u001b[0m\u001b[1;33m\u001b[0m\u001b[1;33m\u001b[0m\u001b[0m\n\u001b[1;32m----> 7\u001b[1;33m     \u001b[0mheight\u001b[0m\u001b[1;33m=\u001b[0m\u001b[0mpd\u001b[0m\u001b[1;33m.\u001b[0m\u001b[0mDataFrame\u001b[0m\u001b[1;33m.\u001b[0m\u001b[0mfrom_dict\u001b[0m\u001b[1;33m(\u001b[0m\u001b[0mvalidation\u001b[0m\u001b[1;33m)\u001b[0m\u001b[1;33m[\u001b[0m\u001b[0mnames\u001b[0m\u001b[1;33m]\u001b[0m\u001b[1;33m.\u001b[0m\u001b[0mmean\u001b[0m\u001b[1;33m(\u001b[0m\u001b[0maxis\u001b[0m\u001b[1;33m=\u001b[0m\u001b[1;36m0\u001b[0m\u001b[1;33m)\u001b[0m\u001b[1;33m.\u001b[0m\u001b[0mvalues\u001b[0m \u001b[1;33m*\u001b[0m \u001b[1;36m100\u001b[0m\u001b[1;33m,\u001b[0m\u001b[1;33m\u001b[0m\u001b[1;33m\u001b[0m\u001b[0m\n\u001b[0m\u001b[0;32m      8\u001b[0m     \u001b[0myerr\u001b[0m\u001b[1;33m=\u001b[0m\u001b[0mpd\u001b[0m\u001b[1;33m.\u001b[0m\u001b[0mDataFrame\u001b[0m\u001b[1;33m.\u001b[0m\u001b[0mfrom_dict\u001b[0m\u001b[1;33m(\u001b[0m\u001b[0mvalidation\u001b[0m\u001b[1;33m)\u001b[0m\u001b[1;33m[\u001b[0m\u001b[0mnames\u001b[0m\u001b[1;33m]\u001b[0m\u001b[1;33m.\u001b[0m\u001b[0mstd\u001b[0m\u001b[1;33m(\u001b[0m\u001b[0maxis\u001b[0m\u001b[1;33m=\u001b[0m\u001b[1;36m0\u001b[0m\u001b[1;33m)\u001b[0m\u001b[1;33m.\u001b[0m\u001b[0mvalues\u001b[0m \u001b[1;33m*\u001b[0m \u001b[1;36m100\u001b[0m\u001b[1;33m\u001b[0m\u001b[1;33m\u001b[0m\u001b[0m\n\u001b[0;32m      9\u001b[0m     ) \n",
      "\u001b[1;32mc:\\Users\\nilso\\Anaconda3\\envs\\TORCH\\lib\\site-packages\\pandas\\core\\frame.py\u001b[0m in \u001b[0;36mfrom_dict\u001b[1;34m(cls, data, orient, dtype, columns)\u001b[0m\n\u001b[0;32m   1307\u001b[0m             \u001b[1;32mraise\u001b[0m \u001b[0mValueError\u001b[0m\u001b[1;33m(\u001b[0m\u001b[1;34m\"only recognize index or columns for orient\"\u001b[0m\u001b[1;33m)\u001b[0m\u001b[1;33m\u001b[0m\u001b[1;33m\u001b[0m\u001b[0m\n\u001b[0;32m   1308\u001b[0m \u001b[1;33m\u001b[0m\u001b[0m\n\u001b[1;32m-> 1309\u001b[1;33m         \u001b[1;32mreturn\u001b[0m \u001b[0mcls\u001b[0m\u001b[1;33m(\u001b[0m\u001b[0mdata\u001b[0m\u001b[1;33m,\u001b[0m \u001b[0mindex\u001b[0m\u001b[1;33m=\u001b[0m\u001b[0mindex\u001b[0m\u001b[1;33m,\u001b[0m \u001b[0mcolumns\u001b[0m\u001b[1;33m=\u001b[0m\u001b[0mcolumns\u001b[0m\u001b[1;33m,\u001b[0m \u001b[0mdtype\u001b[0m\u001b[1;33m=\u001b[0m\u001b[0mdtype\u001b[0m\u001b[1;33m)\u001b[0m\u001b[1;33m\u001b[0m\u001b[1;33m\u001b[0m\u001b[0m\n\u001b[0m\u001b[0;32m   1310\u001b[0m \u001b[1;33m\u001b[0m\u001b[0m\n\u001b[0;32m   1311\u001b[0m     def to_numpy(\n",
      "\u001b[1;32mc:\\Users\\nilso\\Anaconda3\\envs\\TORCH\\lib\\site-packages\\pandas\\core\\frame.py\u001b[0m in \u001b[0;36m__init__\u001b[1;34m(self, data, index, columns, dtype, copy)\u001b[0m\n\u001b[0;32m    466\u001b[0m \u001b[1;33m\u001b[0m\u001b[0m\n\u001b[0;32m    467\u001b[0m         \u001b[1;32melif\u001b[0m \u001b[0misinstance\u001b[0m\u001b[1;33m(\u001b[0m\u001b[0mdata\u001b[0m\u001b[1;33m,\u001b[0m \u001b[0mdict\u001b[0m\u001b[1;33m)\u001b[0m\u001b[1;33m:\u001b[0m\u001b[1;33m\u001b[0m\u001b[1;33m\u001b[0m\u001b[0m\n\u001b[1;32m--> 468\u001b[1;33m             \u001b[0mmgr\u001b[0m \u001b[1;33m=\u001b[0m \u001b[0minit_dict\u001b[0m\u001b[1;33m(\u001b[0m\u001b[0mdata\u001b[0m\u001b[1;33m,\u001b[0m \u001b[0mindex\u001b[0m\u001b[1;33m,\u001b[0m \u001b[0mcolumns\u001b[0m\u001b[1;33m,\u001b[0m \u001b[0mdtype\u001b[0m\u001b[1;33m=\u001b[0m\u001b[0mdtype\u001b[0m\u001b[1;33m)\u001b[0m\u001b[1;33m\u001b[0m\u001b[1;33m\u001b[0m\u001b[0m\n\u001b[0m\u001b[0;32m    469\u001b[0m         \u001b[1;32melif\u001b[0m \u001b[0misinstance\u001b[0m\u001b[1;33m(\u001b[0m\u001b[0mdata\u001b[0m\u001b[1;33m,\u001b[0m \u001b[0mma\u001b[0m\u001b[1;33m.\u001b[0m\u001b[0mMaskedArray\u001b[0m\u001b[1;33m)\u001b[0m\u001b[1;33m:\u001b[0m\u001b[1;33m\u001b[0m\u001b[1;33m\u001b[0m\u001b[0m\n\u001b[0;32m    470\u001b[0m             \u001b[1;32mimport\u001b[0m \u001b[0mnumpy\u001b[0m\u001b[1;33m.\u001b[0m\u001b[0mma\u001b[0m\u001b[1;33m.\u001b[0m\u001b[0mmrecords\u001b[0m \u001b[1;32mas\u001b[0m \u001b[0mmrecords\u001b[0m\u001b[1;33m\u001b[0m\u001b[1;33m\u001b[0m\u001b[0m\n",
      "\u001b[1;32mc:\\Users\\nilso\\Anaconda3\\envs\\TORCH\\lib\\site-packages\\pandas\\core\\internals\\construction.py\u001b[0m in \u001b[0;36minit_dict\u001b[1;34m(data, index, columns, dtype)\u001b[0m\n\u001b[0;32m    281\u001b[0m             \u001b[0marr\u001b[0m \u001b[1;32mif\u001b[0m \u001b[1;32mnot\u001b[0m \u001b[0mis_datetime64tz_dtype\u001b[0m\u001b[1;33m(\u001b[0m\u001b[0marr\u001b[0m\u001b[1;33m)\u001b[0m \u001b[1;32melse\u001b[0m \u001b[0marr\u001b[0m\u001b[1;33m.\u001b[0m\u001b[0mcopy\u001b[0m\u001b[1;33m(\u001b[0m\u001b[1;33m)\u001b[0m \u001b[1;32mfor\u001b[0m \u001b[0marr\u001b[0m \u001b[1;32min\u001b[0m \u001b[0marrays\u001b[0m\u001b[1;33m\u001b[0m\u001b[1;33m\u001b[0m\u001b[0m\n\u001b[0;32m    282\u001b[0m         ]\n\u001b[1;32m--> 283\u001b[1;33m     \u001b[1;32mreturn\u001b[0m \u001b[0marrays_to_mgr\u001b[0m\u001b[1;33m(\u001b[0m\u001b[0marrays\u001b[0m\u001b[1;33m,\u001b[0m \u001b[0mdata_names\u001b[0m\u001b[1;33m,\u001b[0m \u001b[0mindex\u001b[0m\u001b[1;33m,\u001b[0m \u001b[0mcolumns\u001b[0m\u001b[1;33m,\u001b[0m \u001b[0mdtype\u001b[0m\u001b[1;33m=\u001b[0m\u001b[0mdtype\u001b[0m\u001b[1;33m)\u001b[0m\u001b[1;33m\u001b[0m\u001b[1;33m\u001b[0m\u001b[0m\n\u001b[0m\u001b[0;32m    284\u001b[0m \u001b[1;33m\u001b[0m\u001b[0m\n\u001b[0;32m    285\u001b[0m \u001b[1;33m\u001b[0m\u001b[0m\n",
      "\u001b[1;32mc:\\Users\\nilso\\Anaconda3\\envs\\TORCH\\lib\\site-packages\\pandas\\core\\internals\\construction.py\u001b[0m in \u001b[0;36marrays_to_mgr\u001b[1;34m(arrays, arr_names, index, columns, dtype, verify_integrity)\u001b[0m\n\u001b[0;32m     76\u001b[0m         \u001b[1;31m# figure out the index, if necessary\u001b[0m\u001b[1;33m\u001b[0m\u001b[1;33m\u001b[0m\u001b[1;33m\u001b[0m\u001b[0m\n\u001b[0;32m     77\u001b[0m         \u001b[1;32mif\u001b[0m \u001b[0mindex\u001b[0m \u001b[1;32mis\u001b[0m \u001b[1;32mNone\u001b[0m\u001b[1;33m:\u001b[0m\u001b[1;33m\u001b[0m\u001b[1;33m\u001b[0m\u001b[0m\n\u001b[1;32m---> 78\u001b[1;33m             \u001b[0mindex\u001b[0m \u001b[1;33m=\u001b[0m \u001b[0mextract_index\u001b[0m\u001b[1;33m(\u001b[0m\u001b[0marrays\u001b[0m\u001b[1;33m)\u001b[0m\u001b[1;33m\u001b[0m\u001b[1;33m\u001b[0m\u001b[0m\n\u001b[0m\u001b[0;32m     79\u001b[0m         \u001b[1;32melse\u001b[0m\u001b[1;33m:\u001b[0m\u001b[1;33m\u001b[0m\u001b[1;33m\u001b[0m\u001b[0m\n\u001b[0;32m     80\u001b[0m             \u001b[0mindex\u001b[0m \u001b[1;33m=\u001b[0m \u001b[0mensure_index\u001b[0m\u001b[1;33m(\u001b[0m\u001b[0mindex\u001b[0m\u001b[1;33m)\u001b[0m\u001b[1;33m\u001b[0m\u001b[1;33m\u001b[0m\u001b[0m\n",
      "\u001b[1;32mc:\\Users\\nilso\\Anaconda3\\envs\\TORCH\\lib\\site-packages\\pandas\\core\\internals\\construction.py\u001b[0m in \u001b[0;36mextract_index\u001b[1;34m(data)\u001b[0m\n\u001b[0;32m    395\u001b[0m             \u001b[0mlengths\u001b[0m \u001b[1;33m=\u001b[0m \u001b[0mlist\u001b[0m\u001b[1;33m(\u001b[0m\u001b[0mset\u001b[0m\u001b[1;33m(\u001b[0m\u001b[0mraw_lengths\u001b[0m\u001b[1;33m)\u001b[0m\u001b[1;33m)\u001b[0m\u001b[1;33m\u001b[0m\u001b[1;33m\u001b[0m\u001b[0m\n\u001b[0;32m    396\u001b[0m             \u001b[1;32mif\u001b[0m \u001b[0mlen\u001b[0m\u001b[1;33m(\u001b[0m\u001b[0mlengths\u001b[0m\u001b[1;33m)\u001b[0m \u001b[1;33m>\u001b[0m \u001b[1;36m1\u001b[0m\u001b[1;33m:\u001b[0m\u001b[1;33m\u001b[0m\u001b[1;33m\u001b[0m\u001b[0m\n\u001b[1;32m--> 397\u001b[1;33m                 \u001b[1;32mraise\u001b[0m \u001b[0mValueError\u001b[0m\u001b[1;33m(\u001b[0m\u001b[1;34m\"arrays must all be same length\"\u001b[0m\u001b[1;33m)\u001b[0m\u001b[1;33m\u001b[0m\u001b[1;33m\u001b[0m\u001b[0m\n\u001b[0m\u001b[0;32m    398\u001b[0m \u001b[1;33m\u001b[0m\u001b[0m\n\u001b[0;32m    399\u001b[0m             \u001b[1;32mif\u001b[0m \u001b[0mhave_dicts\u001b[0m\u001b[1;33m:\u001b[0m\u001b[1;33m\u001b[0m\u001b[1;33m\u001b[0m\u001b[0m\n",
      "\u001b[1;31mValueError\u001b[0m: arrays must all be same length"
     ]
    },
    {
     "data": {
      "image/png": "[encoded data removed]",
      "text/plain": [
       "<Figure size 720x504 with 1 Axes>"
      ]
     },
     "metadata": {
      "needs_background": "light"
     },
     "output_type": "display_data"
    }
   ],
   "source": [
    "fig, ax = plt.subplots(figsize=(10,7))\n",
    "\n",
    "pos = np.arange(1,6)\n",
    "\n",
    "ax.bar(\n",
    "    x=pos,\n",
    "    height=pd.DataFrame.from_dict(validation)[names].mean(axis=0).values * 100,\n",
    "    yerr=pd.DataFrame.from_dict(validation)[names].std(axis=0).values * 100\n",
    "    ) \n",
    "\n",
    "tests = [\n",
    "    (\"MAR_RESNET34_RESIZED_256_lab_train\",\"MAR_RESNET34_PADDED_256_lab_train\"),\n",
    "    (\"MAR_RESNET34_PADDED_256_lab_train\",\"MAR_RESNET34_CROPPED_256_lab_train\"),\n",
    "    (\"MAR_RESNET34_PADDED_256_lab_train\",\"MAR_RESNET18_PADDED_256_lab_train\"),\n",
    "    (\"MAR_RESNET18_PADDED_256_lab_train\",\"MAR_RESNET18_PADDED_128_lab_train\")\n",
    "]\n",
    "\n",
    "y = 100 # where to start the bar\n",
    "for i_, (model_1, model_2) in enumerate(np.array(tests)[[0,1,2]]) :\n",
    "\n",
    "    x_1 = [names.index(i) for i in names if i == model_1][0] + 1\n",
    "    x_2 = [names.index(i) for i in names if i == model_2][0] + 1\n",
    "\n",
    "    res_1 = validation[model_1]\n",
    "    res_2 = validation[model_2]\n",
    "\n",
    "    y = add_bar(x_1,x_2,res_1,res_2,y,ax=ax)\n",
    "\n",
    "y = 100 # where to start the bar\n",
    "for i_, (model_1, model_2) in enumerate(np.array(tests)[[3]]) :\n",
    "\n",
    "    x_1 = [names.index(i) for i in names if i == model_1][0] + 1\n",
    "    x_2 = [names.index(i) for i in names if i == model_2][0] + 1\n",
    "\n",
    "    res_1 = validation[model_1]\n",
    "    res_2 = validation[model_2]\n",
    "\n",
    "    y = add_bar(x_1,x_2,res_1,res_2,y,ax=ax)\n",
    "\n",
    "for i_, model in enumerate(names):\n",
    "    plt.text(\n",
    "        pos[i_]-0.35, \n",
    "        117, \n",
    "        f\"{np.round(np.mean(validation[model])*100,1)}$\\pm${np.round(np.std(validation[model])*100,1)}\",\n",
    "        fontdict={'fontsize':14})\n",
    "plt.ylabel('Accuracy [%]')\n",
    "plt.xlabel('Model') \n",
    "\n",
    "plt.ylim(0, 125)\n",
    "#plt.savefig(\"../FiguresPaper/model_selection_1.png\",bbox_inches='tight')"
   ]
  },
  {
   "cell_type": "code",
   "execution_count": null,
   "metadata": {},
   "outputs": [],
   "source": []
  },
  {
   "cell_type": "code",
   "execution_count": null,
   "metadata": {},
   "outputs": [],
   "source": []
  },
  {
   "cell_type": "code",
   "execution_count": null,
   "metadata": {},
   "outputs": [],
   "source": []
  },
  {
   "cell_type": "code",
   "execution_count": 26,
   "metadata": {},
   "outputs": [
    {
     "name": "stdout",
     "output_type": "stream",
     "text": [
      "p value 0.48158486968195835\n",
      "p value 8.443997352109662e-06\n",
      "p value 0.34947827166710177\n",
      "p value 0.004875680674273119\n"
     ]
    },
    {
     "data": {
      "image/png": "[encoded data removed]",
      "text/plain": [
       "<Figure size 720x504 with 1 Axes>"
      ]
     },
     "metadata": {
      "needs_background": "light"
     },
     "output_type": "display_data"
    }
   ],
   "source": [
    "fig, ax = plt.subplots(figsize=(10,7))\n",
    "\n",
    "pos = np.arange(1,6)\n",
    "\n",
    "ax.bar(\n",
    "    x=pos,\n",
    "    height=pd.DataFrame.from_dict(dict_acc)[lists].mean(axis=0).values * 100,\n",
    "    yerr=pd.DataFrame.from_dict(dict_acc)[lists].std(axis=0).values * 100\n",
    "    ) \n",
    "\n",
    "tests = [\n",
    "    (\"MAR_RESNET34_RESIZED_256_ALL_NEW\",\"MAR_RESNET34_PADDED_256_ALL_NEW\"),\n",
    "    (\"MAR_RESNET34_PADDED_256_ALL_NEW\",\"MAR_RESNET34_CROPPED_256_ALL_NEW\"),\n",
    "    (\"MAR_RESNET34_PADDED_256_ALL_NEW\",\"MAR_RESNET18_PADDED_256_ALL_NEW\"),\n",
    "    (\"MAR_RESNET18_PADDED_256_ALL_NEW\",\"MAR_RESNET18_PADDED_128_ALL_NEW\")\n",
    "]\n",
    "\n",
    "y = 100 # where to start the bar\n",
    "for i_, (model_1, model_2) in enumerate(np.array(tests)[[0,1,2]]) :\n",
    "\n",
    "    x_1 = [lists.index(i) for i in lists if i == model_1][0] + 1\n",
    "    x_2 = [lists.index(i) for i in lists if i == model_2][0] + 1\n",
    "\n",
    "    res_1 = dict_acc[model_1]\n",
    "    res_2 = dict_acc[model_2]\n",
    "\n",
    "    y = add_bar(x_1,x_2,res_1,res_2,y,ax=ax)\n",
    "\n",
    "y = 100 # where to start the bar\n",
    "for i_, (model_1, model_2) in enumerate(np.array(tests)[[3]]) :\n",
    "\n",
    "    x_1 = [lists.index(i) for i in lists if i == model_1][0] + 1\n",
    "    x_2 = [lists.index(i) for i in lists if i == model_2][0] + 1\n",
    "\n",
    "    res_1 = dict_acc[model_1]\n",
    "    res_2 = dict_acc[model_2]\n",
    "\n",
    "    y = add_bar(x_1,x_2,res_1,res_2,y,ax=ax)\n",
    "\n",
    "plt.ylabel('Accuracy [%]')\n",
    "plt.xlabel('Model') \n",
    "\n",
    "plt.ylim(0, 120)\n",
    "plt.savefig(\"../FiguresPaper/model_selection_2.png\",bbox_inches='tight')"
   ]
  },
  {
   "cell_type": "code",
   "execution_count": null,
   "metadata": {},
   "outputs": [],
   "source": []
  }
 ],
 "metadata": {
  "kernelspec": {
   "display_name": "Python 3.7.9 ('TORCH')",
   "language": "python",
   "name": "python3"
  },
  "language_info": {
   "codemirror_mode": {
    "name": "ipython",
    "version": 3
   },
   "file_extension": ".py",
   "mimetype": "text/x-python",
   "name": "python",
   "nbconvert_exporter": "python",
   "pygments_lexer": "ipython3",
   "version": "3.7.9 (default, Aug 31 2020, 17:10:11) [MSC v.1916 64 bit (AMD64)]"
  },
  "orig_nbformat": 4,
  "vscode": {
   "interpreter": {
    "hash": "78edb7be0a4558d39392e7a4499f5e93d40d420b506558b6d8f701e925c16473"
   }
  }
 },
 "nbformat": 4,
 "nbformat_minor": 2
}
