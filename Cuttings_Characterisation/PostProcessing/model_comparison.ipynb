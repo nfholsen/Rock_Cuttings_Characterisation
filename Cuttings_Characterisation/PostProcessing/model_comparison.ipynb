{
 "cells": [
  {
   "cell_type": "code",
   "execution_count": 1,
   "metadata": {},
   "outputs": [],
   "source": [
    "# Plot outputs from application\n",
    "\n",
    "import numpy as np\n",
    "import pandas as pd\n",
    "import matplotlib.pyplot as plt"
   ]
  },
  {
   "cell_type": "code",
   "execution_count": 3,
   "metadata": {},
   "outputs": [],
   "source": [
    "df_preds = pd.read_csv('../Application/comparison_data.csv',index_col=0)"
   ]
  },
  {
   "cell_type": "code",
   "execution_count": null,
   "metadata": {},
   "outputs": [],
   "source": [
    "n = 5\n",
    "fig, ax = plt.subplots()\n",
    "index = np.arange(n)\n",
    "bar_width = 0.25\n",
    "ax.bar(index+bar_width, np.array(our_model_vec).mean(axis=0), bar_width, color='g',\n",
    "                label='Our Model')\n",
    "ax.bar(index, np.array(baseline_vec).mean(axis=0), bar_width, color='r',\n",
    "                label='Baseline')\n",
    "ax.bar(index-bar_width, acc_user, bar_width, color='b',\n",
    "                label='Expert')\n",
    "ax.set_xlabel('Rock Type')\n",
    "ax.set_ylabel('Accuracy')\n",
    "ax.set_xticks(index + bar_width / 2)\n",
    "ax.set_xticklabels(('Rock 1','Rock 2','Rock 3','Rock 4','Rock 5'))\n",
    "ax.legend()"
   ]
  }
 ],
 "metadata": {
  "interpreter": {
   "hash": "6ecc313d30624b9b9be89b8ae8b54ae9d436219e0253ae413d5b50a036da17b7"
  },
  "kernelspec": {
   "display_name": "Python 3.8.5 64-bit ('base': conda)",
   "language": "python",
   "name": "python3"
  },
  "language_info": {
   "codemirror_mode": {
    "name": "ipython",
    "version": 3
   },
   "file_extension": ".py",
   "mimetype": "text/x-python",
   "name": "python",
   "nbconvert_exporter": "python",
   "pygments_lexer": "ipython3",
   "version": "3.8.5"
  },
  "orig_nbformat": 4
 },
 "nbformat": 4,
 "nbformat_minor": 2
}
