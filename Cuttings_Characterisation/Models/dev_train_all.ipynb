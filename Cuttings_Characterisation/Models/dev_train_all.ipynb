{
 "cells": [
  {
   "cell_type": "code",
   "execution_count": 6,
   "metadata": {},
   "outputs": [],
   "source": [
    "import torch\n",
    "import torch.nn as nn\n",
    "import torch.optim as optim\n",
    "from torch.optim.lr_scheduler import _LRScheduler\n",
    "\n",
    "from sklearn.model_selection import StratifiedKFold, train_test_split\n",
    "from sklearn.metrics import accuracy_score\n",
    "\n",
    "from pathlib import Path\n",
    "import numpy as np\n",
    "import pandas as pd\n",
    "import random, getopt, os, sys\n",
    "\n",
    "sys.path.append(os.path.abspath(os.path.join(os.getcwd(), '../..')))\n",
    "\n",
    "from Lamp.AttrDict.AttrDict import *\n",
    "from Lamp.Model.Dataloader import *\n",
    "from Lamp.Model.BaseModel import *\n",
    "from Lamp.Model.Resnet import *"
   ]
  },
  {
   "cell_type": "code",
   "execution_count": 7,
   "metadata": {},
   "outputs": [
    {
     "data": {
      "text/plain": [
       "{'ModelName': 'MAR_RESNET34_PADDED_64_ALL',\n",
       " 'PathSave': 'Models/outputs/',\n",
       " 'LoadPath': 'Dataset/train_mar.csv',\n",
       " 'CheckpointName': 'checkpoint.pt',\n",
       " 'CheckpointFreq': 5,\n",
       " 'NSamples': 1000,\n",
       " 'NEpochs': 200,\n",
       " 'BatchSize': 32,\n",
       " 'TrainTestSplit': 0.95,\n",
       " 'KFold': 5,\n",
       " 'Seed': 0,\n",
       " 'Model': {'Layers': [3, 4, 6, 3], 'OutClasses': 5, 'Channels': 1},\n",
       " 'TransformTrain': {'Padding': {'out_shape': 64},\n",
       "  'VerticalFlip': {'p': 0.5},\n",
       "  'HorizontalFlip': {'p': 0.5},\n",
       "  'Rotation': {'min': -90, 'max': 90}},\n",
       " 'TransformTest': {'Padding': {'out_shape': 64}},\n",
       " 'Optimizer': {'lr': 0.001, 'weight_decay': 1e-06},\n",
       " 'Scheduler': {'gamma': 0.95}}"
      ]
     },
     "execution_count": 7,
     "metadata": {},
     "output_type": "execute_result"
    }
   ],
   "source": [
    "cfg_path = 'Config/MAR_RESNET34_PADDED_64_ALL.yaml'\n",
    "\n",
    "inputs = AttrDict.from_yaml_path(cfg_path)\n",
    "inputs"
   ]
  },
  {
   "cell_type": "code",
   "execution_count": 8,
   "metadata": {},
   "outputs": [],
   "source": [
    "def load_config(cfg_path):\n",
    "    \"\"\"  \"\"\"\n",
    "    if os.path.splitext(cfg_path)[-1] == '.json':\n",
    "        return AttrDict.from_json_path(cfg_path)\n",
    "    elif os.path.splitext(cfg_path)[-1] in ['.yaml', '.yml']:\n",
    "        return AttrDict.from_yaml_path(cfg_path)\n",
    "    else:\n",
    "        raise ValueError(f\"Unsupported config file format. Only '.json', '.yaml' and '.yml' files are supported.\")\n",
    "\n",
    "def set_seed(seed):\n",
    "    \"\"\" Set the random seed \"\"\"\n",
    "    random.seed(seed)\n",
    "    np.random.seed(seed)\n",
    "    torch.manual_seed(seed)\n",
    "    torch.cuda.manual_seed(seed)\n",
    "    torch.cuda.manual_seed_all(seed)\n",
    "\n",
    "def set_parameter_requires_grad(model):\n",
    "    \n",
    "    for _, child in model.named_children():\n",
    "        for param in child.parameters():\n",
    "            param.requires_grad = True\n",
    "\n",
    "def resnet(layers=[3, 4, 6, 3],channels=3, num_classes=1000):\n",
    "    model = ResNet(BasicBlock,layers,channels=channels,num_classes=num_classes)\n",
    "    return model\n",
    "\n",
    "class Classifier(BaseModelSingle):\n",
    "    def __init__(self, net: nn.Module, opt: Optimizer = None, sched: _LRScheduler = None, \n",
    "        logger: Logger = None, print_progress: bool = True, device: str = 'cuda:0', **kwargs):\n",
    "        super().__init__(net, opt=opt, sched=sched, logger=logger, print_progress=print_progress, device=device, **kwargs)\n",
    "        \n",
    "        self.loss_fn = nn.CrossEntropyLoss(reduction=\"mean\")\n",
    "\n",
    "\n",
    "    def forward_loss(self, data: Tuple[Tensor]) -> Tensor:\n",
    "        \"\"\"  \"\"\"\n",
    "        input, label = data\n",
    "        input = input.to(self.device)\n",
    "        label = label.to(self.device).long()\n",
    "\n",
    "        output = self.net(input)\n",
    "        loss = self.loss_fn(output, label)\n",
    "\n",
    "        pred = torch.argmax(output, dim=1)\n",
    "        pred_label = list(zip(pred.cpu().data.tolist(), label.cpu().data.tolist()))\n",
    "\n",
    "        pred, label = zip(*pred_label)\n",
    "        acc = accuracy_score(np.array(label), np.array(pred))\n",
    "\n",
    "        return loss, {\"Loss\": loss, \"Train Accuracy\": acc}"
   ]
  },
  {
   "cell_type": "code",
   "execution_count": 12,
   "metadata": {},
   "outputs": [],
   "source": [
    "root_path = os.path.abspath(os.path.join(os.getcwd(), '..')) # Workspace path to Cuttings_Characterisation \n",
    "path_load_data = f\"{root_path}/{inputs.LoadPath}\" # Path for the .csv file\n",
    "path_model = f\"{root_path}/{inputs.PathSave}/{inputs.ModelName}\"\n",
    "\n",
    "model_name = f\"model_all.pt\"\n",
    "save_model_path = f\"{path_model}/{model_name}\"\n",
    "\n",
    "dataframe = pd.read_csv(path_load_data,index_col=0)\n",
    "\n",
    "dataframe = dataframe.groupby('Label').sample(inputs.NSamples,replace=True,random_state=inputs.Seed).reset_index(drop=True)\n",
    "\n",
    "dataframe = dataframe.reset_index(drop=True)"
   ]
  },
  {
   "cell_type": "code",
   "execution_count": 14,
   "metadata": {},
   "outputs": [],
   "source": [
    "dict_transform = {\n",
    "    \"Padding\":Padding,\n",
    "    \"VerticalFlip\":tf.RandomVerticalFlip,\n",
    "    \"HorizontalFlip\":tf.RandomHorizontalFlip,\n",
    "    \"Rotation\":tf.RandomRotation,\n",
    "    \"CenterCrop\":tf.CenterCrop,\n",
    "    \"Resize\":tf.Resize,\n",
    "    }\n",
    "\n",
    "transforms_train = Transforms(\n",
    "    [dict_transform[key]([k for k in item.values()] if len(item.values()) > 1 else [k for k in item.values()][0]) for key, item in inputs.TransformTrain.items()] \n",
    "    )"
   ]
  },
  {
   "cell_type": "code",
   "execution_count": 15,
   "metadata": {},
   "outputs": [],
   "source": [
    "trainDataset = Dataset(\n",
    "    dataframe,\n",
    "    transforms=transforms_train.get_transforms()\n",
    "    )"
   ]
  },
  {
   "cell_type": "code",
   "execution_count": null,
   "metadata": {},
   "outputs": [],
   "source": []
  }
 ],
 "metadata": {
  "interpreter": {
   "hash": "c9bc2780ef9c74393fc13b2a6ebbb9325049e7560ec5b3fc49a36900b190151b"
  },
  "kernelspec": {
   "display_name": "Python 3.7.9 64-bit ('TORCH': conda)",
   "language": "python",
   "name": "python3"
  },
  "language_info": {
   "codemirror_mode": {
    "name": "ipython",
    "version": 3
   },
   "file_extension": ".py",
   "mimetype": "text/x-python",
   "name": "python",
   "nbconvert_exporter": "python",
   "pygments_lexer": "ipython3",
   "version": "3.7.9"
  },
  "orig_nbformat": 4
 },
 "nbformat": 4,
 "nbformat_minor": 2
}
