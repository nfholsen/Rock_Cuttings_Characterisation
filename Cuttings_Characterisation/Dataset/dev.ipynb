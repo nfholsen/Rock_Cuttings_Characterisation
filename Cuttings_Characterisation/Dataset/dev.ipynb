{
 "cells": [
  {
   "cell_type": "markdown",
   "metadata": {},
   "source": [
    "# Dataset : \n",
    "\n",
    "- List of files to read\n",
    "- File to save to (can be created or appended)\n",
    "- Arbitrary label associated with the region, mask or whatsoever\n",
    "\n",
    "- Updates : \n",
    "    - create dataset for train-test for the final comparison with 1'000 samples per class in both sets \n",
    "    - Add folders to the dataset for the training \n"
   ]
  },
  {
   "cell_type": "code",
   "execution_count": 9,
   "metadata": {},
   "outputs": [],
   "source": [
    "import numpy as np\n",
    "import pandas as pd\n",
    "import os, glob, sys\n",
    "\n",
    "from sklearn.model_selection import train_test_split\n",
    "from itertools import combinations\n",
    "\n",
    "sys.path.append('../../Lamp/AttrDict/')\n",
    "\n",
    "from AttrDict import *"
   ]
  },
  {
   "cell_type": "markdown",
   "metadata": {},
   "source": [
    "### Train Laboratory"
   ]
  },
  {
   "cell_type": "code",
   "execution_count": 2,
   "metadata": {},
   "outputs": [],
   "source": [
    "ifile = 'dataset_lab_train.yaml'\n",
    "\n",
    "if os.path.isfile(ifile) and os.path.splitext(ifile)[-1] in [\".yaml\",\".yml\"]:\n",
    "    inputs = AttrDict.from_yaml_path(ifile) # change to argv\n",
    "else:\n",
    "    raise AssertionError(\"Wrong input type\")"
   ]
  },
  {
   "cell_type": "code",
   "execution_count": 3,
   "metadata": {},
   "outputs": [],
   "source": [
    "paths = []\n",
    "labels = []\n",
    "folders = []\n",
    "\n",
    "for key, items in inputs.Train.items():\n",
    "    for folder in items.Folder:\n",
    "\n",
    "        path = glob.glob(inputs.rootData + folder + '*.png')\n",
    "        label = [items.Label] * len(path)\n",
    "\n",
    "        folders.append([folder] * len(path))\n",
    "        paths.append(path)\n",
    "        labels.append(label)\n",
    "\n",
    "list_of_paths = [item for elem in paths for item in elem]\n",
    "list_of_labels = [item for elem in labels for item in elem]\n",
    "list_of_folders = [item for elem in folders for item in elem]"
   ]
  },
  {
   "cell_type": "code",
   "execution_count": 4,
   "metadata": {},
   "outputs": [],
   "source": [
    "df_train = pd.DataFrame(np.array([list_of_paths,list_of_folders,list_of_labels]).T,columns=['Paths','Folders','Label'])\n",
    "df_train['Paths'] = '../' + df_train['Paths'].str.replace('\\\\','/').str.split('/',expand=True,n=9)[9]"
   ]
  },
  {
   "cell_type": "code",
   "execution_count": 5,
   "metadata": {},
   "outputs": [
    {
     "data": {
      "text/html": [
       "<div>\n",
       "<style scoped>\n",
       "    .dataframe tbody tr th:only-of-type {\n",
       "        vertical-align: middle;\n",
       "    }\n",
       "\n",
       "    .dataframe tbody tr th {\n",
       "        vertical-align: top;\n",
       "    }\n",
       "\n",
       "    .dataframe thead th {\n",
       "        text-align: right;\n",
       "    }\n",
       "</style>\n",
       "<table border=\"1\" class=\"dataframe\">\n",
       "  <thead>\n",
       "    <tr style=\"text-align: right;\">\n",
       "      <th></th>\n",
       "      <th>Paths</th>\n",
       "      <th>Folders</th>\n",
       "      <th>Label</th>\n",
       "    </tr>\n",
       "  </thead>\n",
       "  <tbody>\n",
       "    <tr>\n",
       "      <th>0</th>\n",
       "      <td>../Data/Train/BL3-1-DL/slice00200 (2020_05_17 ...</td>\n",
       "      <td>BL3-1-DL/</td>\n",
       "      <td>0</td>\n",
       "    </tr>\n",
       "    <tr>\n",
       "      <th>1</th>\n",
       "      <td>../Data/Train/BL3-1-DL/slice00200 (2020_05_17 ...</td>\n",
       "      <td>BL3-1-DL/</td>\n",
       "      <td>0</td>\n",
       "    </tr>\n",
       "    <tr>\n",
       "      <th>2</th>\n",
       "      <td>../Data/Train/BL3-1-DL/slice00200 (2020_05_17 ...</td>\n",
       "      <td>BL3-1-DL/</td>\n",
       "      <td>0</td>\n",
       "    </tr>\n",
       "    <tr>\n",
       "      <th>3</th>\n",
       "      <td>../Data/Train/BL3-1-DL/slice00200 (2020_05_17 ...</td>\n",
       "      <td>BL3-1-DL/</td>\n",
       "      <td>0</td>\n",
       "    </tr>\n",
       "    <tr>\n",
       "      <th>4</th>\n",
       "      <td>../Data/Train/BL3-1-DL/slice00200 (2020_05_17 ...</td>\n",
       "      <td>BL3-1-DL/</td>\n",
       "      <td>0</td>\n",
       "    </tr>\n",
       "    <tr>\n",
       "      <th>...</th>\n",
       "      <td>...</td>\n",
       "      <td>...</td>\n",
       "      <td>...</td>\n",
       "    </tr>\n",
       "    <tr>\n",
       "      <th>18039</th>\n",
       "      <td>../Data/Train/OL7-3-DL/slice01320 (2020_05_17 ...</td>\n",
       "      <td>OL7-3-DL/</td>\n",
       "      <td>4</td>\n",
       "    </tr>\n",
       "    <tr>\n",
       "      <th>18040</th>\n",
       "      <td>../Data/Train/OL7-3-DL/slice01320 (2020_05_17 ...</td>\n",
       "      <td>OL7-3-DL/</td>\n",
       "      <td>4</td>\n",
       "    </tr>\n",
       "    <tr>\n",
       "      <th>18041</th>\n",
       "      <td>../Data/Train/OL7-3-DL/slice01320 (2020_05_17 ...</td>\n",
       "      <td>OL7-3-DL/</td>\n",
       "      <td>4</td>\n",
       "    </tr>\n",
       "    <tr>\n",
       "      <th>18042</th>\n",
       "      <td>../Data/Train/OL7-3-DL/slice01320 (2020_05_17 ...</td>\n",
       "      <td>OL7-3-DL/</td>\n",
       "      <td>4</td>\n",
       "    </tr>\n",
       "    <tr>\n",
       "      <th>18043</th>\n",
       "      <td>../Data/Train/OL7-3-DL/slice01320 (2020_05_17 ...</td>\n",
       "      <td>OL7-3-DL/</td>\n",
       "      <td>4</td>\n",
       "    </tr>\n",
       "  </tbody>\n",
       "</table>\n",
       "<p>18044 rows × 3 columns</p>\n",
       "</div>"
      ],
      "text/plain": [
       "                                                   Paths    Folders Label\n",
       "0      ../Data/Train/BL3-1-DL/slice00200 (2020_05_17 ...  BL3-1-DL/     0\n",
       "1      ../Data/Train/BL3-1-DL/slice00200 (2020_05_17 ...  BL3-1-DL/     0\n",
       "2      ../Data/Train/BL3-1-DL/slice00200 (2020_05_17 ...  BL3-1-DL/     0\n",
       "3      ../Data/Train/BL3-1-DL/slice00200 (2020_05_17 ...  BL3-1-DL/     0\n",
       "4      ../Data/Train/BL3-1-DL/slice00200 (2020_05_17 ...  BL3-1-DL/     0\n",
       "...                                                  ...        ...   ...\n",
       "18039  ../Data/Train/OL7-3-DL/slice01320 (2020_05_17 ...  OL7-3-DL/     4\n",
       "18040  ../Data/Train/OL7-3-DL/slice01320 (2020_05_17 ...  OL7-3-DL/     4\n",
       "18041  ../Data/Train/OL7-3-DL/slice01320 (2020_05_17 ...  OL7-3-DL/     4\n",
       "18042  ../Data/Train/OL7-3-DL/slice01320 (2020_05_17 ...  OL7-3-DL/     4\n",
       "18043  ../Data/Train/OL7-3-DL/slice01320 (2020_05_17 ...  OL7-3-DL/     4\n",
       "\n",
       "[18044 rows x 3 columns]"
      ]
     },
     "execution_count": 5,
     "metadata": {},
     "output_type": "execute_result"
    }
   ],
   "source": [
    "df_train"
   ]
  },
  {
   "cell_type": "code",
   "execution_count": 6,
   "metadata": {},
   "outputs": [],
   "source": [
    "df_train_bbox = df_train.loc[df_train.Paths.str.find('bbox',start=-16) > -1, :].reset_index(drop=True)\n",
    "df_train_mar = df_train.loc[df_train.Paths.str.find('mar',start=-16) > -1, :].reset_index(drop=True)"
   ]
  },
  {
   "cell_type": "code",
   "execution_count": 7,
   "metadata": {},
   "outputs": [
    {
     "data": {
      "text/html": [
       "<div>\n",
       "<style scoped>\n",
       "    .dataframe tbody tr th:only-of-type {\n",
       "        vertical-align: middle;\n",
       "    }\n",
       "\n",
       "    .dataframe tbody tr th {\n",
       "        vertical-align: top;\n",
       "    }\n",
       "\n",
       "    .dataframe thead th {\n",
       "        text-align: right;\n",
       "    }\n",
       "</style>\n",
       "<table border=\"1\" class=\"dataframe\">\n",
       "  <thead>\n",
       "    <tr style=\"text-align: right;\">\n",
       "      <th></th>\n",
       "      <th>Paths</th>\n",
       "      <th>Folders</th>\n",
       "      <th>Label</th>\n",
       "    </tr>\n",
       "  </thead>\n",
       "  <tbody>\n",
       "    <tr>\n",
       "      <th>0</th>\n",
       "      <td>../Data/Train/BL3-1-DL/slice00200 (2020_05_17 ...</td>\n",
       "      <td>BL3-1-DL/</td>\n",
       "      <td>0</td>\n",
       "    </tr>\n",
       "    <tr>\n",
       "      <th>1</th>\n",
       "      <td>../Data/Train/BL3-1-DL/slice00200 (2020_05_17 ...</td>\n",
       "      <td>BL3-1-DL/</td>\n",
       "      <td>0</td>\n",
       "    </tr>\n",
       "    <tr>\n",
       "      <th>2</th>\n",
       "      <td>../Data/Train/BL3-1-DL/slice00200 (2020_05_17 ...</td>\n",
       "      <td>BL3-1-DL/</td>\n",
       "      <td>0</td>\n",
       "    </tr>\n",
       "    <tr>\n",
       "      <th>3</th>\n",
       "      <td>../Data/Train/BL3-1-DL/slice00200 (2020_05_17 ...</td>\n",
       "      <td>BL3-1-DL/</td>\n",
       "      <td>0</td>\n",
       "    </tr>\n",
       "    <tr>\n",
       "      <th>4</th>\n",
       "      <td>../Data/Train/BL3-1-DL/slice00200 (2020_05_17 ...</td>\n",
       "      <td>BL3-1-DL/</td>\n",
       "      <td>0</td>\n",
       "    </tr>\n",
       "    <tr>\n",
       "      <th>...</th>\n",
       "      <td>...</td>\n",
       "      <td>...</td>\n",
       "      <td>...</td>\n",
       "    </tr>\n",
       "    <tr>\n",
       "      <th>9017</th>\n",
       "      <td>../Data/Train/OL7-3-DL/slice01310 (2020_05_17 ...</td>\n",
       "      <td>OL7-3-DL/</td>\n",
       "      <td>4</td>\n",
       "    </tr>\n",
       "    <tr>\n",
       "      <th>9018</th>\n",
       "      <td>../Data/Train/OL7-3-DL/slice01310 (2020_05_17 ...</td>\n",
       "      <td>OL7-3-DL/</td>\n",
       "      <td>4</td>\n",
       "    </tr>\n",
       "    <tr>\n",
       "      <th>9019</th>\n",
       "      <td>../Data/Train/OL7-3-DL/slice01320 (2020_05_17 ...</td>\n",
       "      <td>OL7-3-DL/</td>\n",
       "      <td>4</td>\n",
       "    </tr>\n",
       "    <tr>\n",
       "      <th>9020</th>\n",
       "      <td>../Data/Train/OL7-3-DL/slice01320 (2020_05_17 ...</td>\n",
       "      <td>OL7-3-DL/</td>\n",
       "      <td>4</td>\n",
       "    </tr>\n",
       "    <tr>\n",
       "      <th>9021</th>\n",
       "      <td>../Data/Train/OL7-3-DL/slice01320 (2020_05_17 ...</td>\n",
       "      <td>OL7-3-DL/</td>\n",
       "      <td>4</td>\n",
       "    </tr>\n",
       "  </tbody>\n",
       "</table>\n",
       "<p>9022 rows × 3 columns</p>\n",
       "</div>"
      ],
      "text/plain": [
       "                                                  Paths    Folders Label\n",
       "0     ../Data/Train/BL3-1-DL/slice00200 (2020_05_17 ...  BL3-1-DL/     0\n",
       "1     ../Data/Train/BL3-1-DL/slice00200 (2020_05_17 ...  BL3-1-DL/     0\n",
       "2     ../Data/Train/BL3-1-DL/slice00200 (2020_05_17 ...  BL3-1-DL/     0\n",
       "3     ../Data/Train/BL3-1-DL/slice00200 (2020_05_17 ...  BL3-1-DL/     0\n",
       "4     ../Data/Train/BL3-1-DL/slice00200 (2020_05_17 ...  BL3-1-DL/     0\n",
       "...                                                 ...        ...   ...\n",
       "9017  ../Data/Train/OL7-3-DL/slice01310 (2020_05_17 ...  OL7-3-DL/     4\n",
       "9018  ../Data/Train/OL7-3-DL/slice01310 (2020_05_17 ...  OL7-3-DL/     4\n",
       "9019  ../Data/Train/OL7-3-DL/slice01320 (2020_05_17 ...  OL7-3-DL/     4\n",
       "9020  ../Data/Train/OL7-3-DL/slice01320 (2020_05_17 ...  OL7-3-DL/     4\n",
       "9021  ../Data/Train/OL7-3-DL/slice01320 (2020_05_17 ...  OL7-3-DL/     4\n",
       "\n",
       "[9022 rows x 3 columns]"
      ]
     },
     "execution_count": 7,
     "metadata": {},
     "output_type": "execute_result"
    }
   ],
   "source": [
    "df_train_mar"
   ]
  },
  {
   "cell_type": "code",
   "execution_count": 8,
   "metadata": {},
   "outputs": [],
   "source": [
    "# Loop groupby label and every combination of folders\n",
    "lists = [i for folders_all in df_train_mar.groupby(by='Label')['Folders'].unique().to_list() for i in combinations(folders_all,r=2)]\n",
    "\n",
    "for i in range(3):\n",
    "    train_folders = [item for t in lists[i::3] for item in t]\n",
    "    test_folders = list(set(df_train_mar['Folders'].unique()).difference(set(train_folders)))\n",
    "\n",
    "    df_train_mar.loc[df_train_mar['Folders'].isin(train_folders),:].groupby(by=['Label','Folders']).sample(500,replace=True,random_state=0).reset_index(drop=True).to_csv(f'lab/train_mar_{i}.csv')\n",
    "    df_train_mar.loc[df_train_mar['Folders'].isin(test_folders),:].groupby(by=['Label','Folders']).sample(200,replace=True,random_state=0).reset_index(drop=True).to_csv(f'lab/test_mar_{i}.csv')"
   ]
  },
  {
   "cell_type": "markdown",
   "metadata": {},
   "source": [
    "### Train Boreholes"
   ]
  },
  {
   "cell_type": "code",
   "execution_count": 9,
   "metadata": {},
   "outputs": [],
   "source": [
    "ifile = 'dataset_borehole_train.yaml'\n",
    "\n",
    "if os.path.isfile(ifile) and os.path.splitext(ifile)[-1] in [\".yaml\",\".yml\"]:\n",
    "    inputs = AttrDict.from_yaml_path(ifile) # change to argv\n",
    "else:\n",
    "    raise AssertionError(\"Wrong input type\")"
   ]
  },
  {
   "cell_type": "code",
   "execution_count": 10,
   "metadata": {},
   "outputs": [],
   "source": [
    "paths = []\n",
    "labels = []\n",
    "folders = []\n",
    "\n",
    "for key, items in inputs.Train.items():\n",
    "    for folder in items.Folder:\n",
    "\n",
    "        path = glob.glob(inputs.rootData + folder + '*.png')\n",
    "        label = [items.Label] * len(path)\n",
    "\n",
    "        folders.append([folder] * len(path))\n",
    "        paths.append(path)\n",
    "        labels.append(label)\n",
    "\n",
    "list_of_paths = [item for elem in paths for item in elem]\n",
    "list_of_labels = [item for elem in labels for item in elem]\n",
    "list_of_folders = [item for elem in folders for item in elem]"
   ]
  },
  {
   "cell_type": "code",
   "execution_count": 11,
   "metadata": {},
   "outputs": [],
   "source": [
    "df_train = pd.DataFrame(np.array([list_of_paths,list_of_folders,list_of_labels]).T,columns=['Paths','Folders','Label'])\n",
    "df_train['Paths'] = '../' + df_train['Paths'].str.replace('\\\\','/').str.split('/',expand=True,n=9)[9]"
   ]
  },
  {
   "cell_type": "code",
   "execution_count": 12,
   "metadata": {},
   "outputs": [
    {
     "data": {
      "text/html": [
       "<div>\n",
       "<style scoped>\n",
       "    .dataframe tbody tr th:only-of-type {\n",
       "        vertical-align: middle;\n",
       "    }\n",
       "\n",
       "    .dataframe tbody tr th {\n",
       "        vertical-align: top;\n",
       "    }\n",
       "\n",
       "    .dataframe thead th {\n",
       "        text-align: right;\n",
       "    }\n",
       "</style>\n",
       "<table border=\"1\" class=\"dataframe\">\n",
       "  <thead>\n",
       "    <tr style=\"text-align: right;\">\n",
       "      <th></th>\n",
       "      <th>Paths</th>\n",
       "      <th>Folders</th>\n",
       "      <th>Label</th>\n",
       "    </tr>\n",
       "  </thead>\n",
       "  <tbody>\n",
       "    <tr>\n",
       "      <th>0</th>\n",
       "      <td>../Data/Test_Borehole/BL-DB-1/slice00200_bbox_...</td>\n",
       "      <td>BL-DB-1/</td>\n",
       "      <td>0</td>\n",
       "    </tr>\n",
       "    <tr>\n",
       "      <th>1</th>\n",
       "      <td>../Data/Test_Borehole/BL-DB-1/slice00200_bbox_...</td>\n",
       "      <td>BL-DB-1/</td>\n",
       "      <td>0</td>\n",
       "    </tr>\n",
       "    <tr>\n",
       "      <th>2</th>\n",
       "      <td>../Data/Test_Borehole/BL-DB-1/slice00200_bbox_...</td>\n",
       "      <td>BL-DB-1/</td>\n",
       "      <td>0</td>\n",
       "    </tr>\n",
       "    <tr>\n",
       "      <th>3</th>\n",
       "      <td>../Data/Test_Borehole/BL-DB-1/slice00200_bbox_...</td>\n",
       "      <td>BL-DB-1/</td>\n",
       "      <td>0</td>\n",
       "    </tr>\n",
       "    <tr>\n",
       "      <th>4</th>\n",
       "      <td>../Data/Test_Borehole/BL-DB-1/slice00200_bbox_...</td>\n",
       "      <td>BL-DB-1/</td>\n",
       "      <td>0</td>\n",
       "    </tr>\n",
       "    <tr>\n",
       "      <th>...</th>\n",
       "      <td>...</td>\n",
       "      <td>...</td>\n",
       "      <td>...</td>\n",
       "    </tr>\n",
       "    <tr>\n",
       "      <th>11583</th>\n",
       "      <td>../Data/Test_Borehole/OL-DB-3/slice00850_bbox_...</td>\n",
       "      <td>OL-DB-3/</td>\n",
       "      <td>4</td>\n",
       "    </tr>\n",
       "    <tr>\n",
       "      <th>11584</th>\n",
       "      <td>../Data/Test_Borehole/OL-DB-3/slice00850_bbox_...</td>\n",
       "      <td>OL-DB-3/</td>\n",
       "      <td>4</td>\n",
       "    </tr>\n",
       "    <tr>\n",
       "      <th>11585</th>\n",
       "      <td>../Data/Test_Borehole/OL-DB-3/slice00850_mar_r...</td>\n",
       "      <td>OL-DB-3/</td>\n",
       "      <td>4</td>\n",
       "    </tr>\n",
       "    <tr>\n",
       "      <th>11586</th>\n",
       "      <td>../Data/Test_Borehole/OL-DB-3/slice00850_mar_r...</td>\n",
       "      <td>OL-DB-3/</td>\n",
       "      <td>4</td>\n",
       "    </tr>\n",
       "    <tr>\n",
       "      <th>11587</th>\n",
       "      <td>../Data/Test_Borehole/OL-DB-3/slice00850_mar_r...</td>\n",
       "      <td>OL-DB-3/</td>\n",
       "      <td>4</td>\n",
       "    </tr>\n",
       "  </tbody>\n",
       "</table>\n",
       "<p>11588 rows × 3 columns</p>\n",
       "</div>"
      ],
      "text/plain": [
       "                                                   Paths   Folders Label\n",
       "0      ../Data/Test_Borehole/BL-DB-1/slice00200_bbox_...  BL-DB-1/     0\n",
       "1      ../Data/Test_Borehole/BL-DB-1/slice00200_bbox_...  BL-DB-1/     0\n",
       "2      ../Data/Test_Borehole/BL-DB-1/slice00200_bbox_...  BL-DB-1/     0\n",
       "3      ../Data/Test_Borehole/BL-DB-1/slice00200_bbox_...  BL-DB-1/     0\n",
       "4      ../Data/Test_Borehole/BL-DB-1/slice00200_bbox_...  BL-DB-1/     0\n",
       "...                                                  ...       ...   ...\n",
       "11583  ../Data/Test_Borehole/OL-DB-3/slice00850_bbox_...  OL-DB-3/     4\n",
       "11584  ../Data/Test_Borehole/OL-DB-3/slice00850_bbox_...  OL-DB-3/     4\n",
       "11585  ../Data/Test_Borehole/OL-DB-3/slice00850_mar_r...  OL-DB-3/     4\n",
       "11586  ../Data/Test_Borehole/OL-DB-3/slice00850_mar_r...  OL-DB-3/     4\n",
       "11587  ../Data/Test_Borehole/OL-DB-3/slice00850_mar_r...  OL-DB-3/     4\n",
       "\n",
       "[11588 rows x 3 columns]"
      ]
     },
     "execution_count": 12,
     "metadata": {},
     "output_type": "execute_result"
    }
   ],
   "source": [
    "df_train"
   ]
  },
  {
   "cell_type": "code",
   "execution_count": 13,
   "metadata": {},
   "outputs": [],
   "source": [
    "df_train_mar = df_train.loc[df_train.Paths.str.find('mar',start=-16) > -1, :].reset_index(drop=True)"
   ]
  },
  {
   "cell_type": "code",
   "execution_count": 14,
   "metadata": {},
   "outputs": [],
   "source": [
    "# Loop groupby label and every combination of folders\n",
    "lists = [i for folders_all in df_train_mar.groupby(by='Label')['Folders'].unique().to_list() for i in combinations(folders_all,r=2)]\n",
    "\n",
    "for i in range(3):\n",
    "    train_folders = [item for t in lists[i::3] for item in t]\n",
    "    test_folders = list(set(df_train_mar['Folders'].unique()).difference(set(train_folders)))\n",
    "\n",
    "    df_train_mar.loc[df_train_mar['Folders'].isin(train_folders),:].groupby(by=['Label','Folders']).sample(500,replace=True,random_state=0).reset_index(drop=True).to_csv(f'borehole/train_mar_{i}.csv')\n",
    "    df_train_mar.loc[df_train_mar['Folders'].isin(test_folders),:].groupby(by=['Label','Folders']).sample(200,replace=True,random_state=0).reset_index(drop=True).to_csv(f'borehole/test_mar_{i}.csv')"
   ]
  },
  {
   "cell_type": "markdown",
   "metadata": {},
   "source": [
    "### Test Laboratory"
   ]
  },
  {
   "cell_type": "code",
   "execution_count": 16,
   "metadata": {},
   "outputs": [],
   "source": [
    "ifile = 'dataset_lab_train_test.yaml'\n",
    "\n",
    "if os.path.isfile(ifile) and os.path.splitext(ifile)[-1] in [\".yaml\",\".yml\"]:\n",
    "    inputs = AttrDict.from_yaml_path(ifile) # change to argv\n",
    "else:\n",
    "    raise AssertionError(\"Wrong input type\")"
   ]
  },
  {
   "cell_type": "markdown",
   "metadata": {},
   "source": [
    "#### Train"
   ]
  },
  {
   "cell_type": "code",
   "execution_count": 17,
   "metadata": {},
   "outputs": [],
   "source": [
    "paths = []\n",
    "labels = []\n",
    "folders = []\n",
    "\n",
    "for key, items in inputs.Train.items():\n",
    "    for folder in items.Folder:\n",
    "\n",
    "        path = glob.glob(inputs.rootData + folder + '*.png')\n",
    "        label = [items.Label] * len(path)\n",
    "\n",
    "        folders.append([folder] * len(path))\n",
    "        paths.append(path)\n",
    "        labels.append(label)\n",
    "\n",
    "list_of_paths = [item for elem in paths for item in elem]\n",
    "list_of_labels = [item for elem in labels for item in elem]\n",
    "list_of_folders = [item for elem in folders for item in elem]"
   ]
  },
  {
   "cell_type": "code",
   "execution_count": 18,
   "metadata": {},
   "outputs": [],
   "source": [
    "df_train = pd.DataFrame(np.array([list_of_paths,list_of_folders,list_of_labels]).T,columns=['Paths','Folders','Label'])\n",
    "df_train['Paths'] = '../' + df_train['Paths'].str.replace('\\\\','/').str.split('/',expand=True,n=9)[9]"
   ]
  },
  {
   "cell_type": "code",
   "execution_count": 19,
   "metadata": {},
   "outputs": [],
   "source": [
    "df_train_mar = df_train.loc[df_train.Paths.str.find('mar',start=-16) > -1, :].reset_index(drop=True)"
   ]
  },
  {
   "cell_type": "code",
   "execution_count": 20,
   "metadata": {},
   "outputs": [
    {
     "data": {
      "text/html": [
       "<div>\n",
       "<style scoped>\n",
       "    .dataframe tbody tr th:only-of-type {\n",
       "        vertical-align: middle;\n",
       "    }\n",
       "\n",
       "    .dataframe tbody tr th {\n",
       "        vertical-align: top;\n",
       "    }\n",
       "\n",
       "    .dataframe thead th {\n",
       "        text-align: right;\n",
       "    }\n",
       "</style>\n",
       "<table border=\"1\" class=\"dataframe\">\n",
       "  <thead>\n",
       "    <tr style=\"text-align: right;\">\n",
       "      <th></th>\n",
       "      <th>Paths</th>\n",
       "      <th>Folders</th>\n",
       "      <th>Label</th>\n",
       "    </tr>\n",
       "  </thead>\n",
       "  <tbody>\n",
       "    <tr>\n",
       "      <th>0</th>\n",
       "      <td>../Data/Train/BL3-1-DL/slice00200 (2020_05_17 ...</td>\n",
       "      <td>BL3-1-DL/</td>\n",
       "      <td>0</td>\n",
       "    </tr>\n",
       "    <tr>\n",
       "      <th>1</th>\n",
       "      <td>../Data/Train/BL3-1-DL/slice00200 (2020_05_17 ...</td>\n",
       "      <td>BL3-1-DL/</td>\n",
       "      <td>0</td>\n",
       "    </tr>\n",
       "    <tr>\n",
       "      <th>2</th>\n",
       "      <td>../Data/Train/BL3-1-DL/slice00200 (2020_05_17 ...</td>\n",
       "      <td>BL3-1-DL/</td>\n",
       "      <td>0</td>\n",
       "    </tr>\n",
       "    <tr>\n",
       "      <th>3</th>\n",
       "      <td>../Data/Train/BL3-1-DL/slice00200 (2020_05_17 ...</td>\n",
       "      <td>BL3-1-DL/</td>\n",
       "      <td>0</td>\n",
       "    </tr>\n",
       "    <tr>\n",
       "      <th>4</th>\n",
       "      <td>../Data/Train/BL3-1-DL/slice00200 (2020_05_17 ...</td>\n",
       "      <td>BL3-1-DL/</td>\n",
       "      <td>0</td>\n",
       "    </tr>\n",
       "    <tr>\n",
       "      <th>...</th>\n",
       "      <td>...</td>\n",
       "      <td>...</td>\n",
       "      <td>...</td>\n",
       "    </tr>\n",
       "    <tr>\n",
       "      <th>6042</th>\n",
       "      <td>../Data/Train/OL4-3-DL/slice01280 (2020_05_17 ...</td>\n",
       "      <td>OL4-3-DL/</td>\n",
       "      <td>4</td>\n",
       "    </tr>\n",
       "    <tr>\n",
       "      <th>6043</th>\n",
       "      <td>../Data/Train/OL4-3-DL/slice01290 (2020_05_17 ...</td>\n",
       "      <td>OL4-3-DL/</td>\n",
       "      <td>4</td>\n",
       "    </tr>\n",
       "    <tr>\n",
       "      <th>6044</th>\n",
       "      <td>../Data/Train/OL4-3-DL/slice01290 (2020_05_17 ...</td>\n",
       "      <td>OL4-3-DL/</td>\n",
       "      <td>4</td>\n",
       "    </tr>\n",
       "    <tr>\n",
       "      <th>6045</th>\n",
       "      <td>../Data/Train/OL4-3-DL/slice01300 (2020_05_17 ...</td>\n",
       "      <td>OL4-3-DL/</td>\n",
       "      <td>4</td>\n",
       "    </tr>\n",
       "    <tr>\n",
       "      <th>6046</th>\n",
       "      <td>../Data/Train/OL4-3-DL/slice01300 (2020_05_17 ...</td>\n",
       "      <td>OL4-3-DL/</td>\n",
       "      <td>4</td>\n",
       "    </tr>\n",
       "  </tbody>\n",
       "</table>\n",
       "<p>6047 rows × 3 columns</p>\n",
       "</div>"
      ],
      "text/plain": [
       "                                                  Paths    Folders Label\n",
       "0     ../Data/Train/BL3-1-DL/slice00200 (2020_05_17 ...  BL3-1-DL/     0\n",
       "1     ../Data/Train/BL3-1-DL/slice00200 (2020_05_17 ...  BL3-1-DL/     0\n",
       "2     ../Data/Train/BL3-1-DL/slice00200 (2020_05_17 ...  BL3-1-DL/     0\n",
       "3     ../Data/Train/BL3-1-DL/slice00200 (2020_05_17 ...  BL3-1-DL/     0\n",
       "4     ../Data/Train/BL3-1-DL/slice00200 (2020_05_17 ...  BL3-1-DL/     0\n",
       "...                                                 ...        ...   ...\n",
       "6042  ../Data/Train/OL4-3-DL/slice01280 (2020_05_17 ...  OL4-3-DL/     4\n",
       "6043  ../Data/Train/OL4-3-DL/slice01290 (2020_05_17 ...  OL4-3-DL/     4\n",
       "6044  ../Data/Train/OL4-3-DL/slice01290 (2020_05_17 ...  OL4-3-DL/     4\n",
       "6045  ../Data/Train/OL4-3-DL/slice01300 (2020_05_17 ...  OL4-3-DL/     4\n",
       "6046  ../Data/Train/OL4-3-DL/slice01300 (2020_05_17 ...  OL4-3-DL/     4\n",
       "\n",
       "[6047 rows x 3 columns]"
      ]
     },
     "execution_count": 20,
     "metadata": {},
     "output_type": "execute_result"
    }
   ],
   "source": [
    "df_train_mar"
   ]
  },
  {
   "cell_type": "code",
   "execution_count": 21,
   "metadata": {},
   "outputs": [],
   "source": [
    "df_train_mar.groupby(by=['Label','Folders']).sample(500,replace=True,random_state=0).reset_index(drop=True).to_csv(f'lab/train_test_train_mar.csv')"
   ]
  },
  {
   "cell_type": "markdown",
   "metadata": {},
   "source": [
    "#### Test"
   ]
  },
  {
   "cell_type": "code",
   "execution_count": 22,
   "metadata": {},
   "outputs": [],
   "source": [
    "paths = []\n",
    "labels = []\n",
    "folders = []\n",
    "\n",
    "for key, items in inputs.Test.items():\n",
    "    for folder in items.Folder:\n",
    "\n",
    "        path = glob.glob(inputs.rootData + folder + '*.png')\n",
    "        label = [items.Label] * len(path)\n",
    "\n",
    "        folders.append([folder] * len(path))\n",
    "        paths.append(path)\n",
    "        labels.append(label)\n",
    "\n",
    "list_of_paths = [item for elem in paths for item in elem]\n",
    "list_of_labels = [item for elem in labels for item in elem]\n",
    "list_of_folders = [item for elem in folders for item in elem]"
   ]
  },
  {
   "cell_type": "code",
   "execution_count": 23,
   "metadata": {},
   "outputs": [],
   "source": [
    "df_test = pd.DataFrame(np.array([list_of_paths,list_of_folders,list_of_labels]).T,columns=['Paths','Folders','Label'])\n",
    "df_test['Paths'] = '../' + df_test['Paths'].str.replace('\\\\','/').str.split('/',expand=True,n=9)[9]"
   ]
  },
  {
   "cell_type": "code",
   "execution_count": 24,
   "metadata": {},
   "outputs": [],
   "source": [
    "df_test_mar = df_test.loc[df_test.Paths.str.find('mar',start=-16) > -1, :].reset_index(drop=True)"
   ]
  },
  {
   "cell_type": "code",
   "execution_count": 25,
   "metadata": {},
   "outputs": [],
   "source": [
    "df_test_mar.groupby(by=['Label','Folders']).sample(200,replace=True,random_state=0).reset_index(drop=True).to_csv(f'lab/train_test_test_mar.csv')"
   ]
  },
  {
   "cell_type": "markdown",
   "metadata": {},
   "source": [
    "### Test Boreholes"
   ]
  },
  {
   "cell_type": "code",
   "execution_count": 26,
   "metadata": {},
   "outputs": [],
   "source": [
    "ifile = 'dataset_borehole_train_test.yaml'\n",
    "\n",
    "if os.path.isfile(ifile) and os.path.splitext(ifile)[-1] in [\".yaml\",\".yml\"]:\n",
    "    inputs = AttrDict.from_yaml_path(ifile) # change to argv\n",
    "else:\n",
    "    raise AssertionError(\"Wrong input type\")"
   ]
  },
  {
   "cell_type": "markdown",
   "metadata": {},
   "source": [
    "#### Train"
   ]
  },
  {
   "cell_type": "code",
   "execution_count": 28,
   "metadata": {},
   "outputs": [],
   "source": [
    "paths = []\n",
    "labels = []\n",
    "folders = []\n",
    "\n",
    "for key, items in inputs.Train.items():\n",
    "    for folder in items.Folder:\n",
    "\n",
    "        path = glob.glob(inputs.rootData + folder + '*.png')\n",
    "        label = [items.Label] * len(path)\n",
    "\n",
    "        folders.append([folder] * len(path))\n",
    "        paths.append(path)\n",
    "        labels.append(label)\n",
    "\n",
    "list_of_paths = [item for elem in paths for item in elem]\n",
    "list_of_labels = [item for elem in labels for item in elem]\n",
    "list_of_folders = [item for elem in folders for item in elem]"
   ]
  },
  {
   "cell_type": "code",
   "execution_count": 29,
   "metadata": {},
   "outputs": [],
   "source": [
    "df_train = pd.DataFrame(np.array([list_of_paths,list_of_folders,list_of_labels]).T,columns=['Paths','Folders','Label'])\n",
    "df_train['Paths'] = '../' + df_train['Paths'].str.replace('\\\\','/').str.split('/',expand=True,n=9)[9]"
   ]
  },
  {
   "cell_type": "code",
   "execution_count": 30,
   "metadata": {},
   "outputs": [],
   "source": [
    "df_train_mar = df_train.loc[df_train.Paths.str.find('mar',start=-16) > -1, :].reset_index(drop=True)"
   ]
  },
  {
   "cell_type": "code",
   "execution_count": 31,
   "metadata": {},
   "outputs": [],
   "source": [
    "df_train_mar.groupby(by=['Label','Folders']).sample(500,replace=True,random_state=0).reset_index(drop=True).to_csv(f'borehole/train_test_train_mar.csv')"
   ]
  },
  {
   "cell_type": "markdown",
   "metadata": {},
   "source": [
    "#### Test"
   ]
  },
  {
   "cell_type": "code",
   "execution_count": 32,
   "metadata": {},
   "outputs": [],
   "source": [
    "paths = []\n",
    "labels = []\n",
    "folders = []\n",
    "\n",
    "for key, items in inputs.Test.items():\n",
    "    for folder in items.Folder:\n",
    "\n",
    "        path = glob.glob(inputs.rootData + folder + '*.png')\n",
    "        label = [items.Label] * len(path)\n",
    "\n",
    "        folders.append([folder] * len(path))\n",
    "        paths.append(path)\n",
    "        labels.append(label)\n",
    "\n",
    "list_of_paths = [item for elem in paths for item in elem]\n",
    "list_of_labels = [item for elem in labels for item in elem]\n",
    "list_of_folders = [item for elem in folders for item in elem]"
   ]
  },
  {
   "cell_type": "code",
   "execution_count": 33,
   "metadata": {},
   "outputs": [],
   "source": [
    "df_test = pd.DataFrame(np.array([list_of_paths,list_of_folders,list_of_labels]).T,columns=['Paths','Folders','Label'])\n",
    "df_test['Paths'] = '../' + df_test['Paths'].str.replace('\\\\','/').str.split('/',expand=True,n=9)[9]"
   ]
  },
  {
   "cell_type": "code",
   "execution_count": 34,
   "metadata": {},
   "outputs": [],
   "source": [
    "df_test_mar = df_test.loc[df_test.Paths.str.find('mar',start=-16) > -1, :].reset_index(drop=True)"
   ]
  },
  {
   "cell_type": "code",
   "execution_count": 35,
   "metadata": {},
   "outputs": [],
   "source": [
    "df_test_mar.groupby(by=['Label','Folders']).sample(200,replace=True,random_state=0).reset_index(drop=True).to_csv(f'borehole/train_test_test_mar.csv')"
   ]
  },
  {
   "cell_type": "code",
   "execution_count": null,
   "metadata": {},
   "outputs": [],
   "source": []
  }
 ],
 "metadata": {
  "kernelspec": {
   "display_name": "Python 3.8.5 ('base')",
   "language": "python",
   "name": "python3"
  },
  "language_info": {
   "codemirror_mode": {
    "name": "ipython",
    "version": 3
   },
   "file_extension": ".py",
   "mimetype": "text/x-python",
   "name": "python",
   "nbconvert_exporter": "python",
   "pygments_lexer": "ipython3",
   "version": "3.8.5"
  },
  "orig_nbformat": 4,
  "vscode": {
   "interpreter": {
    "hash": "5d64228e2d91b43f036dd119473b588bb267564a933c3815f2773c80d141ed77"
   }
  }
 },
 "nbformat": 4,
 "nbformat_minor": 2
}
