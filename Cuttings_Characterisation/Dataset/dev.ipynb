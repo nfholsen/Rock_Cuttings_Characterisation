{
 "cells": [
  {
   "cell_type": "markdown",
   "metadata": {},
   "source": [
    "# Dataset : \n",
    "\n",
    "- List of files to read\n",
    "- File to save to (can be created or appended)\n",
    "- Arbitrary label associated with the region, mask or whatsoever"
   ]
  },
  {
   "cell_type": "code",
   "execution_count": 53,
   "metadata": {},
   "outputs": [],
   "source": [
    "import numpy as np\n",
    "import pandas as pd\n",
    "import os\n",
    "import glob\n",
    "import sys \n",
    "\n",
    "sys.path.append('C:/Users/nilso/Documents/EPFL/MA4/PDS Turberg/Rock_Cuttings_Characterisation/')\n",
    "\n",
    "from Lamp.AttrDict.AttrDict import *"
   ]
  },
  {
   "cell_type": "code",
   "execution_count": 58,
   "metadata": {},
   "outputs": [],
   "source": [
    "ifile = 'dataset.yaml'"
   ]
  },
  {
   "cell_type": "code",
   "execution_count": 71,
   "metadata": {},
   "outputs": [],
   "source": [
    "if os.path.isfile(ifile) and os.path.splitext(ifile)[-1] in [\".yaml\",\".yml\"]:\n",
    "    inputs = AttrDict.from_yaml_path(ifile) # change to argv\n",
    "else:\n",
    "    raise AssertionError(\"Wrong input type\")"
   ]
  },
  {
   "cell_type": "code",
   "execution_count": 140,
   "metadata": {},
   "outputs": [],
   "source": [
    "paths = []\n",
    "labels = []\n",
    "\n",
    "for key, items in inputs.Train.items():\n",
    "    for folder in items.Folder:\n",
    "\n",
    "        path = glob.glob(inputs.rootData + folder + '*.png')\n",
    "        label = [items.Label] * len(path)\n",
    "\n",
    "        paths.append(path)\n",
    "        labels.append(label)"
   ]
  },
  {
   "cell_type": "code",
   "execution_count": 141,
   "metadata": {},
   "outputs": [],
   "source": [
    "list_of_paths = [item for elem in paths for item in elem]\n",
    "list_of_labels = [item for elem in labels for item in elem] "
   ]
  },
  {
   "cell_type": "code",
   "execution_count": 161,
   "metadata": {},
   "outputs": [],
   "source": [
    "df_train = pd.DataFrame(np.array([list_of_paths,list_of_labels]).T,columns=['Paths','Label'])"
   ]
  },
  {
   "cell_type": "code",
   "execution_count": 162,
   "metadata": {},
   "outputs": [],
   "source": [
    "df_train_bbox = df_train.loc[df_train.Paths.str.find('bbox',start=-16) > -1, :].reset_index(drop=True)\n",
    "df_train_mar = df_train.loc[df_train.Paths.str.find('mar',start=-16) > -1, :].reset_index(drop=True)"
   ]
  },
  {
   "cell_type": "code",
   "execution_count": 164,
   "metadata": {},
   "outputs": [],
   "source": [
    "df_train_bbox.to_csv('train_bbox.csv')\n",
    "df_train_mar.to_csv('train_mar.csv')"
   ]
  },
  {
   "cell_type": "code",
   "execution_count": null,
   "metadata": {},
   "outputs": [],
   "source": []
  }
 ],
 "metadata": {
  "interpreter": {
   "hash": "6ecc313d30624b9b9be89b8ae8b54ae9d436219e0253ae413d5b50a036da17b7"
  },
  "kernelspec": {
   "display_name": "Python 3.8.5 64-bit ('base': conda)",
   "language": "python",
   "name": "python3"
  },
  "language_info": {
   "codemirror_mode": {
    "name": "ipython",
    "version": 3
   },
   "file_extension": ".py",
   "mimetype": "text/x-python",
   "name": "python",
   "nbconvert_exporter": "python",
   "pygments_lexer": "ipython3",
   "version": "3.8.5"
  },
  "orig_nbformat": 4
 },
 "nbformat": 4,
 "nbformat_minor": 2
}
