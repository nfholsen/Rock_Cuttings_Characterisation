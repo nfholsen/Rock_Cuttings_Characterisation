{
 "cells": [
  {
   "cell_type": "markdown",
   "metadata": {},
   "source": [
    "# Dataset : \n",
    "\n",
    "- List of files to read\n",
    "- File to save to (can be created or appended)\n",
    "- Arbitrary label associated with the region, mask or whatsoever"
   ]
  },
  {
   "cell_type": "code",
   "execution_count": 1,
   "metadata": {},
   "outputs": [],
   "source": [
    "import numpy as np\n",
    "import pandas as pd\n",
    "import os\n",
    "import glob\n",
    "import sys \n",
    "\n",
    "sys.path.append('C:/Users/nilso/Documents/EPFL/MA4/PDS Turberg/Rock_Cuttings_Characterisation/')\n",
    "\n",
    "from Lamp.AttrDict.AttrDict import *"
   ]
  },
  {
   "cell_type": "markdown",
   "metadata": {},
   "source": [
    "### Train"
   ]
  },
  {
   "cell_type": "code",
   "execution_count": 12,
   "metadata": {},
   "outputs": [],
   "source": [
    "ifile = 'dataset_train.yaml'"
   ]
  },
  {
   "cell_type": "code",
   "execution_count": 13,
   "metadata": {},
   "outputs": [],
   "source": [
    "if os.path.isfile(ifile) and os.path.splitext(ifile)[-1] in [\".yaml\",\".yml\"]:\n",
    "    inputs = AttrDict.from_yaml_path(ifile) # change to argv\n",
    "else:\n",
    "    raise AssertionError(\"Wrong input type\")"
   ]
  },
  {
   "cell_type": "code",
   "execution_count": 14,
   "metadata": {},
   "outputs": [],
   "source": [
    "paths = []\n",
    "labels = []\n",
    "\n",
    "for key, items in inputs.Train.items():\n",
    "    for folder in items.Folder:\n",
    "\n",
    "        path = glob.glob(inputs.rootData + folder + '*.png')\n",
    "        label = [items.Label] * len(path)\n",
    "\n",
    "        paths.append(path)\n",
    "        labels.append(label)"
   ]
  },
  {
   "cell_type": "code",
   "execution_count": 15,
   "metadata": {},
   "outputs": [],
   "source": [
    "list_of_paths = [item for elem in paths for item in elem]\n",
    "list_of_labels = [item for elem in labels for item in elem] "
   ]
  },
  {
   "cell_type": "code",
   "execution_count": 18,
   "metadata": {},
   "outputs": [],
   "source": [
    "df_train = pd.DataFrame(np.array([list_of_paths,list_of_labels]).T,columns=['Paths','Label'])"
   ]
  },
  {
   "cell_type": "code",
   "execution_count": 19,
   "metadata": {},
   "outputs": [],
   "source": [
    "df_train['Paths'] = '../' + df_train['Paths'].str.split('/',expand=True,n=9)[9]"
   ]
  },
  {
   "cell_type": "code",
   "execution_count": 20,
   "metadata": {},
   "outputs": [],
   "source": [
    "df_train_bbox = df_train.loc[df_train.Paths.str.find('bbox',start=-16) > -1, :].reset_index(drop=True)\n",
    "df_train_mar = df_train.loc[df_train.Paths.str.find('mar',start=-16) > -1, :].reset_index(drop=True)"
   ]
  },
  {
   "cell_type": "code",
   "execution_count": 21,
   "metadata": {},
   "outputs": [],
   "source": [
    "df_train_bbox.to_csv('train_bbox.csv')\n",
    "df_train_mar.to_csv('train_mar.csv')"
   ]
  },
  {
   "cell_type": "markdown",
   "metadata": {},
   "source": [
    "### Test Laboratory"
   ]
  },
  {
   "cell_type": "code",
   "execution_count": 38,
   "metadata": {},
   "outputs": [],
   "source": [
    "ifile = 'dataset_test_lab.yaml'"
   ]
  },
  {
   "cell_type": "code",
   "execution_count": 39,
   "metadata": {},
   "outputs": [],
   "source": [
    "if os.path.isfile(ifile) and os.path.splitext(ifile)[-1] in [\".yaml\",\".yml\"]:\n",
    "    inputs = AttrDict.from_yaml_path(ifile) # change to argv\n",
    "else:\n",
    "    raise AssertionError(\"Wrong input type\")"
   ]
  },
  {
   "cell_type": "code",
   "execution_count": 45,
   "metadata": {},
   "outputs": [],
   "source": [
    "paths = []\n",
    "labels = []\n",
    "\n",
    "for key, items in inputs.Train.items():\n",
    "    for folder in items.Folder:\n",
    "\n",
    "        path = glob.glob(inputs.rootData + folder + '*.png')\n",
    "        label = [items.Label] * len(path)\n",
    "\n",
    "        paths.append(path)\n",
    "        labels.append(label)"
   ]
  },
  {
   "cell_type": "code",
   "execution_count": 46,
   "metadata": {},
   "outputs": [],
   "source": [
    "list_of_paths = [item for elem in paths for item in elem]\n",
    "list_of_labels = [item for elem in labels for item in elem]"
   ]
  },
  {
   "cell_type": "code",
   "execution_count": 47,
   "metadata": {},
   "outputs": [],
   "source": [
    "df_train = pd.DataFrame(np.array([list_of_paths,list_of_labels]).T,columns=['Paths','Label'])"
   ]
  },
  {
   "cell_type": "code",
   "execution_count": 48,
   "metadata": {},
   "outputs": [],
   "source": [
    "df_train['Paths'] = '../' + df_train['Paths'].str.split('/',expand=True,n=9)[9]"
   ]
  },
  {
   "cell_type": "code",
   "execution_count": 49,
   "metadata": {},
   "outputs": [],
   "source": [
    "df_train_bbox = df_train.loc[df_train.Paths.str.find('bbox',start=-16) > -1, :].reset_index(drop=True)\n",
    "df_train_mar = df_train.loc[df_train.Paths.str.find('mar',start=-16) > -1, :].reset_index(drop=True)"
   ]
  },
  {
   "cell_type": "code",
   "execution_count": 50,
   "metadata": {},
   "outputs": [],
   "source": [
    "df_train_bbox.to_csv('test_lab_bbox.csv')\n",
    "df_train_mar.to_csv('test_lab_mar.csv')"
   ]
  },
  {
   "cell_type": "markdown",
   "metadata": {},
   "source": [
    "### Test Boreholes"
   ]
  },
  {
   "cell_type": "code",
   "execution_count": 2,
   "metadata": {},
   "outputs": [],
   "source": [
    "ifile = 'dataset_test_borehole.yaml'"
   ]
  },
  {
   "cell_type": "code",
   "execution_count": 3,
   "metadata": {},
   "outputs": [],
   "source": [
    "if os.path.isfile(ifile) and os.path.splitext(ifile)[-1] in [\".yaml\",\".yml\"]:\n",
    "    inputs = AttrDict.from_yaml_path(ifile) # change to argv\n",
    "else:\n",
    "    raise AssertionError(\"Wrong input type\")"
   ]
  },
  {
   "cell_type": "code",
   "execution_count": 4,
   "metadata": {},
   "outputs": [],
   "source": [
    "paths = []\n",
    "labels = []\n",
    "\n",
    "for key, items in inputs.Train.items():\n",
    "    for folder in items.Folder:\n",
    "\n",
    "        path = glob.glob(inputs.rootData + folder + '*.png')\n",
    "        label = [items.Label] * len(path)\n",
    "\n",
    "        paths.append(path)\n",
    "        labels.append(label)"
   ]
  },
  {
   "cell_type": "code",
   "execution_count": 5,
   "metadata": {},
   "outputs": [],
   "source": [
    "list_of_paths = [item for elem in paths for item in elem]\n",
    "list_of_labels = [item for elem in labels for item in elem]"
   ]
  },
  {
   "cell_type": "code",
   "execution_count": 6,
   "metadata": {},
   "outputs": [],
   "source": [
    "df_train = pd.DataFrame(np.array([list_of_paths,list_of_labels]).T,columns=['Paths','Label'])"
   ]
  },
  {
   "cell_type": "code",
   "execution_count": 7,
   "metadata": {},
   "outputs": [],
   "source": [
    "df_train['Paths'] = '../' + df_train['Paths'].str.split('/',expand=True,n=9)[9]"
   ]
  },
  {
   "cell_type": "code",
   "execution_count": 8,
   "metadata": {},
   "outputs": [],
   "source": [
    "df_train_bbox = df_train.loc[df_train.Paths.str.find('bbox',start=-16) > -1, :].reset_index(drop=True)\n",
    "df_train_mar = df_train.loc[df_train.Paths.str.find('mar',start=-16) > -1, :].reset_index(drop=True)"
   ]
  },
  {
   "cell_type": "code",
   "execution_count": 9,
   "metadata": {},
   "outputs": [],
   "source": [
    "df_train_bbox.to_csv('test_borehole_bbox.csv')\n",
    "df_train_mar.to_csv('test_borehole_mar.csv')"
   ]
  },
  {
   "cell_type": "code",
   "execution_count": null,
   "metadata": {},
   "outputs": [],
   "source": []
  }
 ],
 "metadata": {
  "interpreter": {
   "hash": "6ecc313d30624b9b9be89b8ae8b54ae9d436219e0253ae413d5b50a036da17b7"
  },
  "kernelspec": {
   "display_name": "Python 3.8.5 64-bit ('base': conda)",
   "language": "python",
   "name": "python3"
  },
  "language_info": {
   "codemirror_mode": {
    "name": "ipython",
    "version": 3
   },
   "file_extension": ".py",
   "mimetype": "text/x-python",
   "name": "python",
   "nbconvert_exporter": "python",
   "pygments_lexer": "ipython3",
   "version": "3.8.5"
  },
  "orig_nbformat": 4
 },
 "nbformat": 4,
 "nbformat_minor": 2
}
