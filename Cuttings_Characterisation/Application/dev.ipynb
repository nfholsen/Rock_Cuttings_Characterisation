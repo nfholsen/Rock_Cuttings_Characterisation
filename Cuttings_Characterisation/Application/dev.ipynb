{
 "cells": [
  {
   "cell_type": "code",
   "execution_count": 6,
   "metadata": {},
   "outputs": [],
   "source": [
    "import torch\n",
    "import torch.nn as nn\n",
    "import torch.optim as optim\n",
    "from torch.optim.lr_scheduler import _LRScheduler\n",
    "\n",
    "from sklearn.model_selection import StratifiedKFold, train_test_split\n",
    "from sklearn.metrics import accuracy_score, confusion_matrix\n",
    "\n",
    "from pathlib import Path\n",
    "import numpy as np\n",
    "import pandas as pd\n",
    "import matplotlib.pyplot as plt\n",
    "import random, getopt, os, sys\n",
    "\n",
    "sys.path.append(os.path.abspath(os.path.join(os.getcwd(), '../../')))\n",
    "\n",
    "from Lamp.AttrDict.AttrDict import *\n",
    "from Lamp.Model.Dataloader import *\n",
    "from Lamp.Model.BaseModel import *"
   ]
  },
  {
   "cell_type": "code",
   "execution_count": 7,
   "metadata": {},
   "outputs": [],
   "source": [
    "def load_config(cfg_path):\n",
    "    \"\"\"  \"\"\"\n",
    "    if os.path.splitext(cfg_path)[-1] == '.json':\n",
    "        return AttrDict.from_json_path(cfg_path)\n",
    "    elif os.path.splitext(cfg_path)[-1] in ['.yaml', '.yml']:\n",
    "        return AttrDict.from_yaml_path(cfg_path)\n",
    "    else:\n",
    "        raise ValueError(f\"Unsupported config file format. Only '.json', '.yaml' and '.yml' files are supported.\")"
   ]
  },
  {
   "cell_type": "code",
   "execution_count": 1,
   "metadata": {},
   "outputs": [],
   "source": [
    "ifile = \"../Models/config/MAR_RESNET34_PADDED_256_ALL.yaml\""
   ]
  },
  {
   "cell_type": "code",
   "execution_count": 2,
   "metadata": {},
   "outputs": [
    {
     "ename": "NameError",
     "evalue": "name 'load_config' is not defined",
     "output_type": "error",
     "traceback": [
      "\u001b[1;31m---------------------------------------------------------------------------\u001b[0m",
      "\u001b[1;31mNameError\u001b[0m                                 Traceback (most recent call last)",
      "\u001b[1;32m<ipython-input-2-bde6d5e34cc3>\u001b[0m in \u001b[0;36m<module>\u001b[1;34m\u001b[0m\n\u001b[1;32m----> 1\u001b[1;33m \u001b[0minputs\u001b[0m \u001b[1;33m=\u001b[0m \u001b[0mload_config\u001b[0m\u001b[1;33m(\u001b[0m\u001b[0mifile\u001b[0m\u001b[1;33m)\u001b[0m\u001b[1;33m\u001b[0m\u001b[1;33m\u001b[0m\u001b[0m\n\u001b[0m",
      "\u001b[1;31mNameError\u001b[0m: name 'load_config' is not defined"
     ]
    }
   ],
   "source": [
    "inputs = load_config(ifile)\n"
   ]
  },
  {
   "cell_type": "code",
   "execution_count": 5,
   "metadata": {},
   "outputs": [
    {
     "ename": "NameError",
     "evalue": "name 'inputs' is not defined",
     "output_type": "error",
     "traceback": [
      "\u001b[1;31m---------------------------------------------------------------------------\u001b[0m",
      "\u001b[1;31mNameError\u001b[0m                                 Traceback (most recent call last)",
      "\u001b[1;32m<ipython-input-5-83b2d84f6b0f>\u001b[0m in \u001b[0;36m<module>\u001b[1;34m\u001b[0m\n\u001b[0;32m      1\u001b[0m \u001b[0mroot_path\u001b[0m \u001b[1;33m=\u001b[0m \u001b[0mos\u001b[0m\u001b[1;33m.\u001b[0m\u001b[0mpath\u001b[0m\u001b[1;33m.\u001b[0m\u001b[0mabspath\u001b[0m\u001b[1;33m(\u001b[0m\u001b[0mos\u001b[0m\u001b[1;33m.\u001b[0m\u001b[0mpath\u001b[0m\u001b[1;33m.\u001b[0m\u001b[0mjoin\u001b[0m\u001b[1;33m(\u001b[0m\u001b[0mos\u001b[0m\u001b[1;33m.\u001b[0m\u001b[0mgetcwd\u001b[0m\u001b[1;33m(\u001b[0m\u001b[1;33m)\u001b[0m\u001b[1;33m,\u001b[0m \u001b[1;34m'../'\u001b[0m\u001b[1;33m)\u001b[0m\u001b[1;33m)\u001b[0m\u001b[1;33m\u001b[0m\u001b[1;33m\u001b[0m\u001b[0m\n\u001b[1;32m----> 2\u001b[1;33m \u001b[0mpath_load_data\u001b[0m \u001b[1;33m=\u001b[0m \u001b[1;34mf\"{root_path}/{inputs.LoadPath}\"\u001b[0m\u001b[1;33m\u001b[0m\u001b[1;33m\u001b[0m\u001b[0m\n\u001b[0m\u001b[0;32m      3\u001b[0m \u001b[0mpath_model\u001b[0m \u001b[1;33m=\u001b[0m \u001b[1;34mf\"{root_path}/{inputs.PathSave}/{inputs.ModelName}\"\u001b[0m\u001b[1;33m\u001b[0m\u001b[1;33m\u001b[0m\u001b[0m\n\u001b[0;32m      4\u001b[0m \u001b[1;33m\u001b[0m\u001b[0m\n\u001b[0;32m      5\u001b[0m \u001b[0mmodel_name\u001b[0m \u001b[1;33m=\u001b[0m \u001b[1;34mf\"model_all.pt\"\u001b[0m\u001b[1;33m\u001b[0m\u001b[1;33m\u001b[0m\u001b[0m\n",
      "\u001b[1;31mNameError\u001b[0m: name 'inputs' is not defined"
     ]
    }
   ],
   "source": [
    "root_path = os.path.abspath(os.path.join(os.getcwd(), '../'))\n",
    "path_load_data = f\"{root_path}/{inputs.LoadPath}\"\n",
    "path_model = f\"{root_path}/{inputs.PathSave}/{inputs.ModelName}\"\n",
    "\n",
    "model_name = f\"model_all.pt\"\n",
    "save_model_path = f\"{path_model}/{model_name}\"\n",
    "\n",
    "dataframe = pd.read_csv(path_load_data,index_col=0)\n",
    "\n",
    "# Train Test Split\n",
    "_, test_dataframe = train_test_split(dataframe, test_size=(1 - inputs.TrainTestSplit),stratify=dataframe['Label'], random_state=inputs.Seed)\n",
    "\n",
    "# Reset Index\n",
    "test_dataframe = test_dataframe.reset_index(drop=True)\n",
    "\n",
    "# Samples\n",
    "test_dataframe = test_dataframe.groupby('Label').sample(20,replace=True,random_state=inputs.Seed).reset_index(drop=True)"
   ]
  },
  {
   "cell_type": "code",
   "execution_count": 51,
   "metadata": {},
   "outputs": [],
   "source": [
    "device = torch.device(\"cuda:0\" if torch.cuda.is_available() else \"cpu\")\n",
    "\n",
    "net = resnet(layers=layers,channels=channels,num_classes=classes)\n",
    "\n",
    "classifier = Classifier(\n",
    "                net=net, \n",
    "                device=device\n",
    "                )\n",
    "\n",
    "classifier.load(save_model_path)\n",
    "\n",
    "pred, label = classifier.predict(test_dataloader)"
   ]
  },
  {
   "cell_type": "code",
   "execution_count": 57,
   "metadata": {},
   "outputs": [],
   "source": [
    "if os.path.isfile('comparison_data.csv'):\n",
    "    comparison_data = pd.read_csv('comparison_data.csv',index_col=0)\n",
    "else :\n",
    "    comparison_data = pd.DataFrame()\n",
    "    comparison_data['Paths'] = test_dataframe['Paths']\n",
    "    comparison_data['Label'] = test_dataframe['Label']\n",
    "\n",
    "comparison_data[f'{inputs.ModelName}_best_model'] = pred\n",
    "comparison_data[f'{inputs.ModelName}_baseline_model'] = pred\n",
    "\n",
    "comparison_data.to_csv('comparison_data.csv')"
   ]
  }
 ],
 "metadata": {
  "interpreter": {
   "hash": "c9bc2780ef9c74393fc13b2a6ebbb9325049e7560ec5b3fc49a36900b190151b"
  },
  "kernelspec": {
   "display_name": "Python 3.7.9 64-bit ('TORCH': conda)",
   "language": "python",
   "name": "python3"
  },
  "language_info": {
   "codemirror_mode": {
    "name": "ipython",
    "version": 3
   },
   "file_extension": ".py",
   "mimetype": "text/x-python",
   "name": "python",
   "nbconvert_exporter": "python",
   "pygments_lexer": "ipython3",
   "version": "3.7.9"
  },
  "orig_nbformat": 4
 },
 "nbformat": 4,
 "nbformat_minor": 2
}
