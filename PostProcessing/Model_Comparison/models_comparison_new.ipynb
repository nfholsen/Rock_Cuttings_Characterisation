{
 "cells": [
  {
   "cell_type": "markdown",
   "source": [
    "### Model Comparison Notebook"
   ],
   "metadata": {}
  },
  {
   "cell_type": "code",
   "execution_count": 1,
   "source": [
    "import numpy as np\r\n",
    "import matplotlib.pyplot as plt\r\n",
    "import pandas as pd"
   ],
   "outputs": [],
   "metadata": {}
  },
  {
   "cell_type": "code",
   "execution_count": 17,
   "source": [
    "df_data = pd.read_csv('comparison_data_new.csv',index_col=0)"
   ],
   "outputs": [],
   "metadata": {}
  },
  {
   "cell_type": "code",
   "execution_count": 18,
   "source": [
    "plt.rc('xtick', labelsize=14) \r\n",
    "plt.rc('ytick', labelsize=14)\r\n",
    "\r\n",
    "plt.rc('axes', labelsize=20)"
   ],
   "outputs": [],
   "metadata": {}
  },
  {
   "cell_type": "code",
   "execution_count": 22,
   "source": [
    "df_data['experiment'] = df_data['image_name'].str[:5]"
   ],
   "outputs": [],
   "metadata": {}
  },
  {
   "cell_type": "code",
   "execution_count": 28,
   "source": [
    "df_data[df_data['rock_type'] == df_data['best_model_'+str(i)]].groupby('experiment')['best_model_'+str(i)].count()"
   ],
   "outputs": [
    {
     "output_type": "execute_result",
     "data": {
      "text/plain": [
       "experiment\n",
       "ML-V1    16\n",
       "ML-V2    31\n",
       "MS-B1     5\n",
       "MS-M1     4\n",
       "Name: best_model_4, dtype: int64"
      ]
     },
     "metadata": {},
     "execution_count": 28
    }
   ],
   "metadata": {}
  },
  {
   "cell_type": "code",
   "execution_count": 27,
   "source": [
    "df_data['experiment'].value_counts()[0]"
   ],
   "outputs": [
    {
     "output_type": "execute_result",
     "data": {
      "text/plain": [
       "200"
      ]
     },
     "metadata": {},
     "execution_count": 27
    }
   ],
   "metadata": {}
  },
  {
   "cell_type": "code",
   "execution_count": 36,
   "source": [
    "df_acc = pd.DataFrame(columns=df_data['experiment'].unique())\r\n",
    "for i in range(5):\r\n",
    "    df_acc.loc[i,:] = df_data[df_data['rock_type'] == df_data['best_model_'+str(i)]].groupby('experiment')['best_model_'+str(i)].count()/df_data['experiment'].value_counts()[0]"
   ],
   "outputs": [
    {
     "output_type": "stream",
     "name": "stdout",
     "text": [
      "experiment\n",
      "ML-V1    0.010\n",
      "ML-V2    0.100\n",
      "MS-B1    0.035\n",
      "Name: best_model_0, dtype: float64\n",
      "experiment\n",
      "ML-V1    0.030\n",
      "ML-V2    0.065\n",
      "MS-B1    0.590\n",
      "MS-M1    0.345\n",
      "MS-M2    0.170\n",
      "Name: best_model_1, dtype: float64\n",
      "experiment\n",
      "ML-V1    0.030\n",
      "ML-V2    0.010\n",
      "MS-B1    0.080\n",
      "MS-M1    0.015\n",
      "Name: best_model_2, dtype: float64\n",
      "experiment\n",
      "ML-V1    0.080\n",
      "ML-V2    0.075\n",
      "MS-B1    0.045\n",
      "MS-M1    0.015\n",
      "Name: best_model_3, dtype: float64\n",
      "experiment\n",
      "ML-V1    0.080\n",
      "ML-V2    0.155\n",
      "MS-B1    0.025\n",
      "MS-M1    0.020\n",
      "Name: best_model_4, dtype: float64\n"
     ]
    }
   ],
   "metadata": {}
  },
  {
   "cell_type": "code",
   "execution_count": 38,
   "source": [
    "# Print accuracy in %\r\n",
    "df_acc * 100"
   ],
   "outputs": [
    {
     "output_type": "execute_result",
     "data": {
      "text/plain": [
       "  ML-V1 ML-V2 MS-B1 MS-M1 MS-M2\n",
       "0     1    10   3.5   NaN   NaN\n",
       "1     3   6.5    59  34.5    17\n",
       "2     3     1     8   1.5   NaN\n",
       "3     8   7.5   4.5   1.5   NaN\n",
       "4     8  15.5   2.5     2   NaN"
      ],
      "text/html": [
       "<div>\n",
       "<style scoped>\n",
       "    .dataframe tbody tr th:only-of-type {\n",
       "        vertical-align: middle;\n",
       "    }\n",
       "\n",
       "    .dataframe tbody tr th {\n",
       "        vertical-align: top;\n",
       "    }\n",
       "\n",
       "    .dataframe thead th {\n",
       "        text-align: right;\n",
       "    }\n",
       "</style>\n",
       "<table border=\"1\" class=\"dataframe\">\n",
       "  <thead>\n",
       "    <tr style=\"text-align: right;\">\n",
       "      <th></th>\n",
       "      <th>ML-V1</th>\n",
       "      <th>ML-V2</th>\n",
       "      <th>MS-B1</th>\n",
       "      <th>MS-M1</th>\n",
       "      <th>MS-M2</th>\n",
       "    </tr>\n",
       "  </thead>\n",
       "  <tbody>\n",
       "    <tr>\n",
       "      <th>0</th>\n",
       "      <td>1</td>\n",
       "      <td>10</td>\n",
       "      <td>3.5</td>\n",
       "      <td>NaN</td>\n",
       "      <td>NaN</td>\n",
       "    </tr>\n",
       "    <tr>\n",
       "      <th>1</th>\n",
       "      <td>3</td>\n",
       "      <td>6.5</td>\n",
       "      <td>59</td>\n",
       "      <td>34.5</td>\n",
       "      <td>17</td>\n",
       "    </tr>\n",
       "    <tr>\n",
       "      <th>2</th>\n",
       "      <td>3</td>\n",
       "      <td>1</td>\n",
       "      <td>8</td>\n",
       "      <td>1.5</td>\n",
       "      <td>NaN</td>\n",
       "    </tr>\n",
       "    <tr>\n",
       "      <th>3</th>\n",
       "      <td>8</td>\n",
       "      <td>7.5</td>\n",
       "      <td>4.5</td>\n",
       "      <td>1.5</td>\n",
       "      <td>NaN</td>\n",
       "    </tr>\n",
       "    <tr>\n",
       "      <th>4</th>\n",
       "      <td>8</td>\n",
       "      <td>15.5</td>\n",
       "      <td>2.5</td>\n",
       "      <td>2</td>\n",
       "      <td>NaN</td>\n",
       "    </tr>\n",
       "  </tbody>\n",
       "</table>\n",
       "</div>"
      ]
     },
     "metadata": {},
     "execution_count": 38
    }
   ],
   "metadata": {}
  }
 ],
 "metadata": {
  "kernelspec": {
   "name": "python3",
   "display_name": "Python 3.7.9 64-bit ('TORCH': conda)"
  },
  "language_info": {
   "codemirror_mode": {
    "name": "ipython",
    "version": 3
   },
   "file_extension": ".py",
   "mimetype": "text/x-python",
   "name": "python",
   "nbconvert_exporter": "python",
   "pygments_lexer": "ipython3",
   "version": "3.7.9"
  },
  "interpreter": {
   "hash": "c9bc2780ef9c74393fc13b2a6ebbb9325049e7560ec5b3fc49a36900b190151b"
  }
 },
 "nbformat": 4,
 "nbformat_minor": 4
}