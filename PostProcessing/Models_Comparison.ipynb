{
 "cells": [
  {
   "cell_type": "markdown",
   "metadata": {},
   "source": [
    "### Model Comparison Notebook"
   ]
  },
  {
   "cell_type": "code",
   "execution_count": 1,
   "metadata": {},
   "outputs": [],
   "source": [
    "import numpy as np\n",
    "import matplotlib.pyplot as plt\n",
    "import pandas as pd"
   ]
  },
  {
   "cell_type": "code",
   "execution_count": 2,
   "metadata": {},
   "outputs": [],
   "source": [
    "import random"
   ]
  },
  {
   "cell_type": "code",
   "execution_count": 3,
   "metadata": {},
   "outputs": [],
   "source": [
    "res_1 = np.random.normal(90,2,5)\n",
    "res_2 = np.random.normal(80,2,5)\n",
    "res_3 = np.random.normal(88,2,5)\n",
    "res_4 = np.random.normal(75,4,5)"
   ]
  },
  {
   "cell_type": "code",
   "execution_count": 4,
   "metadata": {},
   "outputs": [],
   "source": [
    "from scipy import stats"
   ]
  },
  {
   "cell_type": "code",
   "execution_count": 5,
   "metadata": {},
   "outputs": [],
   "source": [
    "def ttest(res_1,res_2):\n",
    "    stat, p_value = stats.ttest_ind(res_1, res_2)\n",
    "    return p_value"
   ]
  },
  {
   "cell_type": "code",
   "execution_count": 6,
   "metadata": {},
   "outputs": [],
   "source": [
    "def significance_level(p_value):\n",
    "    if p_value > 0.1:\n",
    "        level = None\n",
    "    elif (p_value <= 0.1) and (p_value > 0.05):\n",
    "        level = '.'\n",
    "    elif (p_value <= 0.05) and (p_value > 0.01):\n",
    "        level = '*'\n",
    "    elif (p_value <= 0.01) and (p_value > 0.001):\n",
    "        level = '**'\n",
    "    else:\n",
    "        level = '***'\n",
    "    return level"
   ]
  },
  {
   "cell_type": "code",
   "execution_count": 7,
   "metadata": {},
   "outputs": [
    {
     "data": {
      "text/plain": [
       "1.33834235308048e-05"
      ]
     },
     "execution_count": 7,
     "metadata": {},
     "output_type": "execute_result"
    }
   ],
   "source": [
    "ttest(res_1,res_2)"
   ]
  },
  {
   "cell_type": "code",
   "execution_count": 8,
   "metadata": {},
   "outputs": [
    {
     "data": {
      "text/plain": [
       "'***'"
      ]
     },
     "execution_count": 8,
     "metadata": {},
     "output_type": "execute_result"
    }
   ],
   "source": [
    "significance_level(ttest(res_1,res_2))"
   ]
  },
  {
   "cell_type": "code",
   "execution_count": 9,
   "metadata": {},
   "outputs": [],
   "source": [
    "results = [res_1,res_2,res_3,res_4]"
   ]
  },
  {
   "cell_type": "code",
   "execution_count": 10,
   "metadata": {},
   "outputs": [],
   "source": [
    "pos = np.arange(len(results))"
   ]
  },
  {
   "cell_type": "code",
   "execution_count": 11,
   "metadata": {},
   "outputs": [],
   "source": [
    "means = np.mean(results,axis=1)\n",
    "stds = np.std(results,axis=1)"
   ]
  },
  {
   "cell_type": "code",
   "execution_count": 17,
   "metadata": {},
   "outputs": [],
   "source": [
    "tests = {'0:1':[res_1,res_2],\n",
    "        '0:2':[res_1,res_3],\n",
    "        '1:3':[res_2,res_4]}\n"
   ]
  },
  {
   "cell_type": "code",
   "execution_count": 18,
   "metadata": {},
   "outputs": [
    {
     "data": {
      "text/plain": [
       "[0, 1]"
      ]
     },
     "execution_count": 18,
     "metadata": {},
     "output_type": "execute_result"
    }
   ],
   "source": [
    "[int(i) for i in list(tests.keys())[0].split(':')]"
   ]
  },
  {
   "cell_type": "code",
   "execution_count": 72,
   "metadata": {},
   "outputs": [],
   "source": [
    "def add_bar(model_1,model_2,res_1,res_2,y,ax):\n",
    "    \"\"\"\n",
    "    model_1,model_2 : int of the model tested\n",
    "    ax : axis from matplotlib figure\n",
    "    \"\"\"\n",
    "    ax.plot([pos[model_1],pos[model_1]],[y,y+3],'k')\n",
    "    ax.plot([pos[model_1],pos[model_2]],[y+3,y+3],'k')\n",
    "    ax.plot([pos[model_2],pos[model_2]],[y+3,y],'k')\n",
    "\n",
    "    ax.text((pos[model_2]-pos[model_1])/2+pos[model_1], y+3-1, significance_level(ttest(res_1,res_2)),\n",
    "         {'color': 'black', 'fontsize': 16, 'ha': 'center', 'va': 'center',\n",
    "          'bbox': dict( fc=\"white\", ec=\"white\", pad=3)})\n",
    "    return y+5"
   ]
  },
  {
   "cell_type": "code",
   "execution_count": 73,
   "metadata": {},
   "outputs": [
    {
     "data": {
      "text/plain": [
       "[array([89.94178207, 87.55222416, 89.7224187 , 89.21523331, 89.24276756]),\n",
       " array([78.58540365, 78.52618586, 81.864382  , 81.62521821, 77.189308  ])]"
      ]
     },
     "execution_count": 73,
     "metadata": {},
     "output_type": "execute_result"
    }
   ],
   "source": [
    "list(tests.values())[0]"
   ]
  },
  {
   "cell_type": "code",
   "execution_count": 74,
   "metadata": {},
   "outputs": [
    {
     "name": "stdout",
     "output_type": "stream",
     "text": [
      "[0, 1]\n",
      "[0, 2]\n",
      "[1, 3]\n"
     ]
    },
    {
     "data": {
      "image/png": "[encoded data removed]",
      "text/plain": [
       "<Figure size 720x504 with 1 Axes>"
      ]
     },
     "metadata": {
      "needs_background": "light"
     },
     "output_type": "display_data"
    }
   ],
   "source": [
    "fig, ax = plt.subplots(figsize=(10,7))\n",
    "\n",
    "ax.bar(pos,means,yerr=stds)\n",
    "y = 95\n",
    "for i in range(len(list(tests.keys()))) :\n",
    "    models = [int(i) for i in list(tests.keys())[i].split(':')]\n",
    "    print(models)\n",
    "    res_1 = list(tests.values())[i][0]\n",
    "    res_2 = list(tests.values())[i][1]\n",
    "    y = add_bar(models[0],models[1],res_1,res_2,y,ax=ax)\n",
    "\n",
    "plt.savefig('test.png')"
   ]
  },
  {
   "cell_type": "code",
   "execution_count": null,
   "metadata": {},
   "outputs": [],
   "source": []
  },
  {
   "cell_type": "code",
   "execution_count": null,
   "metadata": {},
   "outputs": [],
   "source": []
  }
 ],
 "metadata": {
  "kernelspec": {
   "display_name": "Python 3",
   "language": "python",
   "name": "python3"
  },
  "language_info": {
   "codemirror_mode": {
    "name": "ipython",
    "version": 3
   },
   "file_extension": ".py",
   "mimetype": "text/x-python",
   "name": "python",
   "nbconvert_exporter": "python",
   "pygments_lexer": "ipython3",
   "version": "3.7.3"
  }
 },
 "nbformat": 4,
 "nbformat_minor": 4
}
